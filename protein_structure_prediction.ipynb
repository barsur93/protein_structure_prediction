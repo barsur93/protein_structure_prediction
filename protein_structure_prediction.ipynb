{
 "cells": [
  {
   "cell_type": "markdown",
   "id": "0c26b5db-0053-4930-a069-338114389fe7",
   "metadata": {},
   "source": [
    "## __proteinSSpredictor__"
   ]
  },
  {
   "cell_type": "markdown",
   "id": "2546f57f-1e11-49ef-b0a7-50cabaefaa9c",
   "metadata": {},
   "source": [
    "This projects constitutes a final project for Data Science Bootcamp organised by Sages and aims at providing a deep-learning-based approach to predict secondary structure of the protein based on its primary sequence of the amino acids."
   ]
  },
  {
   "cell_type": "markdown",
   "id": "43949779-cf2c-41be-adc5-63ab144d3d60",
   "metadata": {},
   "source": [
    "## __Table of contents__\n",
    "1. Abstract\n",
    "2. Source of raw sequences\n",
    "3. Curation of the dataset\n",
    "4. Prerequisites\n",
    "5. Raw data processing\n",
    "6. Model training\n",
    "7. Where is the model making errors?\n",
    "8. Summary\n",
    "9. References"
   ]
  },
  {
   "cell_type": "markdown",
   "id": "163c6be5-09fb-452f-a646-a47daa9bb979",
   "metadata": {},
   "source": [
    "## __1. Abstract__"
   ]
  },
  {
   "cell_type": "markdown",
   "id": "fb68749b-b100-4385-ac0a-1cf9098fec27",
   "metadata": {},
   "source": [
    "to do"
   ]
  },
  {
   "cell_type": "markdown",
   "id": "c24ac610-f516-4f50-b202-de8921667f1d",
   "metadata": {},
   "source": [
    "## __2. Source of raw sequences__"
   ]
  },
  {
   "cell_type": "markdown",
   "id": "d8991bec-68c3-4625-bfd9-fd967098f21a",
   "metadata": {},
   "source": [
    "Preparation of the updated dataset analogous to https://www.kaggle.com/alfrandom/protein-secondary-structure\n",
    "\n",
    "Following steps from https://github.com/zyxue/pdb-secondary-structure the secondary structure data was downloaded by"
   ]
  },
  {
   "cell_type": "markdown",
   "id": "c14dce5d-97fe-4545-9e3f-dcf946dcd8f0",
   "metadata": {},
   "source": [
    "`DATE_STAMP=$(date  +'%Y-%m-%d')\n",
    "wget https://cdn.rcsb.org/etl/kabschSander/ss.txt.gz -O ${DATE_TAMP}-ss.txt.gz`"
   ]
  },
  {
   "cell_type": "markdown",
   "id": "ea8511d7-54b7-4b08-bb96-556c2dbd1ef8",
   "metadata": {},
   "source": [
    "Further, data was transformed to csv file analogously to https://github.com/zyxue/pdb-secondary-structure using self-implemented method (see below for more details)."
   ]
  },
  {
   "cell_type": "markdown",
   "id": "4c364584-4ffc-456d-b209-a274b4182707",
   "metadata": {},
   "source": [
    "## __3. Curation of the sequence dataset__ "
   ]
  },
  {
   "cell_type": "markdown",
   "id": "a88f60c1-f9b7-471e-bff4-10fa8f8f46fe",
   "metadata": {},
   "source": [
    "Further, recent PISCES data with removed peptides with high sequence similarity was downloaded from http://dunbrack.fccc.edu/Guoli/pisces_download.php\n",
    "\n",
    "Selected precompiled CulledPDB for further modeling was generated with following criteria:\n",
    "\n",
    "- percentage identity cutoff: 30%\n",
    "- the resolution cutoff:      2.0 Å\n",
    "- the R-factor cutoff:        0.25\n",
    "- date of generation:         2021/07/02\n",
    "- the number of sequences:    10870\n"
   ]
  },
  {
   "cell_type": "markdown",
   "id": "d655d65c-849e-4098-8b15-c7912e9586dc",
   "metadata": {},
   "source": [
    "## __4. Prerequisites__"
   ]
  },
  {
   "cell_type": "code",
   "execution_count": 1,
   "id": "23c9304a-5630-4ef9-a5cc-012a0c46f71b",
   "metadata": {},
   "outputs": [],
   "source": [
    "import pandas as pd\n",
    "import numpy as np\n",
    "import matplotlib.pyplot as plt\n"
   ]
  },
  {
   "cell_type": "markdown",
   "id": "b93d1cd4-f53d-454a-a342-a1f606cb2760",
   "metadata": {},
   "source": [
    "## __4. Raw data processing__\n",
    "At this point the raw sequences were converted to CSV file, translated to 3 letters representation, and combined with culledPDB list with reduced sequence identity to improve the model quality"
   ]
  },
  {
   "cell_type": "code",
   "execution_count": 9,
   "id": "788cafc3-76e7-4dcf-8038-89860700f7c2",
   "metadata": {
    "tags": []
   },
   "outputs": [],
   "source": [
    "from tools import process_raw_data"
   ]
  },
  {
   "cell_type": "code",
   "execution_count": 11,
   "id": "7e854db9-7eb6-4256-beee-3cedfa28e6c0",
   "metadata": {},
   "outputs": [],
   "source": [
    "processing = process_raw_data.Sequences()"
   ]
  },
  {
   "cell_type": "code",
   "execution_count": 2,
   "id": "00407888-c1f6-4d71-b67f-a39e6bce8eef",
   "metadata": {},
   "outputs": [
    {
     "name": "stdout",
     "output_type": "stream",
     "text": [
      "processed 477153 sequences\n",
      "CPU times: user 10.9 s, sys: 427 ms, total: 11.3 s\n",
      "Wall time: 11.8 s\n"
     ]
    }
   ],
   "source": [
    "%time sequences_df = processing.process_raw_sequences('../data/2021-07-09-ss.txt.gz')"
   ]
  },
  {
   "cell_type": "code",
   "execution_count": 12,
   "id": "0103cad8-c1ff-436b-b1e3-e28fa75508b8",
   "metadata": {},
   "outputs": [],
   "source": [
    "#optional for faster processing:\n",
    "sequences_df = pd.read_csv('../data/2021-07-09-ss.csv')\n"
   ]
  },
  {
   "cell_type": "markdown",
   "id": "4cba3ed6-cdec-418f-99c5-012fb71e40a7",
   "metadata": {},
   "source": [
    "The set of raw sequences before processing with CulledPDB dataset contains 477154 and includes information about the sequence PDB ID code, protein chain and its primary sequence together with the secondary structure sequence"
   ]
  },
  {
   "cell_type": "code",
   "execution_count": 13,
   "id": "15f70d29-4960-4645-9d14-18a3a0fd0571",
   "metadata": {},
   "outputs": [
    {
     "data": {
      "text/plain": [
       "(477154, 4)"
      ]
     },
     "execution_count": 13,
     "metadata": {},
     "output_type": "execute_result"
    }
   ],
   "source": [
    "sequences_df.shape"
   ]
  },
  {
   "cell_type": "code",
   "execution_count": 14,
   "id": "f5216931-5d7b-4db7-a8c6-52ad473a4ccf",
   "metadata": {},
   "outputs": [
    {
     "data": {
      "text/html": [
       "<div>\n",
       "<style scoped>\n",
       "    .dataframe tbody tr th:only-of-type {\n",
       "        vertical-align: middle;\n",
       "    }\n",
       "\n",
       "    .dataframe tbody tr th {\n",
       "        vertical-align: top;\n",
       "    }\n",
       "\n",
       "    .dataframe thead th {\n",
       "        text-align: right;\n",
       "    }\n",
       "</style>\n",
       "<table border=\"1\" class=\"dataframe\">\n",
       "  <thead>\n",
       "    <tr style=\"text-align: right;\">\n",
       "      <th></th>\n",
       "      <th>pdb_id</th>\n",
       "      <th>chain</th>\n",
       "      <th>sequence</th>\n",
       "      <th>secondary_struct</th>\n",
       "    </tr>\n",
       "  </thead>\n",
       "  <tbody>\n",
       "    <tr>\n",
       "      <th>0</th>\n",
       "      <td>101M</td>\n",
       "      <td>A</td>\n",
       "      <td>MVLSEGEWQLVLHVWAKVEADVAGHGQDILIRLFKSHPETLEKFDR...</td>\n",
       "      <td>CCCCHHHHHHHHHHHHHHGGGHHHHHHHHHHHHHHHCGGGGGGCTT...</td>\n",
       "    </tr>\n",
       "    <tr>\n",
       "      <th>1</th>\n",
       "      <td>102L</td>\n",
       "      <td>A</td>\n",
       "      <td>MNIFEMLRIDEGLRLKIYKDTEGYYTIGIGHLLTKSPSLNAAAKSE...</td>\n",
       "      <td>CCHHHHHHHHHCCEEEEEECTTSCEEEETTEEEESSSCTTTHHHHH...</td>\n",
       "    </tr>\n",
       "    <tr>\n",
       "      <th>2</th>\n",
       "      <td>102M</td>\n",
       "      <td>A</td>\n",
       "      <td>MVLSEGEWQLVLHVWAKVEADVAGHGQDILIRLFKSHPETLEKFDR...</td>\n",
       "      <td>CCCCHHHHHHHHHHHHHHGGGHHHHHHHHHHHHHHHCGGGGGGCTT...</td>\n",
       "    </tr>\n",
       "    <tr>\n",
       "      <th>3</th>\n",
       "      <td>103L</td>\n",
       "      <td>A</td>\n",
       "      <td>MNIFEMLRIDEGLRLKIYKDTEGYYTIGIGHLLTKSPSLNSLDAAK...</td>\n",
       "      <td>CCHHHHHHHHHCCEEEEEECTTSCEEEETTEECCCCCCCCCHHHHH...</td>\n",
       "    </tr>\n",
       "    <tr>\n",
       "      <th>4</th>\n",
       "      <td>103M</td>\n",
       "      <td>A</td>\n",
       "      <td>MVLSEGEWQLVLHVWAKVEADVAGHGQDILIRLFKSHPETLEKFDR...</td>\n",
       "      <td>CCCCHHHHHHHHHHHHHHGGGHHHHHHHHHHHHHHHCGGGGGGCTT...</td>\n",
       "    </tr>\n",
       "  </tbody>\n",
       "</table>\n",
       "</div>"
      ],
      "text/plain": [
       "  pdb_id chain                                           sequence  \\\n",
       "0   101M     A  MVLSEGEWQLVLHVWAKVEADVAGHGQDILIRLFKSHPETLEKFDR...   \n",
       "1   102L     A  MNIFEMLRIDEGLRLKIYKDTEGYYTIGIGHLLTKSPSLNAAAKSE...   \n",
       "2   102M     A  MVLSEGEWQLVLHVWAKVEADVAGHGQDILIRLFKSHPETLEKFDR...   \n",
       "3   103L     A  MNIFEMLRIDEGLRLKIYKDTEGYYTIGIGHLLTKSPSLNSLDAAK...   \n",
       "4   103M     A  MVLSEGEWQLVLHVWAKVEADVAGHGQDILIRLFKSHPETLEKFDR...   \n",
       "\n",
       "                                    secondary_struct  \n",
       "0  CCCCHHHHHHHHHHHHHHGGGHHHHHHHHHHHHHHHCGGGGGGCTT...  \n",
       "1  CCHHHHHHHHHCCEEEEEECTTSCEEEETTEEEESSSCTTTHHHHH...  \n",
       "2  CCCCHHHHHHHHHHHHHHGGGHHHHHHHHHHHHHHHCGGGGGGCTT...  \n",
       "3  CCHHHHHHHHHCCEEEEEECTTSCEEEETTEECCCCCCCCCHHHHH...  \n",
       "4  CCCCHHHHHHHHHHHHHHGGGHHHHHHHHHHHHHHHCGGGGGGCTT...  "
      ]
     },
     "execution_count": 14,
     "metadata": {},
     "output_type": "execute_result"
    }
   ],
   "source": [
    "sequences_df.head()"
   ]
  },
  {
   "cell_type": "code",
   "execution_count": 15,
   "id": "dd17fc80-1d73-44ce-bbfa-7cdd7d1f5a39",
   "metadata": {},
   "outputs": [],
   "source": [
    "pisces_df = processing.clean_pisces(pisces_file='../data/cullpdb_pc30_res2.0_R0.25_d2021_07_02_chains10870.gz')"
   ]
  },
  {
   "cell_type": "code",
   "execution_count": 16,
   "id": "809d7f1b-826b-4baa-b8c1-4fa9dcef9c97",
   "metadata": {},
   "outputs": [
    {
     "data": {
      "text/html": [
       "<div>\n",
       "<style scoped>\n",
       "    .dataframe tbody tr th:only-of-type {\n",
       "        vertical-align: middle;\n",
       "    }\n",
       "\n",
       "    .dataframe tbody tr th {\n",
       "        vertical-align: top;\n",
       "    }\n",
       "\n",
       "    .dataframe thead th {\n",
       "        text-align: right;\n",
       "    }\n",
       "</style>\n",
       "<table border=\"1\" class=\"dataframe\">\n",
       "  <thead>\n",
       "    <tr style=\"text-align: right;\">\n",
       "      <th></th>\n",
       "      <th>length</th>\n",
       "      <th>source</th>\n",
       "      <th>resolution</th>\n",
       "      <th>R_value</th>\n",
       "      <th>R_free</th>\n",
       "      <th>pdb_id</th>\n",
       "      <th>chain</th>\n",
       "    </tr>\n",
       "  </thead>\n",
       "  <tbody>\n",
       "    <tr>\n",
       "      <th>0</th>\n",
       "      <td>108</td>\n",
       "      <td>XRAY</td>\n",
       "      <td>2.0</td>\n",
       "      <td>0.21</td>\n",
       "      <td>0.25</td>\n",
       "      <td>1A1X</td>\n",
       "      <td>A</td>\n",
       "    </tr>\n",
       "    <tr>\n",
       "      <th>1</th>\n",
       "      <td>148</td>\n",
       "      <td>XRAY</td>\n",
       "      <td>1.8</td>\n",
       "      <td>0.19</td>\n",
       "      <td>0.24</td>\n",
       "      <td>1A3A</td>\n",
       "      <td>A</td>\n",
       "    </tr>\n",
       "    <tr>\n",
       "      <th>2</th>\n",
       "      <td>163</td>\n",
       "      <td>XRAY</td>\n",
       "      <td>1.8</td>\n",
       "      <td>0.21</td>\n",
       "      <td>0.30</td>\n",
       "      <td>1A73</td>\n",
       "      <td>A</td>\n",
       "    </tr>\n",
       "    <tr>\n",
       "      <th>3</th>\n",
       "      <td>226</td>\n",
       "      <td>XRAY</td>\n",
       "      <td>1.9</td>\n",
       "      <td>0.19</td>\n",
       "      <td>0.22</td>\n",
       "      <td>1A8L</td>\n",
       "      <td>A</td>\n",
       "    </tr>\n",
       "    <tr>\n",
       "      <th>4</th>\n",
       "      <td>1073</td>\n",
       "      <td>XRAY</td>\n",
       "      <td>1.8</td>\n",
       "      <td>0.19</td>\n",
       "      <td>1.00</td>\n",
       "      <td>1A9X</td>\n",
       "      <td>C</td>\n",
       "    </tr>\n",
       "  </tbody>\n",
       "</table>\n",
       "</div>"
      ],
      "text/plain": [
       "   length source  resolution  R_value  R_free pdb_id chain\n",
       "0     108   XRAY         2.0     0.21    0.25   1A1X     A\n",
       "1     148   XRAY         1.8     0.19    0.24   1A3A     A\n",
       "2     163   XRAY         1.8     0.21    0.30   1A73     A\n",
       "3     226   XRAY         1.9     0.19    0.22   1A8L     A\n",
       "4    1073   XRAY         1.8     0.19    1.00   1A9X     C"
      ]
     },
     "execution_count": 16,
     "metadata": {},
     "output_type": "execute_result"
    }
   ],
   "source": [
    "pisces_df.head()"
   ]
  },
  {
   "cell_type": "markdown",
   "id": "e49d1601-cca7-4cdf-bb2e-20c05f931404",
   "metadata": {},
   "source": [
    "The culledPDB set containts 10870 items (PDB databases records filtered by the resolution, R-value and the 30% sequence identity). It contains information about protein PDB ID code, protein chain, method used for its determination, R-value, R-value free and the length of the sequence."
   ]
  },
  {
   "cell_type": "code",
   "execution_count": 17,
   "id": "2bac6af5-d89e-4a5f-8214-acd6787ea05d",
   "metadata": {},
   "outputs": [
    {
     "data": {
      "text/plain": [
       "(10870, 7)"
      ]
     },
     "execution_count": 17,
     "metadata": {},
     "output_type": "execute_result"
    }
   ],
   "source": [
    "pisces_df.shape"
   ]
  },
  {
   "cell_type": "code",
   "execution_count": 18,
   "id": "7fee69ef-5077-4c3c-9c89-1de2ef1d33bd",
   "metadata": {},
   "outputs": [],
   "source": [
    "combined_df = processing.combine_pdb_pisces(sequences_df=sequences_df, pisces_df=pisces_df)"
   ]
  },
  {
   "cell_type": "code",
   "execution_count": 19,
   "id": "fb19ff12-03f3-4092-92b7-eabe25f8e25d",
   "metadata": {},
   "outputs": [
    {
     "data": {
      "text/html": [
       "<div>\n",
       "<style scoped>\n",
       "    .dataframe tbody tr th:only-of-type {\n",
       "        vertical-align: middle;\n",
       "    }\n",
       "\n",
       "    .dataframe tbody tr th {\n",
       "        vertical-align: top;\n",
       "    }\n",
       "\n",
       "    .dataframe thead th {\n",
       "        text-align: right;\n",
       "    }\n",
       "</style>\n",
       "<table border=\"1\" class=\"dataframe\">\n",
       "  <thead>\n",
       "    <tr style=\"text-align: right;\">\n",
       "      <th></th>\n",
       "      <th>pdb_id</th>\n",
       "      <th>chain</th>\n",
       "      <th>sequence</th>\n",
       "      <th>secondary_struct</th>\n",
       "      <th>length</th>\n",
       "      <th>source</th>\n",
       "      <th>resolution</th>\n",
       "      <th>R_value</th>\n",
       "      <th>R_free</th>\n",
       "    </tr>\n",
       "  </thead>\n",
       "  <tbody>\n",
       "    <tr>\n",
       "      <th>0</th>\n",
       "      <td>1A1X</td>\n",
       "      <td>A</td>\n",
       "      <td>GSAGEDVGAPPDHLWVHQEGIYRDEYQRTWVAVVEEETSFLRARVQ...</td>\n",
       "      <td>CCCCCCCCCCCSEEEEEETTEEEETTSCEEEEEEEECSSCEEEEEE...</td>\n",
       "      <td>108</td>\n",
       "      <td>XRAY</td>\n",
       "      <td>2.0</td>\n",
       "      <td>0.21</td>\n",
       "      <td>0.25</td>\n",
       "    </tr>\n",
       "    <tr>\n",
       "      <th>1</th>\n",
       "      <td>1A3A</td>\n",
       "      <td>A</td>\n",
       "      <td>MANLFKLGAENIFLGRKAATKEEAIRFAGEQLVKGGYVEPEYVQAM...</td>\n",
       "      <td>CCCCCCCCGGGEECSCCCSSHHHHHHHHHHHHHHTTSBCTHHHHHH...</td>\n",
       "      <td>148</td>\n",
       "      <td>XRAY</td>\n",
       "      <td>1.8</td>\n",
       "      <td>0.19</td>\n",
       "      <td>0.24</td>\n",
       "    </tr>\n",
       "    <tr>\n",
       "      <th>2</th>\n",
       "      <td>1A73</td>\n",
       "      <td>A</td>\n",
       "      <td>MALTNAQILAVIDSWEETVGQFPVITHHVPLGGGLQGTLHCYEIPL...</td>\n",
       "      <td>CCCCHHHHHHHHHHHHHHHTTSCEEEEEEEEETTEEEEEEEEBCCS...</td>\n",
       "      <td>163</td>\n",
       "      <td>XRAY</td>\n",
       "      <td>1.8</td>\n",
       "      <td>0.21</td>\n",
       "      <td>0.30</td>\n",
       "    </tr>\n",
       "    <tr>\n",
       "      <th>3</th>\n",
       "      <td>1A8L</td>\n",
       "      <td>A</td>\n",
       "      <td>MGLISDADKKVIKEEFFSKMVNPVKLIVFVRKDHCQYCDQLKQLVQ...</td>\n",
       "      <td>CCSSCHHHHHHHHHHTGGGCCSCEEEEEEECSSSCTTHHHHHHHHH...</td>\n",
       "      <td>226</td>\n",
       "      <td>XRAY</td>\n",
       "      <td>1.9</td>\n",
       "      <td>0.19</td>\n",
       "      <td>0.22</td>\n",
       "    </tr>\n",
       "    <tr>\n",
       "      <th>4</th>\n",
       "      <td>1A9X</td>\n",
       "      <td>F</td>\n",
       "      <td>IKSALLVLEDGTQFHGRAIGATGSAVGEVVFNTSMTGYQEILTDPS...</td>\n",
       "      <td>CCEEEEEETTCCEEEEEECSCSEEEEEEEEEECCSSCHHHHHTCGG...</td>\n",
       "      <td>379</td>\n",
       "      <td>XRAY</td>\n",
       "      <td>1.8</td>\n",
       "      <td>0.19</td>\n",
       "      <td>1.00</td>\n",
       "    </tr>\n",
       "  </tbody>\n",
       "</table>\n",
       "</div>"
      ],
      "text/plain": [
       "  pdb_id chain                                           sequence  \\\n",
       "0   1A1X     A  GSAGEDVGAPPDHLWVHQEGIYRDEYQRTWVAVVEEETSFLRARVQ...   \n",
       "1   1A3A     A  MANLFKLGAENIFLGRKAATKEEAIRFAGEQLVKGGYVEPEYVQAM...   \n",
       "2   1A73     A  MALTNAQILAVIDSWEETVGQFPVITHHVPLGGGLQGTLHCYEIPL...   \n",
       "3   1A8L     A  MGLISDADKKVIKEEFFSKMVNPVKLIVFVRKDHCQYCDQLKQLVQ...   \n",
       "4   1A9X     F  IKSALLVLEDGTQFHGRAIGATGSAVGEVVFNTSMTGYQEILTDPS...   \n",
       "\n",
       "                                    secondary_struct  length source  \\\n",
       "0  CCCCCCCCCCCSEEEEEETTEEEETTSCEEEEEEEECSSCEEEEEE...     108   XRAY   \n",
       "1  CCCCCCCCGGGEECSCCCSSHHHHHHHHHHHHHHTTSBCTHHHHHH...     148   XRAY   \n",
       "2  CCCCHHHHHHHHHHHHHHHTTSCEEEEEEEEETTEEEEEEEEBCCS...     163   XRAY   \n",
       "3  CCSSCHHHHHHHHHHTGGGCCSCEEEEEEECSSSCTTHHHHHHHHH...     226   XRAY   \n",
       "4  CCEEEEEETTCCEEEEEECSCSEEEEEEEEEECCSSCHHHHHTCGG...     379   XRAY   \n",
       "\n",
       "   resolution  R_value  R_free  \n",
       "0         2.0     0.21    0.25  \n",
       "1         1.8     0.19    0.24  \n",
       "2         1.8     0.21    0.30  \n",
       "3         1.9     0.19    0.22  \n",
       "4         1.8     0.19    1.00  "
      ]
     },
     "execution_count": 19,
     "metadata": {},
     "output_type": "execute_result"
    }
   ],
   "source": [
    "combined_df.head()"
   ]
  },
  {
   "cell_type": "code",
   "execution_count": 20,
   "id": "208b8e0c-7c70-47ee-a074-12ff4093840e",
   "metadata": {},
   "outputs": [
    {
     "data": {
      "text/plain": [
       "(10186, 9)"
      ]
     },
     "execution_count": 20,
     "metadata": {},
     "output_type": "execute_result"
    }
   ],
   "source": [
    "combined_df.shape"
   ]
  },
  {
   "cell_type": "markdown",
   "id": "50f38d93-3bea-4de7-8a89-ab5bfac315af",
   "metadata": {},
   "source": [
    "While intersecting raw sequences and culledPDB dataset by protein PDB ID codes and chains, we obtain slightly smaller set (10186) in then the original culledPDB (10870) due to some mismatches in the chain IDs"
   ]
  },
  {
   "cell_type": "code",
   "execution_count": 21,
   "id": "79d1c69e-4324-46eb-8a9f-e63bb2f3096b",
   "metadata": {},
   "outputs": [
    {
     "name": "stdout",
     "output_type": "stream",
     "text": [
      "['1', '2', '3', '4', 'A', 'B', 'C', 'D', 'E', 'F', 'G', 'H', 'I', 'J', 'K', 'L', 'M', 'N', 'O', 'P', 'Q', 'R', 'S', 'T', 'U', 'V', 'W', 'X', 'Y', 'Z']\n",
      "amount of unique chain IDs in PISCES dataset: 30\n"
     ]
    }
   ],
   "source": [
    "print(sorted(pisces_df.chain.unique()))\n",
    "print(f'amount of unique chain IDs in PISCES dataset: {len(pisces_df.chain.unique())}')"
   ]
  },
  {
   "cell_type": "code",
   "execution_count": 22,
   "id": "75bd4d6b-bcb4-4bbd-bd58-45c1dceb5b31",
   "metadata": {},
   "outputs": [
    {
     "name": "stdout",
     "output_type": "stream",
     "text": [
      "['0', '1', '2', '3', '4', '5', '6', '7', '8', '9', 'A', 'B', 'C', 'D', 'E', 'F', 'G', 'H', 'I', 'J', 'K', 'L', 'M', 'N', 'O', 'P', 'Q', 'R', 'S', 'T', 'U', 'V', 'W', 'X', 'Y', 'Z']\n",
      "amount of unique chain IDs in dataset of raw sequences: 36\n"
     ]
    }
   ],
   "source": [
    "print(sorted(sequences_df.chain.unique()))\n",
    "print(f'amount of unique chain IDs in dataset of raw sequences: {len(sequences_df.chain.unique())}')"
   ]
  },
  {
   "cell_type": "markdown",
   "id": "989bc5bc-8d30-46e0-9a32-bf899806a008",
   "metadata": {},
   "source": [
    "As the protein secondary structure can be represented in the extended form containing 8 secondary structure types (Q8) and simplified, containing only 3 secondary structure types (Q3), we create new column with the simplified version for modeling\n",
    "\n",
    "Q8: Q3\n",
    "\n",
    "__helices__ G, H, I: H\n",
    "\n",
    "__sheet__ B, E: E\n",
    "\n",
    "__coil__ T, S, C: C\n",
    "\n",
    "Additionally, we get rid of the remaining columns and keep just PDB ID code, sequence, extended (Q8) secondary structure representation and simplified (Q3) representation as pdb_id, seq, sst_q8 and sst_q3, respectively:"
   ]
  },
  {
   "cell_type": "code",
   "execution_count": 23,
   "id": "6f5d001d-9761-47e8-afeb-4a38f5e51082",
   "metadata": {},
   "outputs": [],
   "source": [
    "df_for_modeling = processing.generate_seq_q8_q3_representation(combined_df)"
   ]
  },
  {
   "cell_type": "code",
   "execution_count": 24,
   "id": "721a3743-3347-41bd-8a60-07f94e9266bc",
   "metadata": {},
   "outputs": [
    {
     "data": {
      "text/html": [
       "<div>\n",
       "<style scoped>\n",
       "    .dataframe tbody tr th:only-of-type {\n",
       "        vertical-align: middle;\n",
       "    }\n",
       "\n",
       "    .dataframe tbody tr th {\n",
       "        vertical-align: top;\n",
       "    }\n",
       "\n",
       "    .dataframe thead th {\n",
       "        text-align: right;\n",
       "    }\n",
       "</style>\n",
       "<table border=\"1\" class=\"dataframe\">\n",
       "  <thead>\n",
       "    <tr style=\"text-align: right;\">\n",
       "      <th></th>\n",
       "      <th>pdb_id</th>\n",
       "      <th>seq</th>\n",
       "      <th>sst_q8</th>\n",
       "      <th>sst_q3</th>\n",
       "    </tr>\n",
       "  </thead>\n",
       "  <tbody>\n",
       "    <tr>\n",
       "      <th>0</th>\n",
       "      <td>1A1X</td>\n",
       "      <td>GSAGEDVGAPPDHLWVHQEGIYRDEYQRTWVAVVEEETSFLRARVQ...</td>\n",
       "      <td>CCCCCCCCCCCSEEEEEETTEEEETTSCEEEEEEEECSSCEEEEEE...</td>\n",
       "      <td>CCCCCCCCCCCCEEEEEECCEEEECCCCEEEEEEEECCCCEEEEEE...</td>\n",
       "    </tr>\n",
       "    <tr>\n",
       "      <th>1</th>\n",
       "      <td>1A3A</td>\n",
       "      <td>MANLFKLGAENIFLGRKAATKEEAIRFAGEQLVKGGYVEPEYVQAM...</td>\n",
       "      <td>CCCCCCCCGGGEECSCCCSSHHHHHHHHHHHHHHTTSBCTHHHHHH...</td>\n",
       "      <td>CCCCCCCCHHHEECCCCCCCHHHHHHHHHHHHHHCCCECCHHHHHH...</td>\n",
       "    </tr>\n",
       "    <tr>\n",
       "      <th>2</th>\n",
       "      <td>1A73</td>\n",
       "      <td>MALTNAQILAVIDSWEETVGQFPVITHHVPLGGGLQGTLHCYEIPL...</td>\n",
       "      <td>CCCCHHHHHHHHHHHHHHHTTSCEEEEEEEEETTEEEEEEEEBCCS...</td>\n",
       "      <td>CCCCHHHHHHHHHHHHHHHCCCCEEEEEEEEECCEEEEEEEEECCC...</td>\n",
       "    </tr>\n",
       "    <tr>\n",
       "      <th>3</th>\n",
       "      <td>1A8L</td>\n",
       "      <td>MGLISDADKKVIKEEFFSKMVNPVKLIVFVRKDHCQYCDQLKQLVQ...</td>\n",
       "      <td>CCSSCHHHHHHHHHHTGGGCCSCEEEEEEECSSSCTTHHHHHHHHH...</td>\n",
       "      <td>CCCCCHHHHHHHHHHCHHHCCCCEEEEEEECCCCCCCHHHHHHHHH...</td>\n",
       "    </tr>\n",
       "    <tr>\n",
       "      <th>4</th>\n",
       "      <td>1A9X</td>\n",
       "      <td>IKSALLVLEDGTQFHGRAIGATGSAVGEVVFNTSMTGYQEILTDPS...</td>\n",
       "      <td>CCEEEEEETTCCEEEEEECSCSEEEEEEEEEECCSSCHHHHHTCGG...</td>\n",
       "      <td>CCEEEEEECCCCEEEEEECCCCEEEEEEEEEECCCCCHHHHHCCHH...</td>\n",
       "    </tr>\n",
       "    <tr>\n",
       "      <th>...</th>\n",
       "      <td>...</td>\n",
       "      <td>...</td>\n",
       "      <td>...</td>\n",
       "      <td>...</td>\n",
       "    </tr>\n",
       "    <tr>\n",
       "      <th>10181</th>\n",
       "      <td>7BU2</td>\n",
       "      <td>MSMIKSYAAKEAGGELEVYEYDPGELRPQDVEVQVDYCGICHSDLS...</td>\n",
       "      <td>CCCEEEEEESSTTCCEEEEEECCCSCCTTEEEEEEEEEEECHHHHH...</td>\n",
       "      <td>CCCEEEEEECCCCCCEEEEEECCCCCCCCEEEEEEEEEEECHHHHH...</td>\n",
       "    </tr>\n",
       "    <tr>\n",
       "      <th>10182</th>\n",
       "      <td>7BVD</td>\n",
       "      <td>MQTTANHSSRSTQTGTRAHGAALAETTSREDFRALATEHRVVPVIR...</td>\n",
       "      <td>CCCCCCCCCCCCCCCCCCCCCCTTCCCCHHHHHHHHTTCSEEEEEE...</td>\n",
       "      <td>CCCCCCCCCCCCCCCCCCCCCCCCCCCCHHHHHHHHCCCCEEEEEE...</td>\n",
       "    </tr>\n",
       "    <tr>\n",
       "      <th>10183</th>\n",
       "      <td>7BYW</td>\n",
       "      <td>MRGSHHHHHHSGQRMGMVIGIKPEHIDEYKRLHAAVWPAVLARLAE...</td>\n",
       "      <td>CCCCCCCCCCCCCEEEEEEEECGGGHHHHHHHHTTCCHHHHHHHHH...</td>\n",
       "      <td>CCCCCCCCCCCCCEEEEEEEECHHHHHHHHHHHCCCCHHHHHHHHH...</td>\n",
       "    </tr>\n",
       "    <tr>\n",
       "      <th>10184</th>\n",
       "      <td>7ODC</td>\n",
       "      <td>MSSFTKDEFDCHILDEGFTAKDILDQKINEVSSSDDKDAFYVADLG...</td>\n",
       "      <td>CCEEEETTEEEEEECSSCCHHHHHHHHHCCCCCCCCCCCEEEEEHH...</td>\n",
       "      <td>CCEEEECCEEEEEECCCCCHHHHHHHHHCCCCCCCCCCCEEEEEHH...</td>\n",
       "    </tr>\n",
       "    <tr>\n",
       "      <th>10185</th>\n",
       "      <td>8ABP</td>\n",
       "      <td>ENLKLGFLVKQPEEPWFQTEWKFADKAGKDLGFEVIKIAVPDGEKT...</td>\n",
       "      <td>CCEEEEEEESCTTSHHHHHHHHHHHHHHHHHTEEEEEEECCSHHHH...</td>\n",
       "      <td>CCEEEEEEECCCCCHHHHHHHHHHHHHHHHHCEEEEEEECCCHHHH...</td>\n",
       "    </tr>\n",
       "  </tbody>\n",
       "</table>\n",
       "<p>10186 rows × 4 columns</p>\n",
       "</div>"
      ],
      "text/plain": [
       "      pdb_id                                                seq  \\\n",
       "0       1A1X  GSAGEDVGAPPDHLWVHQEGIYRDEYQRTWVAVVEEETSFLRARVQ...   \n",
       "1       1A3A  MANLFKLGAENIFLGRKAATKEEAIRFAGEQLVKGGYVEPEYVQAM...   \n",
       "2       1A73  MALTNAQILAVIDSWEETVGQFPVITHHVPLGGGLQGTLHCYEIPL...   \n",
       "3       1A8L  MGLISDADKKVIKEEFFSKMVNPVKLIVFVRKDHCQYCDQLKQLVQ...   \n",
       "4       1A9X  IKSALLVLEDGTQFHGRAIGATGSAVGEVVFNTSMTGYQEILTDPS...   \n",
       "...      ...                                                ...   \n",
       "10181   7BU2  MSMIKSYAAKEAGGELEVYEYDPGELRPQDVEVQVDYCGICHSDLS...   \n",
       "10182   7BVD  MQTTANHSSRSTQTGTRAHGAALAETTSREDFRALATEHRVVPVIR...   \n",
       "10183   7BYW  MRGSHHHHHHSGQRMGMVIGIKPEHIDEYKRLHAAVWPAVLARLAE...   \n",
       "10184   7ODC  MSSFTKDEFDCHILDEGFTAKDILDQKINEVSSSDDKDAFYVADLG...   \n",
       "10185   8ABP  ENLKLGFLVKQPEEPWFQTEWKFADKAGKDLGFEVIKIAVPDGEKT...   \n",
       "\n",
       "                                                  sst_q8  \\\n",
       "0      CCCCCCCCCCCSEEEEEETTEEEETTSCEEEEEEEECSSCEEEEEE...   \n",
       "1      CCCCCCCCGGGEECSCCCSSHHHHHHHHHHHHHHTTSBCTHHHHHH...   \n",
       "2      CCCCHHHHHHHHHHHHHHHTTSCEEEEEEEEETTEEEEEEEEBCCS...   \n",
       "3      CCSSCHHHHHHHHHHTGGGCCSCEEEEEEECSSSCTTHHHHHHHHH...   \n",
       "4      CCEEEEEETTCCEEEEEECSCSEEEEEEEEEECCSSCHHHHHTCGG...   \n",
       "...                                                  ...   \n",
       "10181  CCCEEEEEESSTTCCEEEEEECCCSCCTTEEEEEEEEEEECHHHHH...   \n",
       "10182  CCCCCCCCCCCCCCCCCCCCCCTTCCCCHHHHHHHHTTCSEEEEEE...   \n",
       "10183  CCCCCCCCCCCCCEEEEEEEECGGGHHHHHHHHTTCCHHHHHHHHH...   \n",
       "10184  CCEEEETTEEEEEECSSCCHHHHHHHHHCCCCCCCCCCCEEEEEHH...   \n",
       "10185  CCEEEEEEESCTTSHHHHHHHHHHHHHHHHHTEEEEEEECCSHHHH...   \n",
       "\n",
       "                                                  sst_q3  \n",
       "0      CCCCCCCCCCCCEEEEEECCEEEECCCCEEEEEEEECCCCEEEEEE...  \n",
       "1      CCCCCCCCHHHEECCCCCCCHHHHHHHHHHHHHHCCCECCHHHHHH...  \n",
       "2      CCCCHHHHHHHHHHHHHHHCCCCEEEEEEEEECCEEEEEEEEECCC...  \n",
       "3      CCCCCHHHHHHHHHHCHHHCCCCEEEEEEECCCCCCCHHHHHHHHH...  \n",
       "4      CCEEEEEECCCCEEEEEECCCCEEEEEEEEEECCCCCHHHHHCCHH...  \n",
       "...                                                  ...  \n",
       "10181  CCCEEEEEECCCCCCEEEEEECCCCCCCCEEEEEEEEEEECHHHHH...  \n",
       "10182  CCCCCCCCCCCCCCCCCCCCCCCCCCCCHHHHHHHHCCCCEEEEEE...  \n",
       "10183  CCCCCCCCCCCCCEEEEEEEECHHHHHHHHHHHCCCCHHHHHHHHH...  \n",
       "10184  CCEEEECCEEEEEECCCCCHHHHHHHHHCCCCCCCCCCCEEEEEHH...  \n",
       "10185  CCEEEEEEECCCCCHHHHHHHHHHHHHHHHHCEEEEEEECCCHHHH...  \n",
       "\n",
       "[10186 rows x 4 columns]"
      ]
     },
     "execution_count": 24,
     "metadata": {},
     "output_type": "execute_result"
    }
   ],
   "source": [
    "df_for_modeling"
   ]
  },
  {
   "cell_type": "code",
   "execution_count": 69,
   "id": "fddf5784-f0d5-412a-a161-74c54adb86d2",
   "metadata": {},
   "outputs": [],
   "source": [
    "test_df = pd.DataFrame()\n",
    "test_df['seq_len'] = [len(x) for x in df_for_modeling.seq]\n",
    "test_df['sst_q8_len'] = [len(x) for x in df_for_modeling.sst_q8]\n",
    "test_df['sst_q3_len'] = [len(x) for x in df_for_modeling.sst_q3]\n",
    "\n",
    "# [len(x) for x in df_for_modeling.seq]"
   ]
  },
  {
   "cell_type": "code",
   "execution_count": 75,
   "id": "47c5d5eb-fb71-4f90-bd28-897479ff605a",
   "metadata": {},
   "outputs": [
    {
     "data": {
      "text/html": [
       "<div>\n",
       "<style scoped>\n",
       "    .dataframe tbody tr th:only-of-type {\n",
       "        vertical-align: middle;\n",
       "    }\n",
       "\n",
       "    .dataframe tbody tr th {\n",
       "        vertical-align: top;\n",
       "    }\n",
       "\n",
       "    .dataframe thead th {\n",
       "        text-align: right;\n",
       "    }\n",
       "</style>\n",
       "<table border=\"1\" class=\"dataframe\">\n",
       "  <thead>\n",
       "    <tr style=\"text-align: right;\">\n",
       "      <th></th>\n",
       "      <th>seq_len</th>\n",
       "      <th>sst_q8_len</th>\n",
       "      <th>sst_q3_len</th>\n",
       "    </tr>\n",
       "  </thead>\n",
       "  <tbody>\n",
       "  </tbody>\n",
       "</table>\n",
       "</div>"
      ],
      "text/plain": [
       "Empty DataFrame\n",
       "Columns: [seq_len, sst_q8_len, sst_q3_len]\n",
       "Index: []"
      ]
     },
     "execution_count": 75,
     "metadata": {},
     "output_type": "execute_result"
    }
   ],
   "source": [
    "test_df[test_df.sst_q3_len != test_df.sst_q8_len]"
   ]
  },
  {
   "cell_type": "code",
   "execution_count": 34,
   "id": "9a546797-f626-45e3-9683-bdfb130adeb0",
   "metadata": {},
   "outputs": [
    {
     "data": {
      "text/plain": [
       "108"
      ]
     },
     "execution_count": 34,
     "metadata": {},
     "output_type": "execute_result"
    }
   ],
   "source": [
    "len(df_for_modeling.iloc[0].seq)"
   ]
  },
  {
   "cell_type": "code",
   "execution_count": null,
   "id": "54a28847-b4da-4bef-b8c0-5196e231b0da",
   "metadata": {},
   "outputs": [],
   "source": []
  }
 ],
 "metadata": {
  "kernelspec": {
   "display_name": "Python 3",
   "language": "python",
   "name": "python3"
  },
  "language_info": {
   "codemirror_mode": {
    "name": "ipython",
    "version": 3
   },
   "file_extension": ".py",
   "mimetype": "text/x-python",
   "name": "python",
   "nbconvert_exporter": "python",
   "pygments_lexer": "ipython3",
   "version": "3.8.8"
  }
 },
 "nbformat": 4,
 "nbformat_minor": 5
}
