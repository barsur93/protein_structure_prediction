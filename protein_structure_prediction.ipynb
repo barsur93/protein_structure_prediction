{
 "cells": [
  {
   "cell_type": "code",
   "execution_count": 1,
   "id": "23c9304a-5630-4ef9-a5cc-012a0c46f71b",
   "metadata": {},
   "outputs": [],
   "source": [
    "import pandas as pd\n",
    "import numpy as np\n",
    "import matplotlib.pyplot as plt"
   ]
  },
  {
   "cell_type": "markdown",
   "id": "0c26b5db-0053-4930-a069-338114389fe7",
   "metadata": {},
   "source": [
    "# to be continued"
   ]
  },
  {
   "cell_type": "markdown",
   "id": "354abdfb-cf80-4ab2-8f63-6b40cecd9c82",
   "metadata": {},
   "source": [
    "but token works :)"
   ]
  },
  {
   "cell_type": "code",
   "execution_count": null,
   "id": "d5e17349-94b6-4011-bea7-105d3293475b",
   "metadata": {},
   "outputs": [],
   "source": []
  }
 ],
 "metadata": {
  "kernelspec": {
   "display_name": "Python 3",
   "language": "python",
   "name": "python3"
  },
  "language_info": {
   "codemirror_mode": {
    "name": "ipython",
    "version": 3
   },
   "file_extension": ".py",
   "mimetype": "text/x-python",
   "name": "python",
   "nbconvert_exporter": "python",
   "pygments_lexer": "ipython3",
   "version": "3.8.8"
  }
 },
 "nbformat": 4,
 "nbformat_minor": 5
}
