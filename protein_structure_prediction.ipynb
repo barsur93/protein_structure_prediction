{
 "cells": [
  {
   "cell_type": "markdown",
   "id": "0c26b5db-0053-4930-a069-338114389fe7",
   "metadata": {},
   "source": [
    "## __proteinSSpredictor__"
   ]
  },
  {
   "cell_type": "markdown",
   "id": "2546f57f-1e11-49ef-b0a7-50cabaefaa9c",
   "metadata": {},
   "source": [
    "This projects constitutes a final project for Data Science Bootcamp organised by Sages and aims at providing a deep-learning-based approach to predict secondary structure of the protein based on its primary sequence of the amino acids."
   ]
  },
  {
   "cell_type": "markdown",
   "id": "43949779-cf2c-41be-adc5-63ab144d3d60",
   "metadata": {},
   "source": [
    "## __Table of contents__\n",
    "1. Abstract\n",
    "2. Source of raw sequences\n",
    "3. Curation of the dataset\n",
    "4. Raw data processing\n",
    "5. Model training\n",
    "6. Where is the model making errors?\n",
    "7. Summary\n",
    "8. References"
   ]
  },
  {
   "cell_type": "markdown",
   "id": "163c6be5-09fb-452f-a646-a47daa9bb979",
   "metadata": {},
   "source": [
    "## __1. Abstract__"
   ]
  },
  {
   "cell_type": "markdown",
   "id": "fb68749b-b100-4385-ac0a-1cf9098fec27",
   "metadata": {},
   "source": [
    "to do"
   ]
  },
  {
   "cell_type": "markdown",
   "id": "c24ac610-f516-4f50-b202-de8921667f1d",
   "metadata": {},
   "source": [
    "## __2. Source of raw sequences__"
   ]
  },
  {
   "cell_type": "markdown",
   "id": "d8991bec-68c3-4625-bfd9-fd967098f21a",
   "metadata": {},
   "source": [
    "Preparation of the updated dataset analogous to https://www.kaggle.com/alfrandom/protein-secondary-structure\n",
    "\n",
    "Following steps from https://github.com/zyxue/pdb-secondary-structure the secondary structure data was downloaded by"
   ]
  },
  {
   "cell_type": "markdown",
   "id": "c14dce5d-97fe-4545-9e3f-dcf946dcd8f0",
   "metadata": {},
   "source": [
    "`DATE_STAMP=$(date  +'%Y-%m-%d')\n",
    "wget https://cdn.rcsb.org/etl/kabschSander/ss.txt.gz -O ${DATE_TAMP}-ss.txt.gz`"
   ]
  },
  {
   "cell_type": "markdown",
   "id": "ea8511d7-54b7-4b08-bb96-556c2dbd1ef8",
   "metadata": {},
   "source": [
    "Further, using script from https://github.com/zyxue/pdb-secondary-structure data was transformed to csv file\n",
    "\n",
    "python transform_ss_txt_to_csv.py -i ${DATE_STAMP}-ss.txt.gz"
   ]
  },
  {
   "cell_type": "markdown",
   "id": "4c364584-4ffc-456d-b209-a274b4182707",
   "metadata": {},
   "source": [
    "## __3. Curation of the sequence dataset__ "
   ]
  },
  {
   "cell_type": "markdown",
   "id": "a88f60c1-f9b7-471e-bff4-10fa8f8f46fe",
   "metadata": {},
   "source": [
    "Further, recent PISCES data with removed peptides with high sequence similarity was downloaded from http://dunbrack.fccc.edu/Guoli/pisces_download.php \n",
    "Selected precompiled CulledPDB for further modeling was generated with following criteria:\n",
    "\n",
    "- percentage identity cutoff: 30%\n",
    "- the resolution cutoff:      2.0Å\n",
    "- the R-factor cutoff:        0.25\n",
    "- date of generation:         2021/07/02\n",
    "- the number of sequences:    10870\n"
   ]
  },
  {
   "cell_type": "code",
   "execution_count": 1,
   "id": "23c9304a-5630-4ef9-a5cc-012a0c46f71b",
   "metadata": {},
   "outputs": [],
   "source": [
    "import pandas as pd\n",
    "import numpy as np\n",
    "import matplotlib.pyplot as plt"
   ]
  },
  {
   "cell_type": "markdown",
   "id": "b93d1cd4-f53d-454a-a342-a1f606cb2760",
   "metadata": {},
   "source": [
    "## __4. Raw data processing__\n",
    "At this point the raw sequences were converted to CSV file, translated to 3 letters representation, and combined with culledPDB list with reduced sequence identity to improve the model quality"
   ]
  },
  {
   "cell_type": "code",
   "execution_count": null,
   "id": "788cafc3-76e7-4dcf-8038-89860700f7c2",
   "metadata": {},
   "outputs": [],
   "source": []
  }
 ],
 "metadata": {
  "kernelspec": {
   "display_name": "Python 3",
   "language": "python",
   "name": "python3"
  },
  "language_info": {
   "codemirror_mode": {
    "name": "ipython",
    "version": 3
   },
   "file_extension": ".py",
   "mimetype": "text/x-python",
   "name": "python",
   "nbconvert_exporter": "python",
   "pygments_lexer": "ipython3",
   "version": "3.8.8"
  }
 },
 "nbformat": 4,
 "nbformat_minor": 5
}
