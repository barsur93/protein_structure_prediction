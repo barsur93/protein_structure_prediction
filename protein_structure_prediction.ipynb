{
 "cells": [
  {
   "cell_type": "markdown",
   "id": "0c26b5db-0053-4930-a069-338114389fe7",
   "metadata": {},
   "source": [
    "## __proteinSSpredictor__"
   ]
  },
  {
   "cell_type": "markdown",
   "id": "2546f57f-1e11-49ef-b0a7-50cabaefaa9c",
   "metadata": {},
   "source": [
    "This projects constitutes a final project for Data Science Bootcamp organised by Sages and aims at providing a deep-learning-based approach to predict secondary structure of the protein based on its primary sequence of the amino acids."
   ]
  },
  {
   "cell_type": "markdown",
   "id": "43949779-cf2c-41be-adc5-63ab144d3d60",
   "metadata": {},
   "source": [
    "## __Table of contents__\n",
    "1. Abstract\n",
    "2. Source of raw sequences\n",
    "3. Curation of the dataset\n",
    "4. Raw data processing\n",
    "5. Model training\n",
    "6. Where is the model making errors?\n",
    "7. Summary\n",
    "8. References"
   ]
  },
  {
   "cell_type": "markdown",
   "id": "163c6be5-09fb-452f-a646-a47daa9bb979",
   "metadata": {},
   "source": [
    "## __1. Abstract__"
   ]
  },
  {
   "cell_type": "markdown",
   "id": "fb68749b-b100-4385-ac0a-1cf9098fec27",
   "metadata": {},
   "source": [
    "to do"
   ]
  },
  {
   "cell_type": "markdown",
   "id": "c24ac610-f516-4f50-b202-de8921667f1d",
   "metadata": {},
   "source": [
    "## __2. Source of raw sequences__"
   ]
  },
  {
   "cell_type": "markdown",
   "id": "d8991bec-68c3-4625-bfd9-fd967098f21a",
   "metadata": {},
   "source": [
    "Preparation of the updated dataset analogous to https://www.kaggle.com/alfrandom/protein-secondary-structure\n",
    "\n",
    "Following steps from https://github.com/zyxue/pdb-secondary-structure the secondary structure data was downloaded by"
   ]
  },
  {
   "cell_type": "markdown",
   "id": "c14dce5d-97fe-4545-9e3f-dcf946dcd8f0",
   "metadata": {},
   "source": [
    "`DATE_STAMP=$(date  +'%Y-%m-%d')\n",
    "wget https://cdn.rcsb.org/etl/kabschSander/ss.txt.gz -O ${DATE_TAMP}-ss.txt.gz`"
   ]
  },
  {
   "cell_type": "markdown",
   "id": "ea8511d7-54b7-4b08-bb96-556c2dbd1ef8",
   "metadata": {},
   "source": [
    "Further, using script from https://github.com/zyxue/pdb-secondary-structure data was transformed to csv file\n",
    "\n",
    "python transform_ss_txt_to_csv.py -i ${DATE_STAMP}-ss.txt.gz"
   ]
  },
  {
   "cell_type": "markdown",
   "id": "4c364584-4ffc-456d-b209-a274b4182707",
   "metadata": {},
   "source": [
    "## __3. Curation of the sequence dataset__ "
   ]
  },
  {
   "cell_type": "markdown",
   "id": "a88f60c1-f9b7-471e-bff4-10fa8f8f46fe",
   "metadata": {},
   "source": [
    "Further, recent PISCES data with removed peptides with high sequence similarity was downloaded from http://dunbrack.fccc.edu/Guoli/pisces_download.php \n",
    "Selected precompiled CulledPDB for further modeling was generated with following criteria:\n",
    "\n",
    "- percentage identity cutoff: 30%\n",
    "- the resolution cutoff:      2.0Å\n",
    "- the R-factor cutoff:        0.25\n",
    "- date of generation:         2021/07/02\n",
    "- the number of sequences:    10870\n"
   ]
  },
  {
   "cell_type": "code",
   "execution_count": 1,
   "id": "23c9304a-5630-4ef9-a5cc-012a0c46f71b",
   "metadata": {},
   "outputs": [],
   "source": [
    "import pandas as pd\n",
    "import numpy as np\n",
    "import matplotlib.pyplot as plt"
   ]
  },
  {
   "cell_type": "markdown",
   "id": "b93d1cd4-f53d-454a-a342-a1f606cb2760",
   "metadata": {},
   "source": [
    "## __4. Raw data processing__\n",
    "At this point the raw sequences were converted to CSV file, translated to 3 letters representation, and combined with culledPDB list with reduced sequence identity to improve the model quality"
   ]
  },
  {
   "cell_type": "code",
   "execution_count": 1,
   "id": "788cafc3-76e7-4dcf-8038-89860700f7c2",
   "metadata": {
    "tags": []
   },
   "outputs": [],
   "source": [
    "from src import process_raw_data"
   ]
  },
  {
   "cell_type": "code",
   "execution_count": 2,
   "id": "00407888-c1f6-4d71-b67f-a39e6bce8eef",
   "metadata": {},
   "outputs": [],
   "source": [
    "processing = process_raw_data.Sequences()"
   ]
  },
  {
   "cell_type": "code",
   "execution_count": 3,
   "id": "15f70d29-4960-4645-9d14-18a3a0fd0571",
   "metadata": {},
   "outputs": [
    {
     "name": "stdout",
     "output_type": "stream",
     "text": [
      "processed 477153 sequences\n"
     ]
    }
   ],
   "source": [
    "sequences_df = processing.process_raw_sequences('../data/2021-07-09-ss.txt.gz')"
   ]
  },
  {
   "cell_type": "code",
   "execution_count": 4,
   "id": "6623c737-0954-4a52-8db4-8591ca8c476e",
   "metadata": {},
   "outputs": [
    {
     "data": {
      "text/plain": [
       "(477154, 4)"
      ]
     },
     "execution_count": 4,
     "metadata": {},
     "output_type": "execute_result"
    }
   ],
   "source": [
    "sequences_df.shape"
   ]
  },
  {
   "cell_type": "code",
   "execution_count": 5,
   "id": "f5216931-5d7b-4db7-a8c6-52ad473a4ccf",
   "metadata": {},
   "outputs": [
    {
     "data": {
      "text/html": [
       "<div>\n",
       "<style scoped>\n",
       "    .dataframe tbody tr th:only-of-type {\n",
       "        vertical-align: middle;\n",
       "    }\n",
       "\n",
       "    .dataframe tbody tr th {\n",
       "        vertical-align: top;\n",
       "    }\n",
       "\n",
       "    .dataframe thead th {\n",
       "        text-align: right;\n",
       "    }\n",
       "</style>\n",
       "<table border=\"1\" class=\"dataframe\">\n",
       "  <thead>\n",
       "    <tr style=\"text-align: right;\">\n",
       "      <th></th>\n",
       "      <th>pdb_id</th>\n",
       "      <th>chain</th>\n",
       "      <th>sequence</th>\n",
       "      <th>secondary_struct</th>\n",
       "    </tr>\n",
       "  </thead>\n",
       "  <tbody>\n",
       "    <tr>\n",
       "      <th>0</th>\n",
       "      <td>101M</td>\n",
       "      <td>A</td>\n",
       "      <td>MVLSEGEWQLVLHVWAKVEADVAGHGQDILIRLFKSHPETLEKFDR...</td>\n",
       "      <td>CCCCHHHHHHHHHHHHHHGGGHHHHHHHHHHHHHHHCGGGGGGCTT...</td>\n",
       "    </tr>\n",
       "    <tr>\n",
       "      <th>1</th>\n",
       "      <td>102L</td>\n",
       "      <td>A</td>\n",
       "      <td>MNIFEMLRIDEGLRLKIYKDTEGYYTIGIGHLLTKSPSLNAAAKSE...</td>\n",
       "      <td>CCHHHHHHHHHCCEEEEEECTTSCEEEETTEEEESSSCTTTHHHHH...</td>\n",
       "    </tr>\n",
       "    <tr>\n",
       "      <th>2</th>\n",
       "      <td>102M</td>\n",
       "      <td>A</td>\n",
       "      <td>MVLSEGEWQLVLHVWAKVEADVAGHGQDILIRLFKSHPETLEKFDR...</td>\n",
       "      <td>CCCCHHHHHHHHHHHHHHGGGHHHHHHHHHHHHHHHCGGGGGGCTT...</td>\n",
       "    </tr>\n",
       "    <tr>\n",
       "      <th>3</th>\n",
       "      <td>103L</td>\n",
       "      <td>A</td>\n",
       "      <td>MNIFEMLRIDEGLRLKIYKDTEGYYTIGIGHLLTKSPSLNSLDAAK...</td>\n",
       "      <td>CCHHHHHHHHHCCEEEEEECTTSCEEEETTEECCCCCCCCCHHHHH...</td>\n",
       "    </tr>\n",
       "    <tr>\n",
       "      <th>4</th>\n",
       "      <td>103M</td>\n",
       "      <td>A</td>\n",
       "      <td>MVLSEGEWQLVLHVWAKVEADVAGHGQDILIRLFKSHPETLEKFDR...</td>\n",
       "      <td>CCCCHHHHHHHHHHHHHHGGGHHHHHHHHHHHHHHHCGGGGGGCTT...</td>\n",
       "    </tr>\n",
       "  </tbody>\n",
       "</table>\n",
       "</div>"
      ],
      "text/plain": [
       "  pdb_id chain                                           sequence  \\\n",
       "0   101M     A  MVLSEGEWQLVLHVWAKVEADVAGHGQDILIRLFKSHPETLEKFDR...   \n",
       "1   102L     A  MNIFEMLRIDEGLRLKIYKDTEGYYTIGIGHLLTKSPSLNAAAKSE...   \n",
       "2   102M     A  MVLSEGEWQLVLHVWAKVEADVAGHGQDILIRLFKSHPETLEKFDR...   \n",
       "3   103L     A  MNIFEMLRIDEGLRLKIYKDTEGYYTIGIGHLLTKSPSLNSLDAAK...   \n",
       "4   103M     A  MVLSEGEWQLVLHVWAKVEADVAGHGQDILIRLFKSHPETLEKFDR...   \n",
       "\n",
       "                                    secondary_struct  \n",
       "0  CCCCHHHHHHHHHHHHHHGGGHHHHHHHHHHHHHHHCGGGGGGCTT...  \n",
       "1  CCHHHHHHHHHCCEEEEEECTTSCEEEETTEEEESSSCTTTHHHHH...  \n",
       "2  CCCCHHHHHHHHHHHHHHGGGHHHHHHHHHHHHHHHCGGGGGGCTT...  \n",
       "3  CCHHHHHHHHHCCEEEEEECTTSCEEEETTEECCCCCCCCCHHHHH...  \n",
       "4  CCCCHHHHHHHHHHHHHHGGGHHHHHHHHHHHHHHHCGGGGGGCTT...  "
      ]
     },
     "execution_count": 5,
     "metadata": {},
     "output_type": "execute_result"
    }
   ],
   "source": [
    "sequences_df.head()"
   ]
  },
  {
   "cell_type": "code",
   "execution_count": 6,
   "id": "dd17fc80-1d73-44ce-bbfa-7cdd7d1f5a39",
   "metadata": {},
   "outputs": [],
   "source": [
    "pisces_df = processing.clean_pisces(pisces_file='../data/cullpdb_pc30_res2.0_R0.25_d2021_07_02_chains10870.gz')"
   ]
  },
  {
   "cell_type": "code",
   "execution_count": 9,
   "id": "783dfc79-c46f-4045-9673-89fe61ceee8d",
   "metadata": {},
   "outputs": [
    {
     "data": {
      "text/html": [
       "<div>\n",
       "<style scoped>\n",
       "    .dataframe tbody tr th:only-of-type {\n",
       "        vertical-align: middle;\n",
       "    }\n",
       "\n",
       "    .dataframe tbody tr th {\n",
       "        vertical-align: top;\n",
       "    }\n",
       "\n",
       "    .dataframe thead th {\n",
       "        text-align: right;\n",
       "    }\n",
       "</style>\n",
       "<table border=\"1\" class=\"dataframe\">\n",
       "  <thead>\n",
       "    <tr style=\"text-align: right;\">\n",
       "      <th></th>\n",
       "      <th>length</th>\n",
       "      <th>source</th>\n",
       "      <th>resolution</th>\n",
       "      <th>R_value</th>\n",
       "      <th>R_free</th>\n",
       "      <th>pdb_id</th>\n",
       "      <th>chain</th>\n",
       "    </tr>\n",
       "  </thead>\n",
       "  <tbody>\n",
       "    <tr>\n",
       "      <th>0</th>\n",
       "      <td>108</td>\n",
       "      <td>XRAY</td>\n",
       "      <td>2.0</td>\n",
       "      <td>0.21</td>\n",
       "      <td>0.25</td>\n",
       "      <td>1A1X</td>\n",
       "      <td>A</td>\n",
       "    </tr>\n",
       "    <tr>\n",
       "      <th>1</th>\n",
       "      <td>148</td>\n",
       "      <td>XRAY</td>\n",
       "      <td>1.8</td>\n",
       "      <td>0.19</td>\n",
       "      <td>0.24</td>\n",
       "      <td>1A3A</td>\n",
       "      <td>A</td>\n",
       "    </tr>\n",
       "    <tr>\n",
       "      <th>2</th>\n",
       "      <td>163</td>\n",
       "      <td>XRAY</td>\n",
       "      <td>1.8</td>\n",
       "      <td>0.21</td>\n",
       "      <td>0.30</td>\n",
       "      <td>1A73</td>\n",
       "      <td>A</td>\n",
       "    </tr>\n",
       "    <tr>\n",
       "      <th>3</th>\n",
       "      <td>226</td>\n",
       "      <td>XRAY</td>\n",
       "      <td>1.9</td>\n",
       "      <td>0.19</td>\n",
       "      <td>0.22</td>\n",
       "      <td>1A8L</td>\n",
       "      <td>A</td>\n",
       "    </tr>\n",
       "    <tr>\n",
       "      <th>4</th>\n",
       "      <td>1073</td>\n",
       "      <td>XRAY</td>\n",
       "      <td>1.8</td>\n",
       "      <td>0.19</td>\n",
       "      <td>1.00</td>\n",
       "      <td>1A9X</td>\n",
       "      <td>C</td>\n",
       "    </tr>\n",
       "  </tbody>\n",
       "</table>\n",
       "</div>"
      ],
      "text/plain": [
       "   length source  resolution  R_value  R_free pdb_id chain\n",
       "0     108   XRAY         2.0     0.21    0.25   1A1X     A\n",
       "1     148   XRAY         1.8     0.19    0.24   1A3A     A\n",
       "2     163   XRAY         1.8     0.21    0.30   1A73     A\n",
       "3     226   XRAY         1.9     0.19    0.22   1A8L     A\n",
       "4    1073   XRAY         1.8     0.19    1.00   1A9X     C"
      ]
     },
     "execution_count": 9,
     "metadata": {},
     "output_type": "execute_result"
    }
   ],
   "source": [
    "pisces_df.head()\n"
   ]
  },
  {
   "cell_type": "code",
   "execution_count": 10,
   "id": "2bac6af5-d89e-4a5f-8214-acd6787ea05d",
   "metadata": {},
   "outputs": [
    {
     "data": {
      "text/plain": [
       "(10870, 7)"
      ]
     },
     "execution_count": 10,
     "metadata": {},
     "output_type": "execute_result"
    }
   ],
   "source": [
    "pisces_df.shape"
   ]
  },
  {
   "cell_type": "code",
   "execution_count": 12,
   "id": "7fee69ef-5077-4c3c-9c89-1de2ef1d33bd",
   "metadata": {},
   "outputs": [],
   "source": [
    "combined_df = processing.combine_pdb_pisces(sequences_df=sequences_df, pisces_df=pisces_df)"
   ]
  },
  {
   "cell_type": "code",
   "execution_count": 13,
   "id": "fb19ff12-03f3-4092-92b7-eabe25f8e25d",
   "metadata": {},
   "outputs": [
    {
     "data": {
      "text/html": [
       "<div>\n",
       "<style scoped>\n",
       "    .dataframe tbody tr th:only-of-type {\n",
       "        vertical-align: middle;\n",
       "    }\n",
       "\n",
       "    .dataframe tbody tr th {\n",
       "        vertical-align: top;\n",
       "    }\n",
       "\n",
       "    .dataframe thead th {\n",
       "        text-align: right;\n",
       "    }\n",
       "</style>\n",
       "<table border=\"1\" class=\"dataframe\">\n",
       "  <thead>\n",
       "    <tr style=\"text-align: right;\">\n",
       "      <th></th>\n",
       "      <th>pdb_id</th>\n",
       "      <th>chain</th>\n",
       "      <th>sequence</th>\n",
       "      <th>secondary_struct</th>\n",
       "      <th>length</th>\n",
       "      <th>source</th>\n",
       "      <th>resolution</th>\n",
       "      <th>R_value</th>\n",
       "      <th>R_free</th>\n",
       "    </tr>\n",
       "  </thead>\n",
       "  <tbody>\n",
       "    <tr>\n",
       "      <th>0</th>\n",
       "      <td>1A1X</td>\n",
       "      <td>A</td>\n",
       "      <td>GSAGEDVGAPPDHLWVHQEGIYRDEYQRTWVAVVEEETSFLRARVQ...</td>\n",
       "      <td>CCCCCCCCCCCSEEEEEETTEEEETTSCEEEEEEEECSSCEEEEEE...</td>\n",
       "      <td>108</td>\n",
       "      <td>XRAY</td>\n",
       "      <td>2.000</td>\n",
       "      <td>0.21</td>\n",
       "      <td>0.25</td>\n",
       "    </tr>\n",
       "    <tr>\n",
       "      <th>1</th>\n",
       "      <td>1A3A</td>\n",
       "      <td>A</td>\n",
       "      <td>MANLFKLGAENIFLGRKAATKEEAIRFAGEQLVKGGYVEPEYVQAM...</td>\n",
       "      <td>CCCCCCCCGGGEECSCCCSSHHHHHHHHHHHHHHTTSBCTHHHHHH...</td>\n",
       "      <td>148</td>\n",
       "      <td>XRAY</td>\n",
       "      <td>1.800</td>\n",
       "      <td>0.19</td>\n",
       "      <td>0.24</td>\n",
       "    </tr>\n",
       "    <tr>\n",
       "      <th>2</th>\n",
       "      <td>1A73</td>\n",
       "      <td>A</td>\n",
       "      <td>MALTNAQILAVIDSWEETVGQFPVITHHVPLGGGLQGTLHCYEIPL...</td>\n",
       "      <td>CCCCHHHHHHHHHHHHHHHTTSCEEEEEEEEETTEEEEEEEEBCCS...</td>\n",
       "      <td>163</td>\n",
       "      <td>XRAY</td>\n",
       "      <td>1.800</td>\n",
       "      <td>0.21</td>\n",
       "      <td>0.30</td>\n",
       "    </tr>\n",
       "    <tr>\n",
       "      <th>3</th>\n",
       "      <td>1A8L</td>\n",
       "      <td>A</td>\n",
       "      <td>MGLISDADKKVIKEEFFSKMVNPVKLIVFVRKDHCQYCDQLKQLVQ...</td>\n",
       "      <td>CCSSCHHHHHHHHHHTGGGCCSCEEEEEEECSSSCTTHHHHHHHHH...</td>\n",
       "      <td>226</td>\n",
       "      <td>XRAY</td>\n",
       "      <td>1.900</td>\n",
       "      <td>0.19</td>\n",
       "      <td>0.22</td>\n",
       "    </tr>\n",
       "    <tr>\n",
       "      <th>4</th>\n",
       "      <td>1A9X</td>\n",
       "      <td>F</td>\n",
       "      <td>IKSALLVLEDGTQFHGRAIGATGSAVGEVVFNTSMTGYQEILTDPS...</td>\n",
       "      <td>CCEEEEEETTCCEEEEEECSCSEEEEEEEEEECCSSCHHHHHTCGG...</td>\n",
       "      <td>379</td>\n",
       "      <td>XRAY</td>\n",
       "      <td>1.800</td>\n",
       "      <td>0.19</td>\n",
       "      <td>1.00</td>\n",
       "    </tr>\n",
       "    <tr>\n",
       "      <th>...</th>\n",
       "      <td>...</td>\n",
       "      <td>...</td>\n",
       "      <td>...</td>\n",
       "      <td>...</td>\n",
       "      <td>...</td>\n",
       "      <td>...</td>\n",
       "      <td>...</td>\n",
       "      <td>...</td>\n",
       "      <td>...</td>\n",
       "    </tr>\n",
       "    <tr>\n",
       "      <th>10157</th>\n",
       "      <td>7BU2</td>\n",
       "      <td>A</td>\n",
       "      <td>MSMIKSYAAKEAGGELEVYEYDPGELRPQDVEVQVDYCGICHSDLS...</td>\n",
       "      <td>CCCEEEEEESSTTCCEEEEEECCCSCCTTEEEEEEEEEEECHHHHH...</td>\n",
       "      <td>347</td>\n",
       "      <td>XRAY</td>\n",
       "      <td>1.553</td>\n",
       "      <td>0.16</td>\n",
       "      <td>0.19</td>\n",
       "    </tr>\n",
       "    <tr>\n",
       "      <th>10158</th>\n",
       "      <td>7BVD</td>\n",
       "      <td>B</td>\n",
       "      <td>MQTTANHSSRSTQTGTRAHGAALAETTSREDFRALATEHRVVPVIR...</td>\n",
       "      <td>CCCCCCCCCCCCCCCCCCCCCCTTCCCCHHHHHHHHTTCSEEEEEE...</td>\n",
       "      <td>524</td>\n",
       "      <td>XRAY</td>\n",
       "      <td>1.700</td>\n",
       "      <td>0.16</td>\n",
       "      <td>0.20</td>\n",
       "    </tr>\n",
       "    <tr>\n",
       "      <th>10159</th>\n",
       "      <td>7BYW</td>\n",
       "      <td>A</td>\n",
       "      <td>MRGSHHHHHHSGQRMGMVIGIKPEHIDEYKRLHAAVWPAVLARLAE...</td>\n",
       "      <td>CCCCCCCCCCCCCEEEEEEEECGGGHHHHHHHHTTCCHHHHHHHHH...</td>\n",
       "      <td>120</td>\n",
       "      <td>XRAY</td>\n",
       "      <td>1.750</td>\n",
       "      <td>0.23</td>\n",
       "      <td>0.25</td>\n",
       "    </tr>\n",
       "    <tr>\n",
       "      <th>10160</th>\n",
       "      <td>7ODC</td>\n",
       "      <td>A</td>\n",
       "      <td>MSSFTKDEFDCHILDEGFTAKDILDQKINEVSSSDDKDAFYVADLG...</td>\n",
       "      <td>CCEEEETTEEEEEECSSCCHHHHHHHHHCCCCCCCCCCCEEEEEHH...</td>\n",
       "      <td>424</td>\n",
       "      <td>XRAY</td>\n",
       "      <td>1.600</td>\n",
       "      <td>0.20</td>\n",
       "      <td>0.23</td>\n",
       "    </tr>\n",
       "    <tr>\n",
       "      <th>10161</th>\n",
       "      <td>8ABP</td>\n",
       "      <td>A</td>\n",
       "      <td>ENLKLGFLVKQPEEPWFQTEWKFADKAGKDLGFEVIKIAVPDGEKT...</td>\n",
       "      <td>CCEEEEEEESCTTSHHHHHHHHHHHHHHHHHTEEEEEEECCSHHHH...</td>\n",
       "      <td>306</td>\n",
       "      <td>XRAY</td>\n",
       "      <td>1.490</td>\n",
       "      <td>0.17</td>\n",
       "      <td>1.00</td>\n",
       "    </tr>\n",
       "  </tbody>\n",
       "</table>\n",
       "<p>10162 rows × 9 columns</p>\n",
       "</div>"
      ],
      "text/plain": [
       "      pdb_id chain                                           sequence  \\\n",
       "0       1A1X     A  GSAGEDVGAPPDHLWVHQEGIYRDEYQRTWVAVVEEETSFLRARVQ...   \n",
       "1       1A3A     A  MANLFKLGAENIFLGRKAATKEEAIRFAGEQLVKGGYVEPEYVQAM...   \n",
       "2       1A73     A  MALTNAQILAVIDSWEETVGQFPVITHHVPLGGGLQGTLHCYEIPL...   \n",
       "3       1A8L     A  MGLISDADKKVIKEEFFSKMVNPVKLIVFVRKDHCQYCDQLKQLVQ...   \n",
       "4       1A9X     F  IKSALLVLEDGTQFHGRAIGATGSAVGEVVFNTSMTGYQEILTDPS...   \n",
       "...      ...   ...                                                ...   \n",
       "10157   7BU2     A  MSMIKSYAAKEAGGELEVYEYDPGELRPQDVEVQVDYCGICHSDLS...   \n",
       "10158   7BVD     B  MQTTANHSSRSTQTGTRAHGAALAETTSREDFRALATEHRVVPVIR...   \n",
       "10159   7BYW     A  MRGSHHHHHHSGQRMGMVIGIKPEHIDEYKRLHAAVWPAVLARLAE...   \n",
       "10160   7ODC     A  MSSFTKDEFDCHILDEGFTAKDILDQKINEVSSSDDKDAFYVADLG...   \n",
       "10161   8ABP     A  ENLKLGFLVKQPEEPWFQTEWKFADKAGKDLGFEVIKIAVPDGEKT...   \n",
       "\n",
       "                                        secondary_struct  length source  \\\n",
       "0      CCCCCCCCCCCSEEEEEETTEEEETTSCEEEEEEEECSSCEEEEEE...     108   XRAY   \n",
       "1      CCCCCCCCGGGEECSCCCSSHHHHHHHHHHHHHHTTSBCTHHHHHH...     148   XRAY   \n",
       "2      CCCCHHHHHHHHHHHHHHHTTSCEEEEEEEEETTEEEEEEEEBCCS...     163   XRAY   \n",
       "3      CCSSCHHHHHHHHHHTGGGCCSCEEEEEEECSSSCTTHHHHHHHHH...     226   XRAY   \n",
       "4      CCEEEEEETTCCEEEEEECSCSEEEEEEEEEECCSSCHHHHHTCGG...     379   XRAY   \n",
       "...                                                  ...     ...    ...   \n",
       "10157  CCCEEEEEESSTTCCEEEEEECCCSCCTTEEEEEEEEEEECHHHHH...     347   XRAY   \n",
       "10158  CCCCCCCCCCCCCCCCCCCCCCTTCCCCHHHHHHHHTTCSEEEEEE...     524   XRAY   \n",
       "10159  CCCCCCCCCCCCCEEEEEEEECGGGHHHHHHHHTTCCHHHHHHHHH...     120   XRAY   \n",
       "10160  CCEEEETTEEEEEECSSCCHHHHHHHHHCCCCCCCCCCCEEEEEHH...     424   XRAY   \n",
       "10161  CCEEEEEEESCTTSHHHHHHHHHHHHHHHHHTEEEEEEECCSHHHH...     306   XRAY   \n",
       "\n",
       "       resolution  R_value  R_free  \n",
       "0           2.000     0.21    0.25  \n",
       "1           1.800     0.19    0.24  \n",
       "2           1.800     0.21    0.30  \n",
       "3           1.900     0.19    0.22  \n",
       "4           1.800     0.19    1.00  \n",
       "...           ...      ...     ...  \n",
       "10157       1.553     0.16    0.19  \n",
       "10158       1.700     0.16    0.20  \n",
       "10159       1.750     0.23    0.25  \n",
       "10160       1.600     0.20    0.23  \n",
       "10161       1.490     0.17    1.00  \n",
       "\n",
       "[10162 rows x 9 columns]"
      ]
     },
     "execution_count": 13,
     "metadata": {},
     "output_type": "execute_result"
    }
   ],
   "source": [
    "combined_df"
   ]
  },
  {
   "cell_type": "code",
   "execution_count": null,
   "id": "f9d2d1b3-5867-4fbb-a81b-62f797d3fdfd",
   "metadata": {},
   "outputs": [],
   "source": []
  }
 ],
 "metadata": {
  "kernelspec": {
   "display_name": "Python 3",
   "language": "python",
   "name": "python3"
  },
  "language_info": {
   "codemirror_mode": {
    "name": "ipython",
    "version": 3
   },
   "file_extension": ".py",
   "mimetype": "text/x-python",
   "name": "python",
   "nbconvert_exporter": "python",
   "pygments_lexer": "ipython3",
   "version": "3.8.8"
  }
 },
 "nbformat": 4,
 "nbformat_minor": 5
}
