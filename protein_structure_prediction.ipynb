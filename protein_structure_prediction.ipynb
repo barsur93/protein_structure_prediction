{
 "cells": [
  {
   "cell_type": "markdown",
   "id": "0c26b5db-0053-4930-a069-338114389fe7",
   "metadata": {},
   "source": [
    "## __proteinSSpredictor__"
   ]
  },
  {
   "cell_type": "markdown",
   "id": "2546f57f-1e11-49ef-b0a7-50cabaefaa9c",
   "metadata": {},
   "source": [
    "This projects constitutes a final project for Data Science Bootcamp organised by Sages and aims at providing a deep-learning-based approach to predict secondary structure of the protein based on its primary sequence of the amino acids."
   ]
  },
  {
   "cell_type": "markdown",
   "id": "43949779-cf2c-41be-adc5-63ab144d3d60",
   "metadata": {},
   "source": [
    "## __Table of contents__\n",
    "1. Abstract\n",
    "2. Source of raw sequences\n",
    "3. Curation of the dataset\n",
    "4. Prerequisites\n",
    "5. Exploration of preprocessed dataset for modeling\n",
    "6. Raw data processing\n",
    "7. Model training\n",
    "8. Where is the model making errors?\n",
    "9. Summary\n",
    "10. References"
   ]
  },
  {
   "cell_type": "markdown",
   "id": "163c6be5-09fb-452f-a646-a47daa9bb979",
   "metadata": {},
   "source": [
    "## __1. Abstract__"
   ]
  },
  {
   "cell_type": "markdown",
   "id": "fb68749b-b100-4385-ac0a-1cf9098fec27",
   "metadata": {},
   "source": [
    "to do"
   ]
  },
  {
   "cell_type": "markdown",
   "id": "c24ac610-f516-4f50-b202-de8921667f1d",
   "metadata": {},
   "source": [
    "## __2. Source of raw sequences__"
   ]
  },
  {
   "cell_type": "markdown",
   "id": "d8991bec-68c3-4625-bfd9-fd967098f21a",
   "metadata": {},
   "source": [
    "Preparation of the updated dataset analogous to https://www.kaggle.com/alfrandom/protein-secondary-structure\n",
    "\n",
    "Following steps from https://github.com/zyxue/pdb-secondary-structure the secondary structure data was downloaded by"
   ]
  },
  {
   "cell_type": "markdown",
   "id": "c14dce5d-97fe-4545-9e3f-dcf946dcd8f0",
   "metadata": {},
   "source": [
    "`DATE_STAMP=$(date  +'%Y-%m-%d')\n",
    "wget https://cdn.rcsb.org/etl/kabschSander/ss.txt.gz -O ${DATE_TAMP}-ss.txt.gz`"
   ]
  },
  {
   "cell_type": "markdown",
   "id": "ea8511d7-54b7-4b08-bb96-556c2dbd1ef8",
   "metadata": {},
   "source": [
    "Further, data was transformed to csv file analogously to https://github.com/zyxue/pdb-secondary-structure using self-implemented method (see below for more details)."
   ]
  },
  {
   "cell_type": "markdown",
   "id": "4c364584-4ffc-456d-b209-a274b4182707",
   "metadata": {},
   "source": [
    "## __3. Curation of the sequence dataset__ "
   ]
  },
  {
   "cell_type": "markdown",
   "id": "a88f60c1-f9b7-471e-bff4-10fa8f8f46fe",
   "metadata": {},
   "source": [
    "Further, recent PISCES data with removed peptides with high sequence similarity was downloaded from http://dunbrack.fccc.edu/Guoli/pisces_download.php\n",
    "\n",
    "Selected precompiled CulledPDB for further modeling was generated with following criteria:\n",
    "\n",
    "- percentage identity cutoff: 30%\n",
    "- the resolution cutoff:      2.0 Å\n",
    "- the R-factor cutoff:        0.25\n",
    "- date of generation:         2021/07/02\n",
    "- the number of sequences:    10870\n"
   ]
  },
  {
   "cell_type": "markdown",
   "id": "d655d65c-849e-4098-8b15-c7912e9586dc",
   "metadata": {},
   "source": [
    "## __4. Prerequisites__"
   ]
  },
  {
   "cell_type": "code",
   "execution_count": 1,
   "id": "23c9304a-5630-4ef9-a5cc-012a0c46f71b",
   "metadata": {},
   "outputs": [],
   "source": [
    "import pandas as pd\n",
    "import numpy as np\n",
    "import matplotlib.pyplot as plt\n"
   ]
  },
  {
   "cell_type": "markdown",
   "id": "b93d1cd4-f53d-454a-a342-a1f606cb2760",
   "metadata": {},
   "source": [
    "## __4. Raw data processing__\n",
    "At this point the raw sequences were converted to CSV file, translated to 3 letters representation, and combined with culledPDB list with reduced sequence identity to improve the model quality"
   ]
  },
  {
   "cell_type": "code",
   "execution_count": 2,
   "id": "788cafc3-76e7-4dcf-8038-89860700f7c2",
   "metadata": {
    "tags": []
   },
   "outputs": [],
   "source": [
    "from tools import process_raw_data"
   ]
  },
  {
   "cell_type": "code",
   "execution_count": 3,
   "id": "7e854db9-7eb6-4256-beee-3cedfa28e6c0",
   "metadata": {},
   "outputs": [],
   "source": [
    "processing = process_raw_data.Sequences()"
   ]
  },
  {
   "cell_type": "code",
   "execution_count": 4,
   "id": "00407888-c1f6-4d71-b67f-a39e6bce8eef",
   "metadata": {},
   "outputs": [],
   "source": [
    "# %time sequences_df = processing.process_raw_sequences('../data/2021-07-09-ss.txt.gz')"
   ]
  },
  {
   "cell_type": "code",
   "execution_count": 5,
   "id": "0103cad8-c1ff-436b-b1e3-e28fa75508b8",
   "metadata": {},
   "outputs": [],
   "source": [
    "#optional for faster processing:\n",
    "sequences_df = pd.read_csv('../data/2021-07-09-ss.csv')"
   ]
  },
  {
   "cell_type": "markdown",
   "id": "4cba3ed6-cdec-418f-99c5-012fb71e40a7",
   "metadata": {},
   "source": [
    "The set of raw sequences before processing with CulledPDB dataset contains 477154 and includes information about the sequence PDB ID code, protein chain and its primary sequence together with the secondary structure sequence"
   ]
  },
  {
   "cell_type": "code",
   "execution_count": 6,
   "id": "15f70d29-4960-4645-9d14-18a3a0fd0571",
   "metadata": {},
   "outputs": [
    {
     "data": {
      "text/plain": [
       "(477154, 4)"
      ]
     },
     "execution_count": 6,
     "metadata": {},
     "output_type": "execute_result"
    }
   ],
   "source": [
    "sequences_df.shape"
   ]
  },
  {
   "cell_type": "code",
   "execution_count": 7,
   "id": "f5216931-5d7b-4db7-a8c6-52ad473a4ccf",
   "metadata": {},
   "outputs": [
    {
     "data": {
      "text/html": [
       "<div>\n",
       "<style scoped>\n",
       "    .dataframe tbody tr th:only-of-type {\n",
       "        vertical-align: middle;\n",
       "    }\n",
       "\n",
       "    .dataframe tbody tr th {\n",
       "        vertical-align: top;\n",
       "    }\n",
       "\n",
       "    .dataframe thead th {\n",
       "        text-align: right;\n",
       "    }\n",
       "</style>\n",
       "<table border=\"1\" class=\"dataframe\">\n",
       "  <thead>\n",
       "    <tr style=\"text-align: right;\">\n",
       "      <th></th>\n",
       "      <th>pdb_id</th>\n",
       "      <th>chain</th>\n",
       "      <th>sequence</th>\n",
       "      <th>secondary_struct</th>\n",
       "    </tr>\n",
       "  </thead>\n",
       "  <tbody>\n",
       "    <tr>\n",
       "      <th>0</th>\n",
       "      <td>101M</td>\n",
       "      <td>A</td>\n",
       "      <td>MVLSEGEWQLVLHVWAKVEADVAGHGQDILIRLFKSHPETLEKFDR...</td>\n",
       "      <td>CCCCHHHHHHHHHHHHHHGGGHHHHHHHHHHHHHHHCGGGGGGCTT...</td>\n",
       "    </tr>\n",
       "    <tr>\n",
       "      <th>1</th>\n",
       "      <td>102L</td>\n",
       "      <td>A</td>\n",
       "      <td>MNIFEMLRIDEGLRLKIYKDTEGYYTIGIGHLLTKSPSLNAAAKSE...</td>\n",
       "      <td>CCHHHHHHHHHCCEEEEEECTTSCEEEETTEEEESSSCTTTHHHHH...</td>\n",
       "    </tr>\n",
       "    <tr>\n",
       "      <th>2</th>\n",
       "      <td>102M</td>\n",
       "      <td>A</td>\n",
       "      <td>MVLSEGEWQLVLHVWAKVEADVAGHGQDILIRLFKSHPETLEKFDR...</td>\n",
       "      <td>CCCCHHHHHHHHHHHHHHGGGHHHHHHHHHHHHHHHCGGGGGGCTT...</td>\n",
       "    </tr>\n",
       "    <tr>\n",
       "      <th>3</th>\n",
       "      <td>103L</td>\n",
       "      <td>A</td>\n",
       "      <td>MNIFEMLRIDEGLRLKIYKDTEGYYTIGIGHLLTKSPSLNSLDAAK...</td>\n",
       "      <td>CCHHHHHHHHHCCEEEEEECTTSCEEEETTEECCCCCCCCCHHHHH...</td>\n",
       "    </tr>\n",
       "    <tr>\n",
       "      <th>4</th>\n",
       "      <td>103M</td>\n",
       "      <td>A</td>\n",
       "      <td>MVLSEGEWQLVLHVWAKVEADVAGHGQDILIRLFKSHPETLEKFDR...</td>\n",
       "      <td>CCCCHHHHHHHHHHHHHHGGGHHHHHHHHHHHHHHHCGGGGGGCTT...</td>\n",
       "    </tr>\n",
       "  </tbody>\n",
       "</table>\n",
       "</div>"
      ],
      "text/plain": [
       "  pdb_id chain                                           sequence  \\\n",
       "0   101M     A  MVLSEGEWQLVLHVWAKVEADVAGHGQDILIRLFKSHPETLEKFDR...   \n",
       "1   102L     A  MNIFEMLRIDEGLRLKIYKDTEGYYTIGIGHLLTKSPSLNAAAKSE...   \n",
       "2   102M     A  MVLSEGEWQLVLHVWAKVEADVAGHGQDILIRLFKSHPETLEKFDR...   \n",
       "3   103L     A  MNIFEMLRIDEGLRLKIYKDTEGYYTIGIGHLLTKSPSLNSLDAAK...   \n",
       "4   103M     A  MVLSEGEWQLVLHVWAKVEADVAGHGQDILIRLFKSHPETLEKFDR...   \n",
       "\n",
       "                                    secondary_struct  \n",
       "0  CCCCHHHHHHHHHHHHHHGGGHHHHHHHHHHHHHHHCGGGGGGCTT...  \n",
       "1  CCHHHHHHHHHCCEEEEEECTTSCEEEETTEEEESSSCTTTHHHHH...  \n",
       "2  CCCCHHHHHHHHHHHHHHGGGHHHHHHHHHHHHHHHCGGGGGGCTT...  \n",
       "3  CCHHHHHHHHHCCEEEEEECTTSCEEEETTEECCCCCCCCCHHHHH...  \n",
       "4  CCCCHHHHHHHHHHHHHHGGGHHHHHHHHHHHHHHHCGGGGGGCTT...  "
      ]
     },
     "execution_count": 7,
     "metadata": {},
     "output_type": "execute_result"
    }
   ],
   "source": [
    "sequences_df.head()"
   ]
  },
  {
   "cell_type": "code",
   "execution_count": 8,
   "id": "dd17fc80-1d73-44ce-bbfa-7cdd7d1f5a39",
   "metadata": {},
   "outputs": [],
   "source": [
    "pisces_df = processing.clean_pisces(pisces_file='../data/cullpdb_pc30_res2.0_R0.25_d2021_07_02_chains10870.gz')"
   ]
  },
  {
   "cell_type": "code",
   "execution_count": 9,
   "id": "809d7f1b-826b-4baa-b8c1-4fa9dcef9c97",
   "metadata": {},
   "outputs": [
    {
     "data": {
      "text/html": [
       "<div>\n",
       "<style scoped>\n",
       "    .dataframe tbody tr th:only-of-type {\n",
       "        vertical-align: middle;\n",
       "    }\n",
       "\n",
       "    .dataframe tbody tr th {\n",
       "        vertical-align: top;\n",
       "    }\n",
       "\n",
       "    .dataframe thead th {\n",
       "        text-align: right;\n",
       "    }\n",
       "</style>\n",
       "<table border=\"1\" class=\"dataframe\">\n",
       "  <thead>\n",
       "    <tr style=\"text-align: right;\">\n",
       "      <th></th>\n",
       "      <th>length</th>\n",
       "      <th>source</th>\n",
       "      <th>resolution</th>\n",
       "      <th>R_value</th>\n",
       "      <th>R_free</th>\n",
       "      <th>pdb_id</th>\n",
       "      <th>chain</th>\n",
       "    </tr>\n",
       "  </thead>\n",
       "  <tbody>\n",
       "    <tr>\n",
       "      <th>0</th>\n",
       "      <td>108</td>\n",
       "      <td>XRAY</td>\n",
       "      <td>2.0</td>\n",
       "      <td>0.21</td>\n",
       "      <td>0.25</td>\n",
       "      <td>1A1X</td>\n",
       "      <td>A</td>\n",
       "    </tr>\n",
       "    <tr>\n",
       "      <th>1</th>\n",
       "      <td>148</td>\n",
       "      <td>XRAY</td>\n",
       "      <td>1.8</td>\n",
       "      <td>0.19</td>\n",
       "      <td>0.24</td>\n",
       "      <td>1A3A</td>\n",
       "      <td>A</td>\n",
       "    </tr>\n",
       "    <tr>\n",
       "      <th>2</th>\n",
       "      <td>163</td>\n",
       "      <td>XRAY</td>\n",
       "      <td>1.8</td>\n",
       "      <td>0.21</td>\n",
       "      <td>0.30</td>\n",
       "      <td>1A73</td>\n",
       "      <td>A</td>\n",
       "    </tr>\n",
       "    <tr>\n",
       "      <th>3</th>\n",
       "      <td>226</td>\n",
       "      <td>XRAY</td>\n",
       "      <td>1.9</td>\n",
       "      <td>0.19</td>\n",
       "      <td>0.22</td>\n",
       "      <td>1A8L</td>\n",
       "      <td>A</td>\n",
       "    </tr>\n",
       "    <tr>\n",
       "      <th>4</th>\n",
       "      <td>1073</td>\n",
       "      <td>XRAY</td>\n",
       "      <td>1.8</td>\n",
       "      <td>0.19</td>\n",
       "      <td>1.00</td>\n",
       "      <td>1A9X</td>\n",
       "      <td>C</td>\n",
       "    </tr>\n",
       "  </tbody>\n",
       "</table>\n",
       "</div>"
      ],
      "text/plain": [
       "   length source  resolution  R_value  R_free pdb_id chain\n",
       "0     108   XRAY         2.0     0.21    0.25   1A1X     A\n",
       "1     148   XRAY         1.8     0.19    0.24   1A3A     A\n",
       "2     163   XRAY         1.8     0.21    0.30   1A73     A\n",
       "3     226   XRAY         1.9     0.19    0.22   1A8L     A\n",
       "4    1073   XRAY         1.8     0.19    1.00   1A9X     C"
      ]
     },
     "execution_count": 9,
     "metadata": {},
     "output_type": "execute_result"
    }
   ],
   "source": [
    "pisces_df.head()"
   ]
  },
  {
   "cell_type": "markdown",
   "id": "e49d1601-cca7-4cdf-bb2e-20c05f931404",
   "metadata": {},
   "source": [
    "The culledPDB set containts 10870 items (PDB databases records filtered by the resolution, R-value and the 30% sequence identity). It contains information about protein PDB ID code, protein chain, method used for its determination, R-value, R-value free and the length of the sequence."
   ]
  },
  {
   "cell_type": "code",
   "execution_count": 10,
   "id": "2bac6af5-d89e-4a5f-8214-acd6787ea05d",
   "metadata": {},
   "outputs": [
    {
     "data": {
      "text/plain": [
       "(10870, 7)"
      ]
     },
     "execution_count": 10,
     "metadata": {},
     "output_type": "execute_result"
    }
   ],
   "source": [
    "pisces_df.shape"
   ]
  },
  {
   "cell_type": "code",
   "execution_count": 11,
   "id": "7fee69ef-5077-4c3c-9c89-1de2ef1d33bd",
   "metadata": {},
   "outputs": [],
   "source": [
    "combined_df = processing.combine_pdb_pisces(sequences_df=sequences_df, pisces_df=pisces_df)"
   ]
  },
  {
   "cell_type": "code",
   "execution_count": 12,
   "id": "fb19ff12-03f3-4092-92b7-eabe25f8e25d",
   "metadata": {},
   "outputs": [
    {
     "data": {
      "text/html": [
       "<div>\n",
       "<style scoped>\n",
       "    .dataframe tbody tr th:only-of-type {\n",
       "        vertical-align: middle;\n",
       "    }\n",
       "\n",
       "    .dataframe tbody tr th {\n",
       "        vertical-align: top;\n",
       "    }\n",
       "\n",
       "    .dataframe thead th {\n",
       "        text-align: right;\n",
       "    }\n",
       "</style>\n",
       "<table border=\"1\" class=\"dataframe\">\n",
       "  <thead>\n",
       "    <tr style=\"text-align: right;\">\n",
       "      <th></th>\n",
       "      <th>pdb_id</th>\n",
       "      <th>chain</th>\n",
       "      <th>sequence</th>\n",
       "      <th>secondary_struct</th>\n",
       "      <th>length</th>\n",
       "      <th>source</th>\n",
       "      <th>resolution</th>\n",
       "      <th>R_value</th>\n",
       "      <th>R_free</th>\n",
       "    </tr>\n",
       "  </thead>\n",
       "  <tbody>\n",
       "    <tr>\n",
       "      <th>0</th>\n",
       "      <td>1A1X</td>\n",
       "      <td>A</td>\n",
       "      <td>GSAGEDVGAPPDHLWVHQEGIYRDEYQRTWVAVVEEETSFLRARVQ...</td>\n",
       "      <td>CCCCCCCCCCCSEEEEEETTEEEETTSCEEEEEEEECSSCEEEEEE...</td>\n",
       "      <td>108</td>\n",
       "      <td>XRAY</td>\n",
       "      <td>2.0</td>\n",
       "      <td>0.21</td>\n",
       "      <td>0.25</td>\n",
       "    </tr>\n",
       "    <tr>\n",
       "      <th>1</th>\n",
       "      <td>1A3A</td>\n",
       "      <td>A</td>\n",
       "      <td>MANLFKLGAENIFLGRKAATKEEAIRFAGEQLVKGGYVEPEYVQAM...</td>\n",
       "      <td>CCCCCCCCGGGEECSCCCSSHHHHHHHHHHHHHHTTSBCTHHHHHH...</td>\n",
       "      <td>148</td>\n",
       "      <td>XRAY</td>\n",
       "      <td>1.8</td>\n",
       "      <td>0.19</td>\n",
       "      <td>0.24</td>\n",
       "    </tr>\n",
       "    <tr>\n",
       "      <th>2</th>\n",
       "      <td>1A73</td>\n",
       "      <td>A</td>\n",
       "      <td>MALTNAQILAVIDSWEETVGQFPVITHHVPLGGGLQGTLHCYEIPL...</td>\n",
       "      <td>CCCCHHHHHHHHHHHHHHHTTSCEEEEEEEEETTEEEEEEEEBCCS...</td>\n",
       "      <td>163</td>\n",
       "      <td>XRAY</td>\n",
       "      <td>1.8</td>\n",
       "      <td>0.21</td>\n",
       "      <td>0.30</td>\n",
       "    </tr>\n",
       "    <tr>\n",
       "      <th>3</th>\n",
       "      <td>1A8L</td>\n",
       "      <td>A</td>\n",
       "      <td>MGLISDADKKVIKEEFFSKMVNPVKLIVFVRKDHCQYCDQLKQLVQ...</td>\n",
       "      <td>CCSSCHHHHHHHHHHTGGGCCSCEEEEEEECSSSCTTHHHHHHHHH...</td>\n",
       "      <td>226</td>\n",
       "      <td>XRAY</td>\n",
       "      <td>1.9</td>\n",
       "      <td>0.19</td>\n",
       "      <td>0.22</td>\n",
       "    </tr>\n",
       "    <tr>\n",
       "      <th>4</th>\n",
       "      <td>1A9X</td>\n",
       "      <td>F</td>\n",
       "      <td>IKSALLVLEDGTQFHGRAIGATGSAVGEVVFNTSMTGYQEILTDPS...</td>\n",
       "      <td>CCEEEEEETTCCEEEEEECSCSEEEEEEEEEECCSSCHHHHHTCGG...</td>\n",
       "      <td>379</td>\n",
       "      <td>XRAY</td>\n",
       "      <td>1.8</td>\n",
       "      <td>0.19</td>\n",
       "      <td>1.00</td>\n",
       "    </tr>\n",
       "  </tbody>\n",
       "</table>\n",
       "</div>"
      ],
      "text/plain": [
       "  pdb_id chain                                           sequence  \\\n",
       "0   1A1X     A  GSAGEDVGAPPDHLWVHQEGIYRDEYQRTWVAVVEEETSFLRARVQ...   \n",
       "1   1A3A     A  MANLFKLGAENIFLGRKAATKEEAIRFAGEQLVKGGYVEPEYVQAM...   \n",
       "2   1A73     A  MALTNAQILAVIDSWEETVGQFPVITHHVPLGGGLQGTLHCYEIPL...   \n",
       "3   1A8L     A  MGLISDADKKVIKEEFFSKMVNPVKLIVFVRKDHCQYCDQLKQLVQ...   \n",
       "4   1A9X     F  IKSALLVLEDGTQFHGRAIGATGSAVGEVVFNTSMTGYQEILTDPS...   \n",
       "\n",
       "                                    secondary_struct  length source  \\\n",
       "0  CCCCCCCCCCCSEEEEEETTEEEETTSCEEEEEEEECSSCEEEEEE...     108   XRAY   \n",
       "1  CCCCCCCCGGGEECSCCCSSHHHHHHHHHHHHHHTTSBCTHHHHHH...     148   XRAY   \n",
       "2  CCCCHHHHHHHHHHHHHHHTTSCEEEEEEEEETTEEEEEEEEBCCS...     163   XRAY   \n",
       "3  CCSSCHHHHHHHHHHTGGGCCSCEEEEEEECSSSCTTHHHHHHHHH...     226   XRAY   \n",
       "4  CCEEEEEETTCCEEEEEECSCSEEEEEEEEEECCSSCHHHHHTCGG...     379   XRAY   \n",
       "\n",
       "   resolution  R_value  R_free  \n",
       "0         2.0     0.21    0.25  \n",
       "1         1.8     0.19    0.24  \n",
       "2         1.8     0.21    0.30  \n",
       "3         1.9     0.19    0.22  \n",
       "4         1.8     0.19    1.00  "
      ]
     },
     "execution_count": 12,
     "metadata": {},
     "output_type": "execute_result"
    }
   ],
   "source": [
    "combined_df.head()"
   ]
  },
  {
   "cell_type": "code",
   "execution_count": 13,
   "id": "208b8e0c-7c70-47ee-a074-12ff4093840e",
   "metadata": {},
   "outputs": [
    {
     "data": {
      "text/plain": [
       "(10186, 9)"
      ]
     },
     "execution_count": 13,
     "metadata": {},
     "output_type": "execute_result"
    }
   ],
   "source": [
    "combined_df.shape"
   ]
  },
  {
   "cell_type": "markdown",
   "id": "50f38d93-3bea-4de7-8a89-ab5bfac315af",
   "metadata": {},
   "source": [
    "While intersecting raw sequences and culledPDB dataset by protein PDB ID codes and chains, we obtain slightly smaller set (10186) in then the original culledPDB (10870) due to some mismatches in the chain IDs"
   ]
  },
  {
   "cell_type": "code",
   "execution_count": 14,
   "id": "79d1c69e-4324-46eb-8a9f-e63bb2f3096b",
   "metadata": {},
   "outputs": [
    {
     "name": "stdout",
     "output_type": "stream",
     "text": [
      "['1', '2', '3', '4', 'A', 'B', 'C', 'D', 'E', 'F', 'G', 'H', 'I', 'J', 'K', 'L', 'M', 'N', 'O', 'P', 'Q', 'R', 'S', 'T', 'U', 'V', 'W', 'X', 'Y', 'Z']\n",
      "amount of unique chain IDs in PISCES dataset: 30\n"
     ]
    }
   ],
   "source": [
    "print(sorted(pisces_df.chain.unique()))\n",
    "print(f'amount of unique chain IDs in PISCES dataset: {len(pisces_df.chain.unique())}')"
   ]
  },
  {
   "cell_type": "code",
   "execution_count": 15,
   "id": "75bd4d6b-bcb4-4bbd-bd58-45c1dceb5b31",
   "metadata": {},
   "outputs": [
    {
     "name": "stdout",
     "output_type": "stream",
     "text": [
      "['0', '1', '2', '3', '4', '5', '6', '7', '8', '9', 'A', 'B', 'C', 'D', 'E', 'F', 'G', 'H', 'I', 'J', 'K', 'L', 'M', 'N', 'O', 'P', 'Q', 'R', 'S', 'T', 'U', 'V', 'W', 'X', 'Y', 'Z']\n",
      "amount of unique chain IDs in dataset of raw sequences: 36\n"
     ]
    }
   ],
   "source": [
    "print(sorted(sequences_df.chain.unique()))\n",
    "print(f'amount of unique chain IDs in dataset of raw sequences: {len(sequences_df.chain.unique())}')"
   ]
  },
  {
   "cell_type": "markdown",
   "id": "989bc5bc-8d30-46e0-9a32-bf899806a008",
   "metadata": {},
   "source": [
    "As the protein secondary structure can be represented in the extended form containing 8 secondary structure types (Q8) and simplified, containing only 3 secondary structure types (Q3), we create new column with the simplified version for modeling\n",
    "\n",
    "Q8: Q3\n",
    "\n",
    "__helices__ G, H, I: H\n",
    "\n",
    "__sheet__ B, E: E\n",
    "\n",
    "__coil__ T, S, C: C\n",
    "\n",
    "Additionally, we get rid of the remaining columns and keep just PDB ID code, sequence, extended (Q8) secondary structure representation and simplified (Q3) representation as pdb_id, seq, sst_q8 and sst_q3, respectively:"
   ]
  },
  {
   "cell_type": "code",
   "execution_count": 16,
   "id": "6f5d001d-9761-47e8-afeb-4a38f5e51082",
   "metadata": {},
   "outputs": [],
   "source": [
    "processes_sequeces = processing.generate_seq_q8_q3_representation(combined_df)"
   ]
  },
  {
   "cell_type": "code",
   "execution_count": 17,
   "id": "721a3743-3347-41bd-8a60-07f94e9266bc",
   "metadata": {},
   "outputs": [
    {
     "data": {
      "text/html": [
       "<div>\n",
       "<style scoped>\n",
       "    .dataframe tbody tr th:only-of-type {\n",
       "        vertical-align: middle;\n",
       "    }\n",
       "\n",
       "    .dataframe tbody tr th {\n",
       "        vertical-align: top;\n",
       "    }\n",
       "\n",
       "    .dataframe thead th {\n",
       "        text-align: right;\n",
       "    }\n",
       "</style>\n",
       "<table border=\"1\" class=\"dataframe\">\n",
       "  <thead>\n",
       "    <tr style=\"text-align: right;\">\n",
       "      <th></th>\n",
       "      <th>pdb_id</th>\n",
       "      <th>seq</th>\n",
       "      <th>sst_q8</th>\n",
       "      <th>sst_q3</th>\n",
       "    </tr>\n",
       "  </thead>\n",
       "  <tbody>\n",
       "    <tr>\n",
       "      <th>0</th>\n",
       "      <td>1A1X</td>\n",
       "      <td>GSAGEDVGAPPDHLWVHQEGIYRDEYQRTWVAVVEEETSFLRARVQ...</td>\n",
       "      <td>CCCCCCCCCCCSEEEEEETTEEEETTSCEEEEEEEECSSCEEEEEE...</td>\n",
       "      <td>CCCCCCCCCCCCEEEEEECCEEEECCCCEEEEEEEECCCCEEEEEE...</td>\n",
       "    </tr>\n",
       "    <tr>\n",
       "      <th>1</th>\n",
       "      <td>1A3A</td>\n",
       "      <td>MANLFKLGAENIFLGRKAATKEEAIRFAGEQLVKGGYVEPEYVQAM...</td>\n",
       "      <td>CCCCCCCCGGGEECSCCCSSHHHHHHHHHHHHHHTTSBCTHHHHHH...</td>\n",
       "      <td>CCCCCCCCHHHEECCCCCCCHHHHHHHHHHHHHHCCCECCHHHHHH...</td>\n",
       "    </tr>\n",
       "    <tr>\n",
       "      <th>2</th>\n",
       "      <td>1A73</td>\n",
       "      <td>MALTNAQILAVIDSWEETVGQFPVITHHVPLGGGLQGTLHCYEIPL...</td>\n",
       "      <td>CCCCHHHHHHHHHHHHHHHTTSCEEEEEEEEETTEEEEEEEEBCCS...</td>\n",
       "      <td>CCCCHHHHHHHHHHHHHHHCCCCEEEEEEEEECCEEEEEEEEECCC...</td>\n",
       "    </tr>\n",
       "    <tr>\n",
       "      <th>3</th>\n",
       "      <td>1A8L</td>\n",
       "      <td>MGLISDADKKVIKEEFFSKMVNPVKLIVFVRKDHCQYCDQLKQLVQ...</td>\n",
       "      <td>CCSSCHHHHHHHHHHTGGGCCSCEEEEEEECSSSCTTHHHHHHHHH...</td>\n",
       "      <td>CCCCCHHHHHHHHHHCHHHCCCCEEEEEEECCCCCCCHHHHHHHHH...</td>\n",
       "    </tr>\n",
       "    <tr>\n",
       "      <th>4</th>\n",
       "      <td>1A9X</td>\n",
       "      <td>IKSALLVLEDGTQFHGRAIGATGSAVGEVVFNTSMTGYQEILTDPS...</td>\n",
       "      <td>CCEEEEEETTCCEEEEEECSCSEEEEEEEEEECCSSCHHHHHTCGG...</td>\n",
       "      <td>CCEEEEEECCCCEEEEEECCCCEEEEEEEEEECCCCCHHHHHCCHH...</td>\n",
       "    </tr>\n",
       "    <tr>\n",
       "      <th>...</th>\n",
       "      <td>...</td>\n",
       "      <td>...</td>\n",
       "      <td>...</td>\n",
       "      <td>...</td>\n",
       "    </tr>\n",
       "    <tr>\n",
       "      <th>10181</th>\n",
       "      <td>7BU2</td>\n",
       "      <td>MSMIKSYAAKEAGGELEVYEYDPGELRPQDVEVQVDYCGICHSDLS...</td>\n",
       "      <td>CCCEEEEEESSTTCCEEEEEECCCSCCTTEEEEEEEEEEECHHHHH...</td>\n",
       "      <td>CCCEEEEEECCCCCCEEEEEECCCCCCCCEEEEEEEEEEECHHHHH...</td>\n",
       "    </tr>\n",
       "    <tr>\n",
       "      <th>10182</th>\n",
       "      <td>7BVD</td>\n",
       "      <td>MQTTANHSSRSTQTGTRAHGAALAETTSREDFRALATEHRVVPVIR...</td>\n",
       "      <td>CCCCCCCCCCCCCCCCCCCCCCTTCCCCHHHHHHHHTTCSEEEEEE...</td>\n",
       "      <td>CCCCCCCCCCCCCCCCCCCCCCCCCCCCHHHHHHHHCCCCEEEEEE...</td>\n",
       "    </tr>\n",
       "    <tr>\n",
       "      <th>10183</th>\n",
       "      <td>7BYW</td>\n",
       "      <td>MRGSHHHHHHSGQRMGMVIGIKPEHIDEYKRLHAAVWPAVLARLAE...</td>\n",
       "      <td>CCCCCCCCCCCCCEEEEEEEECGGGHHHHHHHHTTCCHHHHHHHHH...</td>\n",
       "      <td>CCCCCCCCCCCCCEEEEEEEECHHHHHHHHHHHCCCCHHHHHHHHH...</td>\n",
       "    </tr>\n",
       "    <tr>\n",
       "      <th>10184</th>\n",
       "      <td>7ODC</td>\n",
       "      <td>MSSFTKDEFDCHILDEGFTAKDILDQKINEVSSSDDKDAFYVADLG...</td>\n",
       "      <td>CCEEEETTEEEEEECSSCCHHHHHHHHHCCCCCCCCCCCEEEEEHH...</td>\n",
       "      <td>CCEEEECCEEEEEECCCCCHHHHHHHHHCCCCCCCCCCCEEEEEHH...</td>\n",
       "    </tr>\n",
       "    <tr>\n",
       "      <th>10185</th>\n",
       "      <td>8ABP</td>\n",
       "      <td>ENLKLGFLVKQPEEPWFQTEWKFADKAGKDLGFEVIKIAVPDGEKT...</td>\n",
       "      <td>CCEEEEEEESCTTSHHHHHHHHHHHHHHHHHTEEEEEEECCSHHHH...</td>\n",
       "      <td>CCEEEEEEECCCCCHHHHHHHHHHHHHHHHHCEEEEEEECCCHHHH...</td>\n",
       "    </tr>\n",
       "  </tbody>\n",
       "</table>\n",
       "<p>10186 rows × 4 columns</p>\n",
       "</div>"
      ],
      "text/plain": [
       "      pdb_id                                                seq  \\\n",
       "0       1A1X  GSAGEDVGAPPDHLWVHQEGIYRDEYQRTWVAVVEEETSFLRARVQ...   \n",
       "1       1A3A  MANLFKLGAENIFLGRKAATKEEAIRFAGEQLVKGGYVEPEYVQAM...   \n",
       "2       1A73  MALTNAQILAVIDSWEETVGQFPVITHHVPLGGGLQGTLHCYEIPL...   \n",
       "3       1A8L  MGLISDADKKVIKEEFFSKMVNPVKLIVFVRKDHCQYCDQLKQLVQ...   \n",
       "4       1A9X  IKSALLVLEDGTQFHGRAIGATGSAVGEVVFNTSMTGYQEILTDPS...   \n",
       "...      ...                                                ...   \n",
       "10181   7BU2  MSMIKSYAAKEAGGELEVYEYDPGELRPQDVEVQVDYCGICHSDLS...   \n",
       "10182   7BVD  MQTTANHSSRSTQTGTRAHGAALAETTSREDFRALATEHRVVPVIR...   \n",
       "10183   7BYW  MRGSHHHHHHSGQRMGMVIGIKPEHIDEYKRLHAAVWPAVLARLAE...   \n",
       "10184   7ODC  MSSFTKDEFDCHILDEGFTAKDILDQKINEVSSSDDKDAFYVADLG...   \n",
       "10185   8ABP  ENLKLGFLVKQPEEPWFQTEWKFADKAGKDLGFEVIKIAVPDGEKT...   \n",
       "\n",
       "                                                  sst_q8  \\\n",
       "0      CCCCCCCCCCCSEEEEEETTEEEETTSCEEEEEEEECSSCEEEEEE...   \n",
       "1      CCCCCCCCGGGEECSCCCSSHHHHHHHHHHHHHHTTSBCTHHHHHH...   \n",
       "2      CCCCHHHHHHHHHHHHHHHTTSCEEEEEEEEETTEEEEEEEEBCCS...   \n",
       "3      CCSSCHHHHHHHHHHTGGGCCSCEEEEEEECSSSCTTHHHHHHHHH...   \n",
       "4      CCEEEEEETTCCEEEEEECSCSEEEEEEEEEECCSSCHHHHHTCGG...   \n",
       "...                                                  ...   \n",
       "10181  CCCEEEEEESSTTCCEEEEEECCCSCCTTEEEEEEEEEEECHHHHH...   \n",
       "10182  CCCCCCCCCCCCCCCCCCCCCCTTCCCCHHHHHHHHTTCSEEEEEE...   \n",
       "10183  CCCCCCCCCCCCCEEEEEEEECGGGHHHHHHHHTTCCHHHHHHHHH...   \n",
       "10184  CCEEEETTEEEEEECSSCCHHHHHHHHHCCCCCCCCCCCEEEEEHH...   \n",
       "10185  CCEEEEEEESCTTSHHHHHHHHHHHHHHHHHTEEEEEEECCSHHHH...   \n",
       "\n",
       "                                                  sst_q3  \n",
       "0      CCCCCCCCCCCCEEEEEECCEEEECCCCEEEEEEEECCCCEEEEEE...  \n",
       "1      CCCCCCCCHHHEECCCCCCCHHHHHHHHHHHHHHCCCECCHHHHHH...  \n",
       "2      CCCCHHHHHHHHHHHHHHHCCCCEEEEEEEEECCEEEEEEEEECCC...  \n",
       "3      CCCCCHHHHHHHHHHCHHHCCCCEEEEEEECCCCCCCHHHHHHHHH...  \n",
       "4      CCEEEEEECCCCEEEEEECCCCEEEEEEEEEECCCCCHHHHHCCHH...  \n",
       "...                                                  ...  \n",
       "10181  CCCEEEEEECCCCCCEEEEEECCCCCCCCEEEEEEEEEEECHHHHH...  \n",
       "10182  CCCCCCCCCCCCCCCCCCCCCCCCCCCCHHHHHHHHCCCCEEEEEE...  \n",
       "10183  CCCCCCCCCCCCCEEEEEEEECHHHHHHHHHHHCCCCHHHHHHHHH...  \n",
       "10184  CCEEEECCEEEEEECCCCCHHHHHHHHHCCCCCCCCCCCEEEEEHH...  \n",
       "10185  CCEEEEEEECCCCCHHHHHHHHHHHHHHHHHCEEEEEEECCCHHHH...  \n",
       "\n",
       "[10186 rows x 4 columns]"
      ]
     },
     "execution_count": 17,
     "metadata": {},
     "output_type": "execute_result"
    }
   ],
   "source": [
    "processes_sequeces"
   ]
  },
  {
   "cell_type": "markdown",
   "id": "51b6bf29-5f40-4d37-88ad-4a284dd3bc6b",
   "metadata": {},
   "source": [
    "Now, I am checking whether all representations of each protein in my dataset have complementary length"
   ]
  },
  {
   "cell_type": "code",
   "execution_count": 18,
   "id": "fddf5784-f0d5-412a-a161-74c54adb86d2",
   "metadata": {},
   "outputs": [],
   "source": [
    "test_df = pd.DataFrame()\n",
    "test_df['seq_len'] = [len(x) for x in processes_sequeces.seq]\n",
    "test_df['sst_q8_len'] = [len(x) for x in processes_sequeces.sst_q8]\n",
    "test_df['sst_q3_len'] = [len(x) for x in processes_sequeces.sst_q3]"
   ]
  },
  {
   "cell_type": "code",
   "execution_count": 19,
   "id": "47c5d5eb-fb71-4f90-bd28-897479ff605a",
   "metadata": {},
   "outputs": [
    {
     "data": {
      "text/plain": [
       "Series([], Name: pdb_id, dtype: object)"
      ]
     },
     "execution_count": 19,
     "metadata": {},
     "output_type": "execute_result"
    }
   ],
   "source": [
    "processes_sequeces['pdb_id'][(test_df.seq_len != test_df.sst_q8_len) | (test_df.seq_len != test_df.sst_q3_len)]"
   ]
  },
  {
   "cell_type": "code",
   "execution_count": 20,
   "id": "648f223c-5452-49da-8f27-f76598bcf70d",
   "metadata": {},
   "outputs": [],
   "source": [
    "processes_sequeces = processes_sequeces.assign(length=test_df.seq_len)"
   ]
  },
  {
   "cell_type": "markdown",
   "id": "3846cf3d-9288-44b7-97c5-0c32376ac779",
   "metadata": {},
   "source": [
    "There are no mismatches between representations, hence I proceed further. Sequences can potentially contain non-standard amino acids (https://www.samformat.info/IUPAC-ambiguity-codes).\n",
    "\n",
    "Standard set includes 20 types: 'A', 'C', 'D', 'E', 'F', 'G', 'H', 'I', 'K', 'L', 'M', 'N', 'P', 'Q', 'R', 'S', 'T', 'V', 'W', 'Y'\n",
    "\n",
    "Non-standard amino acids may include: 'B', 'J', 'O', 'U', 'Z' and 'X', where the last represents unspecified or unknown (potentially missing type). Let's have a look on those."
   ]
  },
  {
   "cell_type": "code",
   "execution_count": 21,
   "id": "1b76ab59-aa78-4238-ba02-8d89f69b0519",
   "metadata": {},
   "outputs": [],
   "source": [
    "nonstandard_aa = 'BJOUZX'\n",
    "contains_nonstandard_aa = []\n",
    "nonstandard_types = []\n",
    "for sequence in processes_sequeces.seq:\n",
    "    i = 0\n",
    "    ns_types = ''\n",
    "    for letter in sequence:\n",
    "        if letter in nonstandard_aa:\n",
    "            i += 1\n",
    "            ns_types += letter\n",
    "    contains_nonstandard_aa.append(i)\n",
    "    nonstandard_types.append(ns_types)\n",
    "processes_sequeces = processes_sequeces.assign(contains_nonstandard_aa = contains_nonstandard_aa)\n",
    "processes_sequeces = processes_sequeces.assign(nonstandard_types = nonstandard_types)"
   ]
  },
  {
   "cell_type": "code",
   "execution_count": 22,
   "id": "f9a18498-8be0-4a23-9ac3-63321b105673",
   "metadata": {},
   "outputs": [
    {
     "data": {
      "text/plain": [
       "(71, 7)"
      ]
     },
     "execution_count": 22,
     "metadata": {},
     "output_type": "execute_result"
    }
   ],
   "source": [
    "processes_sequeces[processes_sequeces.contains_nonstandard_aa > 0].shape"
   ]
  },
  {
   "cell_type": "markdown",
   "id": "09303f12-e5b4-4cfa-bf91-a5c59cdd82c7",
   "metadata": {},
   "source": [
    "We can observe, that 71 sequences contain nonstandard amino amids, I will have a closer look at those which have more of them, focusing especially on the unknown (X) "
   ]
  },
  {
   "cell_type": "code",
   "execution_count": 23,
   "id": "8f91d918-bc5b-40d1-8a53-3a78c661bb44",
   "metadata": {},
   "outputs": [
    {
     "data": {
      "text/html": [
       "<div>\n",
       "<style scoped>\n",
       "    .dataframe tbody tr th:only-of-type {\n",
       "        vertical-align: middle;\n",
       "    }\n",
       "\n",
       "    .dataframe tbody tr th {\n",
       "        vertical-align: top;\n",
       "    }\n",
       "\n",
       "    .dataframe thead th {\n",
       "        text-align: right;\n",
       "    }\n",
       "</style>\n",
       "<table border=\"1\" class=\"dataframe\">\n",
       "  <thead>\n",
       "    <tr style=\"text-align: right;\">\n",
       "      <th></th>\n",
       "      <th>pdb_id</th>\n",
       "      <th>seq</th>\n",
       "      <th>sst_q8</th>\n",
       "      <th>sst_q3</th>\n",
       "      <th>length</th>\n",
       "      <th>contains_nonstandard_aa</th>\n",
       "      <th>nonstandard_types</th>\n",
       "    </tr>\n",
       "  </thead>\n",
       "  <tbody>\n",
       "    <tr>\n",
       "      <th>906</th>\n",
       "      <td>1SN9</td>\n",
       "      <td>XYRIPSYDFADELAKLLRQAAGX</td>\n",
       "      <td>CCEETTEEHHHHHHHHHHHHTCC</td>\n",
       "      <td>CCEECCEEHHHHHHHHHHHHCCC</td>\n",
       "      <td>23</td>\n",
       "      <td>2</td>\n",
       "      <td>XX</td>\n",
       "    </tr>\n",
       "    <tr>\n",
       "      <th>2135</th>\n",
       "      <td>2O5G</td>\n",
       "      <td>XARRKWQKTGHAVRAIGRLSX</td>\n",
       "      <td>CCHHHHHHHHHHHHHHHHHCC</td>\n",
       "      <td>CCHHHHHHHHHHHHHHHHHCC</td>\n",
       "      <td>21</td>\n",
       "      <td>2</td>\n",
       "      <td>XX</td>\n",
       "    </tr>\n",
       "    <tr>\n",
       "      <th>2140</th>\n",
       "      <td>2O6N</td>\n",
       "      <td>XAEIEQAKKEIAYLIKKAKEEILEEIKKAKQEIAX</td>\n",
       "      <td>CCHHHHHHHHHHHHHHHHHHHHHHHHHHHHHHHCC</td>\n",
       "      <td>CCHHHHHHHHHHHHHHHHHHHHHHHHHHHHHHHCC</td>\n",
       "      <td>35</td>\n",
       "      <td>2</td>\n",
       "      <td>XX</td>\n",
       "    </tr>\n",
       "    <tr>\n",
       "      <th>2516</th>\n",
       "      <td>2RKZ</td>\n",
       "      <td>XETLTGQYDKNLVTTVEEEYDSX</td>\n",
       "      <td>CCCEEECSCTTSCCEEEEECCCC</td>\n",
       "      <td>CCCEEECCCCCCCCEEEEECCCC</td>\n",
       "      <td>23</td>\n",
       "      <td>2</td>\n",
       "      <td>XX</td>\n",
       "    </tr>\n",
       "    <tr>\n",
       "      <th>2801</th>\n",
       "      <td>2XSK</td>\n",
       "      <td>MGSSQITFNTTQQGDMYTIIPEVTLTQSULURVQILSLREGSSGQS...</td>\n",
       "      <td>CCCCEEEEEEEEETTEEEEEEEEECSSCEEEEEEEEEEEECSSCEE...</td>\n",
       "      <td>CCCCEEEEEEEEECCEEEEEEEEECCCCEEEEEEEEEEEECCCCEE...</td>\n",
       "      <td>110</td>\n",
       "      <td>2</td>\n",
       "      <td>UU</td>\n",
       "    </tr>\n",
       "    <tr>\n",
       "      <th>3210</th>\n",
       "      <td>3CAL</td>\n",
       "      <td>XKGIVTGAVSDHTTVEDTKX</td>\n",
       "      <td>CCCCEEECCSSCEEEECCCC</td>\n",
       "      <td>CCCCEEECCCCCEEEECCCC</td>\n",
       "      <td>20</td>\n",
       "      <td>2</td>\n",
       "      <td>XX</td>\n",
       "    </tr>\n",
       "    <tr>\n",
       "      <th>3213</th>\n",
       "      <td>3CAY</td>\n",
       "      <td>XAXAEAAEKAAKYAAEAAEKAAKAXAX</td>\n",
       "      <td>CCHHHHHHHHHHHHHHHHHHHHHHHCC</td>\n",
       "      <td>CCHHHHHHHHHHHHHHHHHHHHHHHCC</td>\n",
       "      <td>27</td>\n",
       "      <td>4</td>\n",
       "      <td>XXXX</td>\n",
       "    </tr>\n",
       "    <tr>\n",
       "      <th>4431</th>\n",
       "      <td>3O3Y</td>\n",
       "      <td>XTTWEAWDXAIAEYAXRIEXLIXAAQEQQEKNEXALXELX</td>\n",
       "      <td>CCCTTTHHHHHHHHHHHHHHHHHHHHHHHHHHHHHHSCCC</td>\n",
       "      <td>CCCCCCHHHHHHHHHHHHHHHHHHHHHHHHHHHHHHCCCC</td>\n",
       "      <td>40</td>\n",
       "      <td>8</td>\n",
       "      <td>XXXXXXXX</td>\n",
       "    </tr>\n",
       "    <tr>\n",
       "      <th>4933</th>\n",
       "      <td>3U5S</td>\n",
       "      <td>SMRTQQKRDTKFREDUPPDREELGRHSWAVLHTLAAYYPDLPTPEQ...</td>\n",
       "      <td>CCCCSCGGGTCCCSSSCCCHHHHHHHHHHHHHHHHHTSCSSCCHHH...</td>\n",
       "      <td>CCCCCCHHHCCCCCCCCCCHHHHHHHHHHHHHHHHHCCCCCCCHHH...</td>\n",
       "      <td>126</td>\n",
       "      <td>6</td>\n",
       "      <td>UUUUUU</td>\n",
       "    </tr>\n",
       "    <tr>\n",
       "      <th>5083</th>\n",
       "      <td>3W19</td>\n",
       "      <td>XNNLLRAIEAQQHLLQLTVWGIKQLQARILAVERYLKDQX</td>\n",
       "      <td>CCHHHHHHHHHHHHHHHHHHHHHHHHHHHHHHHHHHHHCC</td>\n",
       "      <td>CCHHHHHHHHHHHHHHHHHHHHHHHHHHHHHHHHHHHHCC</td>\n",
       "      <td>40</td>\n",
       "      <td>2</td>\n",
       "      <td>XX</td>\n",
       "    </tr>\n",
       "    <tr>\n",
       "      <th>5660</th>\n",
       "      <td>4G3B</td>\n",
       "      <td>GNADEXYKELEDXQERLRKXRKKLRS</td>\n",
       "      <td>CHHHHHHHHHHHHHHHHHHHHHHHHC</td>\n",
       "      <td>CHHHHHHHHHHHHHHHHHHHHHHHHC</td>\n",
       "      <td>26</td>\n",
       "      <td>3</td>\n",
       "      <td>XXX</td>\n",
       "    </tr>\n",
       "    <tr>\n",
       "      <th>6364</th>\n",
       "      <td>4OGG</td>\n",
       "      <td>NSRTVLILCGDYMEDYEVMVPFQALQAFGITVHTVCPGKKAGDSCP...</td>\n",
       "      <td>CCCEEEEECCTTEEHHHHHHHHHHHHHTTCEEEEECTTCCTTCEEC...</td>\n",
       "      <td>CCCEEEEECCCCEEHHHHHHHHHHHHHCCCEEEEECCCCCCCCEEC...</td>\n",
       "      <td>388</td>\n",
       "      <td>2</td>\n",
       "      <td>XX</td>\n",
       "    </tr>\n",
       "    <tr>\n",
       "      <th>6683</th>\n",
       "      <td>4RWC</td>\n",
       "      <td>XPLVVAASIIAILHLILWILDRLX</td>\n",
       "      <td>CCHHHHHHHHHHHHHHHHHHHHCC</td>\n",
       "      <td>CCHHHHHHHHHHHHHHHHHHHHCC</td>\n",
       "      <td>24</td>\n",
       "      <td>2</td>\n",
       "      <td>XX</td>\n",
       "    </tr>\n",
       "    <tr>\n",
       "      <th>7112</th>\n",
       "      <td>4Z0W</td>\n",
       "      <td>XAPAPFVPAAXAVXLAXLAALXG</td>\n",
       "      <td>CCCTTTGGGGGGGGGGGGGGGCC</td>\n",
       "      <td>CCCCCCHHHHHHHHHHHHHHHCC</td>\n",
       "      <td>23</td>\n",
       "      <td>5</td>\n",
       "      <td>XXXXX</td>\n",
       "    </tr>\n",
       "    <tr>\n",
       "      <th>8443</th>\n",
       "      <td>5UUK</td>\n",
       "      <td>XQWVREIAAGLRRAADDVNAQVERX</td>\n",
       "      <td>CCHHHHHHHHHHHHHHHHHHHHCCC</td>\n",
       "      <td>CCHHHHHHHHHHHHHHHHHHHHCCC</td>\n",
       "      <td>25</td>\n",
       "      <td>2</td>\n",
       "      <td>XX</td>\n",
       "    </tr>\n",
       "    <tr>\n",
       "      <th>9174</th>\n",
       "      <td>6FHN</td>\n",
       "      <td>GVVQSVNVSQAGYSSNDFKTATVTASDKLSDTSYQILQGTTVIATG...</td>\n",
       "      <td>CCEEEEECCTTCEETTSCCEEEEEESSCCSCCEEEEESSSSEEEEE...</td>\n",
       "      <td>CCEEEEECCCCCEECCCCCEEEEEECCCCCCCEEEEECCCCEEEEE...</td>\n",
       "      <td>1009</td>\n",
       "      <td>33</td>\n",
       "      <td>XXXXXXXXXXXXXXXXXXXXXXXXXXXXXXXXX</td>\n",
       "    </tr>\n",
       "    <tr>\n",
       "      <th>9259</th>\n",
       "      <td>6GME</td>\n",
       "      <td>XXXXXXXXXXXXXXXXXXINFKQAEKMMETMDQGDVIIRPSSKGEN...</td>\n",
       "      <td>CCCCCCCCCCCCCEEECCCCHHHHHHHHHHSCTTCEEEEECSSCTT...</td>\n",
       "      <td>CCCCCCCCCCCCCEEECCCCHHHHHHHHHHCCCCCEEEEECCCCCC...</td>\n",
       "      <td>201</td>\n",
       "      <td>18</td>\n",
       "      <td>XXXXXXXXXXXXXXXXXX</td>\n",
       "    </tr>\n",
       "    <tr>\n",
       "      <th>9748</th>\n",
       "      <td>6O40</td>\n",
       "      <td>XQARSDIEKLKEAIRDTNKAVQSVQSSIGNLIVAIKSVQDYVNKEI...</td>\n",
       "      <td>CCCHHHHHHHHHHHHHHHHHHHHHHHHHHHHHHHHHHHHHHHHHTH...</td>\n",
       "      <td>CCCHHHHHHHHHHHHHHHHHHHHHHHHHHHHHHHHHHHHHHHHHCH...</td>\n",
       "      <td>53</td>\n",
       "      <td>2</td>\n",
       "      <td>XX</td>\n",
       "    </tr>\n",
       "    <tr>\n",
       "      <th>9769</th>\n",
       "      <td>6OJ7</td>\n",
       "      <td>XHLEGEVNKIKSALLSTNKAVVSLSNGVSVLTSKVLDLKNYIDKQL...</td>\n",
       "      <td>CCHHHHHHHHHHHHHHHHHHHHHHHHHHHHHHHHHHHHHHHHHHHH...</td>\n",
       "      <td>CCHHHHHHHHHHHHHHHHHHHHHHHHHHHHHHHHHHHHHHHHHHHH...</td>\n",
       "      <td>53</td>\n",
       "      <td>2</td>\n",
       "      <td>XX</td>\n",
       "    </tr>\n",
       "    <tr>\n",
       "      <th>9866</th>\n",
       "      <td>6Q5O</td>\n",
       "      <td>XGELKALAQELKALAKELKALAWELKALAKGX</td>\n",
       "      <td>CCCHHHHHHHHHHHHHHHHHHHHHHHHHHHCC</td>\n",
       "      <td>CCCHHHHHHHHHHHHHHHHHHHHHHHHHHHCC</td>\n",
       "      <td>32</td>\n",
       "      <td>2</td>\n",
       "      <td>XX</td>\n",
       "    </tr>\n",
       "    <tr>\n",
       "      <th>10072</th>\n",
       "      <td>6TZK</td>\n",
       "      <td>FQSSAMVLRDGAKFEAQAGDPTQALETYKDAMVASGVTTTRPQDND...</td>\n",
       "      <td>CCCHHHHHHHHHHHHHHTTCHHHHHHHHHHHHHHHTSCSSCCCSHH...</td>\n",
       "      <td>CCCHHHHHHHHHHHHHHCCCHHHHHHHHHHHHHHHCCCCCCCCCHH...</td>\n",
       "      <td>455</td>\n",
       "      <td>4</td>\n",
       "      <td>XXXX</td>\n",
       "    </tr>\n",
       "  </tbody>\n",
       "</table>\n",
       "</div>"
      ],
      "text/plain": [
       "      pdb_id                                                seq  \\\n",
       "906     1SN9                            XYRIPSYDFADELAKLLRQAAGX   \n",
       "2135    2O5G                              XARRKWQKTGHAVRAIGRLSX   \n",
       "2140    2O6N                XAEIEQAKKEIAYLIKKAKEEILEEIKKAKQEIAX   \n",
       "2516    2RKZ                            XETLTGQYDKNLVTTVEEEYDSX   \n",
       "2801    2XSK  MGSSQITFNTTQQGDMYTIIPEVTLTQSULURVQILSLREGSSGQS...   \n",
       "3210    3CAL                               XKGIVTGAVSDHTTVEDTKX   \n",
       "3213    3CAY                        XAXAEAAEKAAKYAAEAAEKAAKAXAX   \n",
       "4431    3O3Y           XTTWEAWDXAIAEYAXRIEXLIXAAQEQQEKNEXALXELX   \n",
       "4933    3U5S  SMRTQQKRDTKFREDUPPDREELGRHSWAVLHTLAAYYPDLPTPEQ...   \n",
       "5083    3W19           XNNLLRAIEAQQHLLQLTVWGIKQLQARILAVERYLKDQX   \n",
       "5660    4G3B                         GNADEXYKELEDXQERLRKXRKKLRS   \n",
       "6364    4OGG  NSRTVLILCGDYMEDYEVMVPFQALQAFGITVHTVCPGKKAGDSCP...   \n",
       "6683    4RWC                           XPLVVAASIIAILHLILWILDRLX   \n",
       "7112    4Z0W                            XAPAPFVPAAXAVXLAXLAALXG   \n",
       "8443    5UUK                          XQWVREIAAGLRRAADDVNAQVERX   \n",
       "9174    6FHN  GVVQSVNVSQAGYSSNDFKTATVTASDKLSDTSYQILQGTTVIATG...   \n",
       "9259    6GME  XXXXXXXXXXXXXXXXXXINFKQAEKMMETMDQGDVIIRPSSKGEN...   \n",
       "9748    6O40  XQARSDIEKLKEAIRDTNKAVQSVQSSIGNLIVAIKSVQDYVNKEI...   \n",
       "9769    6OJ7  XHLEGEVNKIKSALLSTNKAVVSLSNGVSVLTSKVLDLKNYIDKQL...   \n",
       "9866    6Q5O                   XGELKALAQELKALAKELKALAWELKALAKGX   \n",
       "10072   6TZK  FQSSAMVLRDGAKFEAQAGDPTQALETYKDAMVASGVTTTRPQDND...   \n",
       "\n",
       "                                                  sst_q8  \\\n",
       "906                              CCEETTEEHHHHHHHHHHHHTCC   \n",
       "2135                               CCHHHHHHHHHHHHHHHHHCC   \n",
       "2140                 CCHHHHHHHHHHHHHHHHHHHHHHHHHHHHHHHCC   \n",
       "2516                             CCCEEECSCTTSCCEEEEECCCC   \n",
       "2801   CCCCEEEEEEEEETTEEEEEEEEECSSCEEEEEEEEEEEECSSCEE...   \n",
       "3210                                CCCCEEECCSSCEEEECCCC   \n",
       "3213                         CCHHHHHHHHHHHHHHHHHHHHHHHCC   \n",
       "4431            CCCTTTHHHHHHHHHHHHHHHHHHHHHHHHHHHHHHSCCC   \n",
       "4933   CCCCSCGGGTCCCSSSCCCHHHHHHHHHHHHHHHHHTSCSSCCHHH...   \n",
       "5083            CCHHHHHHHHHHHHHHHHHHHHHHHHHHHHHHHHHHHHCC   \n",
       "5660                          CHHHHHHHHHHHHHHHHHHHHHHHHC   \n",
       "6364   CCCEEEEECCTTEEHHHHHHHHHHHHHTTCEEEEECTTCCTTCEEC...   \n",
       "6683                            CCHHHHHHHHHHHHHHHHHHHHCC   \n",
       "7112                             CCCTTTGGGGGGGGGGGGGGGCC   \n",
       "8443                           CCHHHHHHHHHHHHHHHHHHHHCCC   \n",
       "9174   CCEEEEECCTTCEETTSCCEEEEEESSCCSCCEEEEESSSSEEEEE...   \n",
       "9259   CCCCCCCCCCCCCEEECCCCHHHHHHHHHHSCTTCEEEEECSSCTT...   \n",
       "9748   CCCHHHHHHHHHHHHHHHHHHHHHHHHHHHHHHHHHHHHHHHHHTH...   \n",
       "9769   CCHHHHHHHHHHHHHHHHHHHHHHHHHHHHHHHHHHHHHHHHHHHH...   \n",
       "9866                    CCCHHHHHHHHHHHHHHHHHHHHHHHHHHHCC   \n",
       "10072  CCCHHHHHHHHHHHHHHTTCHHHHHHHHHHHHHHHTSCSSCCCSHH...   \n",
       "\n",
       "                                                  sst_q3  length  \\\n",
       "906                              CCEECCEEHHHHHHHHHHHHCCC      23   \n",
       "2135                               CCHHHHHHHHHHHHHHHHHCC      21   \n",
       "2140                 CCHHHHHHHHHHHHHHHHHHHHHHHHHHHHHHHCC      35   \n",
       "2516                             CCCEEECCCCCCCCEEEEECCCC      23   \n",
       "2801   CCCCEEEEEEEEECCEEEEEEEEECCCCEEEEEEEEEEEECCCCEE...     110   \n",
       "3210                                CCCCEEECCCCCEEEECCCC      20   \n",
       "3213                         CCHHHHHHHHHHHHHHHHHHHHHHHCC      27   \n",
       "4431            CCCCCCHHHHHHHHHHHHHHHHHHHHHHHHHHHHHHCCCC      40   \n",
       "4933   CCCCCCHHHCCCCCCCCCCHHHHHHHHHHHHHHHHHCCCCCCCHHH...     126   \n",
       "5083            CCHHHHHHHHHHHHHHHHHHHHHHHHHHHHHHHHHHHHCC      40   \n",
       "5660                          CHHHHHHHHHHHHHHHHHHHHHHHHC      26   \n",
       "6364   CCCEEEEECCCCEEHHHHHHHHHHHHHCCCEEEEECCCCCCCCEEC...     388   \n",
       "6683                            CCHHHHHHHHHHHHHHHHHHHHCC      24   \n",
       "7112                             CCCCCCHHHHHHHHHHHHHHHCC      23   \n",
       "8443                           CCHHHHHHHHHHHHHHHHHHHHCCC      25   \n",
       "9174   CCEEEEECCCCCEECCCCCEEEEEECCCCCCCEEEEECCCCEEEEE...    1009   \n",
       "9259   CCCCCCCCCCCCCEEECCCCHHHHHHHHHHCCCCCEEEEECCCCCC...     201   \n",
       "9748   CCCHHHHHHHHHHHHHHHHHHHHHHHHHHHHHHHHHHHHHHHHHCH...      53   \n",
       "9769   CCHHHHHHHHHHHHHHHHHHHHHHHHHHHHHHHHHHHHHHHHHHHH...      53   \n",
       "9866                    CCCHHHHHHHHHHHHHHHHHHHHHHHHHHHCC      32   \n",
       "10072  CCCHHHHHHHHHHHHHHCCCHHHHHHHHHHHHHHHCCCCCCCCCHH...     455   \n",
       "\n",
       "       contains_nonstandard_aa                  nonstandard_types  \n",
       "906                          2                                 XX  \n",
       "2135                         2                                 XX  \n",
       "2140                         2                                 XX  \n",
       "2516                         2                                 XX  \n",
       "2801                         2                                 UU  \n",
       "3210                         2                                 XX  \n",
       "3213                         4                               XXXX  \n",
       "4431                         8                           XXXXXXXX  \n",
       "4933                         6                             UUUUUU  \n",
       "5083                         2                                 XX  \n",
       "5660                         3                                XXX  \n",
       "6364                         2                                 XX  \n",
       "6683                         2                                 XX  \n",
       "7112                         5                              XXXXX  \n",
       "8443                         2                                 XX  \n",
       "9174                        33  XXXXXXXXXXXXXXXXXXXXXXXXXXXXXXXXX  \n",
       "9259                        18                 XXXXXXXXXXXXXXXXXX  \n",
       "9748                         2                                 XX  \n",
       "9769                         2                                 XX  \n",
       "9866                         2                                 XX  \n",
       "10072                        4                               XXXX  "
      ]
     },
     "execution_count": 23,
     "metadata": {},
     "output_type": "execute_result"
    }
   ],
   "source": [
    "processes_sequeces[processes_sequeces.contains_nonstandard_aa > 1]"
   ]
  },
  {
   "cell_type": "code",
   "execution_count": 24,
   "id": "61e56642-6a8b-4ffc-9c53-cb8d3403b2b9",
   "metadata": {},
   "outputs": [
    {
     "data": {
      "text/html": [
       "<div>\n",
       "<style scoped>\n",
       "    .dataframe tbody tr th:only-of-type {\n",
       "        vertical-align: middle;\n",
       "    }\n",
       "\n",
       "    .dataframe tbody tr th {\n",
       "        vertical-align: top;\n",
       "    }\n",
       "\n",
       "    .dataframe thead th {\n",
       "        text-align: right;\n",
       "    }\n",
       "</style>\n",
       "<table border=\"1\" class=\"dataframe\">\n",
       "  <thead>\n",
       "    <tr style=\"text-align: right;\">\n",
       "      <th></th>\n",
       "      <th>pdb_id</th>\n",
       "      <th>seq</th>\n",
       "      <th>sst_q8</th>\n",
       "      <th>sst_q3</th>\n",
       "      <th>length</th>\n",
       "      <th>contains_nonstandard_aa</th>\n",
       "      <th>nonstandard_types</th>\n",
       "    </tr>\n",
       "  </thead>\n",
       "  <tbody>\n",
       "    <tr>\n",
       "      <th>4431</th>\n",
       "      <td>3O3Y</td>\n",
       "      <td>XTTWEAWDXAIAEYAXRIEXLIXAAQEQQEKNEXALXELX</td>\n",
       "      <td>CCCTTTHHHHHHHHHHHHHHHHHHHHHHHHHHHHHHSCCC</td>\n",
       "      <td>CCCCCCHHHHHHHHHHHHHHHHHHHHHHHHHHHHHHCCCC</td>\n",
       "      <td>40</td>\n",
       "      <td>8</td>\n",
       "      <td>XXXXXXXX</td>\n",
       "    </tr>\n",
       "    <tr>\n",
       "      <th>4933</th>\n",
       "      <td>3U5S</td>\n",
       "      <td>SMRTQQKRDTKFREDUPPDREELGRHSWAVLHTLAAYYPDLPTPEQ...</td>\n",
       "      <td>CCCCSCGGGTCCCSSSCCCHHHHHHHHHHHHHHHHHTSCSSCCHHH...</td>\n",
       "      <td>CCCCCCHHHCCCCCCCCCCHHHHHHHHHHHHHHHHHCCCCCCCHHH...</td>\n",
       "      <td>126</td>\n",
       "      <td>6</td>\n",
       "      <td>UUUUUU</td>\n",
       "    </tr>\n",
       "    <tr>\n",
       "      <th>7112</th>\n",
       "      <td>4Z0W</td>\n",
       "      <td>XAPAPFVPAAXAVXLAXLAALXG</td>\n",
       "      <td>CCCTTTGGGGGGGGGGGGGGGCC</td>\n",
       "      <td>CCCCCCHHHHHHHHHHHHHHHCC</td>\n",
       "      <td>23</td>\n",
       "      <td>5</td>\n",
       "      <td>XXXXX</td>\n",
       "    </tr>\n",
       "    <tr>\n",
       "      <th>9174</th>\n",
       "      <td>6FHN</td>\n",
       "      <td>GVVQSVNVSQAGYSSNDFKTATVTASDKLSDTSYQILQGTTVIATG...</td>\n",
       "      <td>CCEEEEECCTTCEETTSCCEEEEEESSCCSCCEEEEESSSSEEEEE...</td>\n",
       "      <td>CCEEEEECCCCCEECCCCCEEEEEECCCCCCCEEEEECCCCEEEEE...</td>\n",
       "      <td>1009</td>\n",
       "      <td>33</td>\n",
       "      <td>XXXXXXXXXXXXXXXXXXXXXXXXXXXXXXXXX</td>\n",
       "    </tr>\n",
       "    <tr>\n",
       "      <th>9259</th>\n",
       "      <td>6GME</td>\n",
       "      <td>XXXXXXXXXXXXXXXXXXINFKQAEKMMETMDQGDVIIRPSSKGEN...</td>\n",
       "      <td>CCCCCCCCCCCCCEEECCCCHHHHHHHHHHSCTTCEEEEECSSCTT...</td>\n",
       "      <td>CCCCCCCCCCCCCEEECCCCHHHHHHHHHHCCCCCEEEEECCCCCC...</td>\n",
       "      <td>201</td>\n",
       "      <td>18</td>\n",
       "      <td>XXXXXXXXXXXXXXXXXX</td>\n",
       "    </tr>\n",
       "  </tbody>\n",
       "</table>\n",
       "</div>"
      ],
      "text/plain": [
       "     pdb_id                                                seq  \\\n",
       "4431   3O3Y           XTTWEAWDXAIAEYAXRIEXLIXAAQEQQEKNEXALXELX   \n",
       "4933   3U5S  SMRTQQKRDTKFREDUPPDREELGRHSWAVLHTLAAYYPDLPTPEQ...   \n",
       "7112   4Z0W                            XAPAPFVPAAXAVXLAXLAALXG   \n",
       "9174   6FHN  GVVQSVNVSQAGYSSNDFKTATVTASDKLSDTSYQILQGTTVIATG...   \n",
       "9259   6GME  XXXXXXXXXXXXXXXXXXINFKQAEKMMETMDQGDVIIRPSSKGEN...   \n",
       "\n",
       "                                                 sst_q8  \\\n",
       "4431           CCCTTTHHHHHHHHHHHHHHHHHHHHHHHHHHHHHHSCCC   \n",
       "4933  CCCCSCGGGTCCCSSSCCCHHHHHHHHHHHHHHHHHTSCSSCCHHH...   \n",
       "7112                            CCCTTTGGGGGGGGGGGGGGGCC   \n",
       "9174  CCEEEEECCTTCEETTSCCEEEEEESSCCSCCEEEEESSSSEEEEE...   \n",
       "9259  CCCCCCCCCCCCCEEECCCCHHHHHHHHHHSCTTCEEEEECSSCTT...   \n",
       "\n",
       "                                                 sst_q3  length  \\\n",
       "4431           CCCCCCHHHHHHHHHHHHHHHHHHHHHHHHHHHHHHCCCC      40   \n",
       "4933  CCCCCCHHHCCCCCCCCCCHHHHHHHHHHHHHHHHHCCCCCCCHHH...     126   \n",
       "7112                            CCCCCCHHHHHHHHHHHHHHHCC      23   \n",
       "9174  CCEEEEECCCCCEECCCCCEEEEEECCCCCCCEEEEECCCCEEEEE...    1009   \n",
       "9259  CCCCCCCCCCCCCEEECCCCHHHHHHHHHHCCCCCEEEEECCCCCC...     201   \n",
       "\n",
       "      contains_nonstandard_aa                  nonstandard_types  \n",
       "4431                        8                           XXXXXXXX  \n",
       "4933                        6                             UUUUUU  \n",
       "7112                        5                              XXXXX  \n",
       "9174                       33  XXXXXXXXXXXXXXXXXXXXXXXXXXXXXXXXX  \n",
       "9259                       18                 XXXXXXXXXXXXXXXXXX  "
      ]
     },
     "execution_count": 24,
     "metadata": {},
     "output_type": "execute_result"
    }
   ],
   "source": [
    "processes_sequeces[processes_sequeces.contains_nonstandard_aa > 4]"
   ]
  },
  {
   "cell_type": "code",
   "execution_count": 25,
   "id": "77d430f0-0273-4c87-853a-6107c9e8f6e9",
   "metadata": {},
   "outputs": [
    {
     "data": {
      "text/plain": [
       "array(['GVVQSVNVSQAGYSSNDFKTATVTASDKLSDTSYQILQGTTVIATGTMKDEGYVWGKYVYSIDFSSVTATGTNFTIRSNGVSSYTFPIQTNMWNEYKDEMTAFYRLLRTTDTFAAYPAGYSNIAPSNKILHPDSFLDDAFSPDRTTHYDLTGGWFDAGDYGKYGGNQWVQGNIAISYLRHASSAAVNFDKDTNGIPDLVDEAIFGSQYLVKFANQLGGAIHNILRKGGFVLPHKVTDNVPGNTDDRALEAVEAVGGSGKSSGSLAATARAIRTAIAGGKVAANKVAQLQTLANEFQAAAIIFYNYTLTHQSGNHGSYGTMNNGGIANPLLWAEVQLYLLTGDAAYKTQAQTRINAINEAYVSSTNYWDMHPIALAEFYPVADSAIKTKIQSILKHQAYYFITLMDETPYGVLNQFGNFGVNEPHASYMADLLRYYELFNDPVALRAAKKALYWIVGNNPWNISWVSGVGSNFTDFLHTRLDEEAYSQTNTGVVLPGAMVSGPNIKDPNNKLSSSPWYEDKPIWADDTNQWRYNEYSVSIQTGLFYTIMGLSALGGNASTGGAEPVKLPITWPIIGDYVTGDVTVFAQPEGSLSNVSANGIVLSPSDGVYTTTVSTSADAPYTERKVQIKGTDDSGFTTYSNTHFTVAPALPDPSHPLLFDDFNQKGIWGSQKLDWVNWYNQNGGTASYTRTTVDTRTVGKFAHTPAATTSKAKFQPWKYNANLNGYRYLNFTMKNPGYPNTKIRIAANDGTKSVNLTSGEVAISSTWTTYQYDLNLHPTLNKSNVLIEVWLSNPTAGAYGEILIDEISAVNTNSGTAPTLSATGVNASIGNQSTVFTYTATYTDANNQAPFDVQVVIDGVIRSMTAADPTDTTYSDGRVYTYATTLPVGTHKFYFRTTDTTTNFVSTSVQTGPTVIRNKLEAEVLSINLTNYTHAVKDNADASGGKYRLFNGRQANDYIEYAVNVPKAGTYQVSAXXXXXXXXXXXXXXXXXGXXXXXXXXXXXXXXXX'],\n",
       "      dtype=object)"
      ]
     },
     "execution_count": 25,
     "metadata": {},
     "output_type": "execute_result"
    }
   ],
   "source": [
    "processes_sequeces.seq[processes_sequeces.pdb_id == '6FHN'].values"
   ]
  },
  {
   "cell_type": "code",
   "execution_count": 26,
   "id": "59c67207-2289-4ddd-92c1-747ac5d8203c",
   "metadata": {},
   "outputs": [
    {
     "data": {
      "text/plain": [
       "array(['XXXXXXXXXXXXXXXXXXINFKQAEKMMETMDQGDVIIRPSSKGENHLTVTWKVSDGIYQHVDVREEGKENAFSLGATLWINSEEFEDLDEIVARYVQPMASFARDLLNHKYYQDCSGGDRKKLEELLIKTKKEKPTFIPYFICACKELPGKFLLGYQPRGKPRIEYVTVTPEGFRYRGQIFPTVNGLFRWFKDHYQDPVP'],\n",
       "      dtype=object)"
      ]
     },
     "execution_count": 26,
     "metadata": {},
     "output_type": "execute_result"
    }
   ],
   "source": [
    "processes_sequeces.seq[processes_sequeces.pdb_id == '6GME'].values"
   ]
  },
  {
   "cell_type": "markdown",
   "id": "9ecd901a-89a6-4dea-bc01-7e59fb81710d",
   "metadata": {},
   "source": [
    "There are two sequences (6FHN and 6GME) in the dataset which contains significant amount of the unknown residues at the beginning or end, which most likely is conditioned by high mobility of these regions preventing correct assignment of the amino acid type, which affects the quality of the DSSP secondary structure prediciton, so I will remove these two sequences from the dataset, as they are most likely of lower quality besides their relatively high resolution as filtered in CulledPDB from PISCES."
   ]
  },
  {
   "cell_type": "code",
   "execution_count": 27,
   "id": "e9fce77a-2ad6-4ff0-8245-0942227d3fa0",
   "metadata": {},
   "outputs": [],
   "source": [
    "processes_sequeces = processes_sequeces.drop(processes_sequeces[processes_sequeces.contains_nonstandard_aa > 10].index)"
   ]
  },
  {
   "cell_type": "markdown",
   "id": "63542791-06f6-4e2d-a588-3999a2e0c6ed",
   "metadata": {},
   "source": [
    "## __5. Exploration of preprocessed dataset for modeling__"
   ]
  },
  {
   "cell_type": "markdown",
   "id": "abe9f10b-570d-4bf1-986f-eb458dbe6e91",
   "metadata": {},
   "source": [
    "I will now have a brief look on prepared sequences, which I will later use while evaluating the model quality"
   ]
  },
  {
   "cell_type": "code",
   "execution_count": 28,
   "id": "76cc8ae9-d453-4e51-b6cc-43c218b7ed33",
   "metadata": {},
   "outputs": [],
   "source": [
    "from tools import visualizer"
   ]
  },
  {
   "cell_type": "code",
   "execution_count": 29,
   "id": "01153d28-eb35-464b-b7aa-3fcc463922a2",
   "metadata": {},
   "outputs": [
    {
     "data": {
      "image/png": "[encoded data removed]",
      "text/plain": [
       "<Figure size 432x288 with 1 Axes>"
      ]
     },
     "metadata": {
      "needs_background": "light"
     },
     "output_type": "display_data"
    }
   ],
   "source": [
    "visualizer.visualize_occurrence(feature_series=processes_sequeces.seq, xlabel='Amino acids type').show()"
   ]
  },
  {
   "cell_type": "code",
   "execution_count": 30,
   "id": "7e5316a8-d337-4243-a054-c5a53eb5a927",
   "metadata": {},
   "outputs": [
    {
     "data": {
      "image/png": "[encoded data removed]",
      "text/plain": [
       "<Figure size 432x288 with 1 Axes>"
      ]
     },
     "metadata": {
      "needs_background": "light"
     },
     "output_type": "display_data"
    }
   ],
   "source": [
    "visualizer.visualize_occurrence(feature_series=processes_sequeces.sst_q8, xlabel='Q8 secondary structure type').show()"
   ]
  },
  {
   "cell_type": "code",
   "execution_count": 31,
   "id": "b319b5cc-7874-48ce-a694-028fc06048d1",
   "metadata": {},
   "outputs": [
    {
     "data": {
      "image/png": "[encoded data removed]",
      "text/plain": [
       "<Figure size 432x288 with 1 Axes>"
      ]
     },
     "metadata": {
      "needs_background": "light"
     },
     "output_type": "display_data"
    }
   ],
   "source": [
    "visualizer.visualize_occurrence(feature_series=processes_sequeces.sst_q3, xlabel='Q3 secondary structure type').show()"
   ]
  },
  {
   "cell_type": "code",
   "execution_count": null,
   "id": "2f72f35d-e0d1-4581-b230-20a1999f83ec",
   "metadata": {},
   "outputs": [],
   "source": [
    "x"
   ]
  },
  {
   "cell_type": "code",
   "execution_count": null,
   "id": "716ae09c-5b4e-4d09-b9f3-ced603e72bbe",
   "metadata": {},
   "outputs": [],
   "source": []
  }
 ],
 "metadata": {
  "kernelspec": {
   "display_name": "Python 3",
   "language": "python",
   "name": "python3"
  },
  "language_info": {
   "codemirror_mode": {
    "name": "ipython",
    "version": 3
   },
   "file_extension": ".py",
   "mimetype": "text/x-python",
   "name": "python",
   "nbconvert_exporter": "python",
   "pygments_lexer": "ipython3",
   "version": "3.8.8"
  }
 },
 "nbformat": 4,
 "nbformat_minor": 5
}
