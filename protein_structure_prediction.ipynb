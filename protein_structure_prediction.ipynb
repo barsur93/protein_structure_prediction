{
 "cells": [
  {
   "cell_type": "markdown",
   "id": "PaqfUHWl7uB6",
   "metadata": {
    "id": "PaqfUHWl7uB6"
   },
   "source": [
    "Imports and settings when working on google colab"
   ]
  },
  {
   "cell_type": "code",
   "execution_count": null,
   "id": "TqLBDWByN_fa",
   "metadata": {
    "colab": {
     "base_uri": "https://localhost:8080/"
    },
    "executionInfo": {
     "elapsed": 409,
     "status": "ok",
     "timestamp": 1628801376354,
     "user": {
      "displayName": "Bartłomiej Surpeta",
      "photoUrl": "https://lh3.googleusercontent.com/a-/AOh14Gims9u11iysaT9tr9s4-NxqqgNXlkXzvsKKeEKGdQ=s64",
      "userId": "08700191692100803480"
     },
     "user_tz": -120
    },
    "id": "TqLBDWByN_fa",
    "outputId": "ac2a3905-815c-4565-81e1-d899776f6a0b"
   },
   "outputs": [],
   "source": [
    "from google.colab import drive\n",
    "drive.mount('/content/drive')"
   ]
  },
  {
   "cell_type": "code",
   "execution_count": null,
   "id": "SJ_OSpaVOuNV",
   "metadata": {
    "colab": {
     "base_uri": "https://localhost:8080/"
    },
    "executionInfo": {
     "elapsed": 223,
     "status": "ok",
     "timestamp": 1628801378090,
     "user": {
      "displayName": "Bartłomiej Surpeta",
      "photoUrl": "https://lh3.googleusercontent.com/a-/AOh14Gims9u11iysaT9tr9s4-NxqqgNXlkXzvsKKeEKGdQ=s64",
      "userId": "08700191692100803480"
     },
     "user_tz": -120
    },
    "id": "SJ_OSpaVOuNV",
    "outputId": "0fb252f3-68de-4939-ac77-e813af5419ae"
   },
   "outputs": [],
   "source": [
    "%cd /content/drive/MyDrive/github_projects/protein_structure_prediction"
   ]
  },
  {
   "cell_type": "markdown",
   "id": "0c26b5db-0053-4930-a069-338114389fe7",
   "metadata": {
    "id": "0c26b5db-0053-4930-a069-338114389fe7"
   },
   "source": [
    "## __proteinSSpredictor__"
   ]
  },
  {
   "cell_type": "markdown",
   "id": "2546f57f-1e11-49ef-b0a7-50cabaefaa9c",
   "metadata": {
    "id": "2546f57f-1e11-49ef-b0a7-50cabaefaa9c",
    "tags": []
   },
   "source": [
    "#### This projects constitutes a final project for Data Science Bootcamp organised by Sages and aims at providing a deep-learning-based approach to predict secondary structure of the protein based on its primary sequence of the amino acids."
   ]
  },
  {
   "cell_type": "markdown",
   "id": "43949779-cf2c-41be-adc5-63ab144d3d60",
   "metadata": {
    "id": "43949779-cf2c-41be-adc5-63ab144d3d60"
   },
   "source": [
    "## __Table of contents__\n",
    "#### 1. Abstract\n",
    "#### 2. Source of raw sequences\n",
    "#### 3. Curation of the dataset\n",
    "#### 4. Prerequisites\n",
    "#### 5. Raw data processing\n",
    "#### 6. Exploration of preprocessed dataset for modeling\n",
    "#### 7. Sequences representation for modeling\n",
    "#### 8. Building a model\n",
    "#### 9. Where is the model making errors?\n",
    "#### 10. Summary\n",
    "#### 11. References"
   ]
  },
  {
   "cell_type": "markdown",
   "id": "163c6be5-09fb-452f-a646-a47daa9bb979",
   "metadata": {
    "id": "163c6be5-09fb-452f-a646-a47daa9bb979"
   },
   "source": [
    "## __1. Abstract__"
   ]
  },
  {
   "cell_type": "markdown",
   "id": "fb68749b-b100-4385-ac0a-1cf9098fec27",
   "metadata": {
    "id": "fb68749b-b100-4385-ac0a-1cf9098fec27"
   },
   "source": [
    "#### With current development of next generation sequencing (NGS) techniques, the number of protein sequences is rapidly growing nowadays. On the other hand, experimental determination of protein structures either using X-ray crystallography, nuclear magnetic resonans (NMR) or other techniques is extremely costly, time-consuming and requires significant labour of experts in the field. This results in a huge disproportion between available protein sequences and structures available in biological databases as shown on Figure 1. \n",
    "\n",
    " <img src=\"https://res.cloudinary.com/dnastar/image/upload/f_auto,q_auto/w_790,h_466,c_scale/v1595358297/2020-07-21_12-08-59_mwu1cj.jpg\" width=\"500\" />\n",
    " Figure 1. Increase of the protein structures and sequences in biological databases (1)\n",
    ". \n",
    "\n",
    "#### Increasing availability of powerfull hardware, improvement of algorithms and software open the opportunity of the protein structure prediction computationally which allows avoiding costly experimental determination of the structures. The ultimate goal of the structure prediction is to predict the 3D-structure of the protein or even the quaternary structure which considers prediction of structures of multi-chain complexes (2). Although the prediction of secondary structure represents only part of the entire structure prediction process, it constitutes a vital element of the process and due to significantly lower complexity of the problem compared to 3D structure or quaternary structure prediciton, represent a perfect challange for training.\n",
    "\n",
    "#### The goal of this project is to propose a neural network-based approach for secondary structure prediction from sequence using ProtVec embeddings (3). "
   ]
  },
  {
   "cell_type": "markdown",
   "id": "c24ac610-f516-4f50-b202-de8921667f1d",
   "metadata": {
    "id": "c24ac610-f516-4f50-b202-de8921667f1d"
   },
   "source": [
    "## __2. Source of raw sequences__"
   ]
  },
  {
   "cell_type": "markdown",
   "id": "d8991bec-68c3-4625-bfd9-fd967098f21a",
   "metadata": {
    "id": "d8991bec-68c3-4625-bfd9-fd967098f21a"
   },
   "source": [
    "#### Preparation of the updated dataset analogous to reference (4)\n",
    "\n",
    "#### Following steps from (5) the secondary structure data was downloaded by"
   ]
  },
  {
   "cell_type": "markdown",
   "id": "c14dce5d-97fe-4545-9e3f-dcf946dcd8f0",
   "metadata": {
    "id": "c14dce5d-97fe-4545-9e3f-dcf946dcd8f0"
   },
   "source": [
    "`DATE_STAMP=$(date  +'%Y-%m-%d')\n",
    "wget https://cdn.rcsb.org/etl/kabschSander/ss.txt.gz -O ${DATE_TAMP}-ss.txt.gz`"
   ]
  },
  {
   "cell_type": "markdown",
   "id": "ea8511d7-54b7-4b08-bb96-556c2dbd1ef8",
   "metadata": {
    "id": "ea8511d7-54b7-4b08-bb96-556c2dbd1ef8"
   },
   "source": [
    "#### Further, data was transformed to csv file analogously to (5) using self-implemented method (see below for more details)."
   ]
  },
  {
   "cell_type": "markdown",
   "id": "4c364584-4ffc-456d-b209-a274b4182707",
   "metadata": {
    "id": "4c364584-4ffc-456d-b209-a274b4182707"
   },
   "source": [
    "## __3. Curation of the sequence dataset__ "
   ]
  },
  {
   "cell_type": "markdown",
   "id": "a88f60c1-f9b7-471e-bff4-10fa8f8f46fe",
   "metadata": {
    "id": "a88f60c1-f9b7-471e-bff4-10fa8f8f46fe"
   },
   "source": [
    "#### Further, recent PISCES data with removed peptides with high sequence similarity was downloaded from (6)\n",
    "\n",
    "#### Selected precompiled CulledPDB for further modeling was generated with following criteria:\n",
    "\n",
    "- percentage identity cutoff: 30%\n",
    "- the resolution cutoff:      2.0 Å\n",
    "- the R-factor cutoff:        0.25\n",
    "- date of generation:         2021/07/02\n",
    "- the number of sequences:    10870\n"
   ]
  },
  {
   "cell_type": "markdown",
   "id": "d655d65c-849e-4098-8b15-c7912e9586dc",
   "metadata": {
    "id": "d655d65c-849e-4098-8b15-c7912e9586dc"
   },
   "source": [
    "## __4. Prerequisites__"
   ]
  },
  {
   "cell_type": "markdown",
   "id": "1aa24672-2f81-44b0-88c2-70d77196309a",
   "metadata": {},
   "source": [
    "#### __Standard imports__"
   ]
  },
  {
   "cell_type": "code",
   "execution_count": 1,
   "id": "23c9304a-5630-4ef9-a5cc-012a0c46f71b",
   "metadata": {
    "executionInfo": {
     "elapsed": 2158,
     "status": "ok",
     "timestamp": 1628801382611,
     "user": {
      "displayName": "Bartłomiej Surpeta",
      "photoUrl": "https://lh3.googleusercontent.com/a-/AOh14Gims9u11iysaT9tr9s4-NxqqgNXlkXzvsKKeEKGdQ=s64",
      "userId": "08700191692100803480"
     },
     "user_tz": -120
    },
    "id": "23c9304a-5630-4ef9-a5cc-012a0c46f71b"
   },
   "outputs": [],
   "source": [
    "import pandas as pd\n",
    "import numpy as np\n",
    "import matplotlib.pyplot as plt\n",
    "import itertools\n",
    "from collections import Counter\n",
    "\n",
    "from sklearn.model_selection import train_test_split\n",
    "from sklearn.metrics import accuracy_score\n",
    "\n",
    "from tensorflow.keras.utils import to_categorical\n",
    "from tensorflow.keras.preprocessing.text import Tokenizer\n",
    "from tensorflow.keras.preprocessing.sequence import pad_sequences\n",
    "from tensorflow.keras.models import Sequential\n",
    "from tensorflow.keras.layers import LSTM, Embedding, Dense, TimeDistributed, Bidirectional, Conv1D\n",
    "from tensorflow.keras.callbacks import EarlyStopping\n",
    "from tensorflow.keras.models import load_model"
   ]
  },
  {
   "cell_type": "markdown",
   "id": "b8841f80-af6d-4920-967b-b8b22dd61461",
   "metadata": {},
   "source": [
    "#### __Custom imports__"
   ]
  },
  {
   "cell_type": "code",
   "execution_count": 2,
   "id": "743faf5a-b230-4d8a-938b-56cdbb3fc022",
   "metadata": {},
   "outputs": [],
   "source": [
    "from tools import process_raw_data\n",
    "from tools import visualizer\n",
    "from tools import prepare_for_modeling\n",
    "from tools import analizer"
   ]
  },
  {
   "cell_type": "markdown",
   "id": "b93d1cd4-f53d-454a-a342-a1f606cb2760",
   "metadata": {
    "id": "b93d1cd4-f53d-454a-a342-a1f606cb2760"
   },
   "source": [
    "## __5. Raw data processing__\n",
    "#### At this point the raw sequences were converted to CSV file, translated to 3 letters representation, and combined with culledPDB list with reduced sequence identity to improve the model quality"
   ]
  },
  {
   "cell_type": "code",
   "execution_count": 3,
   "id": "7e854db9-7eb6-4256-beee-3cedfa28e6c0",
   "metadata": {
    "executionInfo": {
     "elapsed": 11,
     "status": "ok",
     "timestamp": 1628801382618,
     "user": {
      "displayName": "Bartłomiej Surpeta",
      "photoUrl": "https://lh3.googleusercontent.com/a-/AOh14Gims9u11iysaT9tr9s4-NxqqgNXlkXzvsKKeEKGdQ=s64",
      "userId": "08700191692100803480"
     },
     "user_tz": -120
    },
    "id": "7e854db9-7eb6-4256-beee-3cedfa28e6c0"
   },
   "outputs": [],
   "source": [
    "processing = process_raw_data.Sequences()"
   ]
  },
  {
   "cell_type": "code",
   "execution_count": 4,
   "id": "00407888-c1f6-4d71-b67f-a39e6bce8eef",
   "metadata": {
    "executionInfo": {
     "elapsed": 11,
     "status": "ok",
     "timestamp": 1628801382619,
     "user": {
      "displayName": "Bartłomiej Surpeta",
      "photoUrl": "https://lh3.googleusercontent.com/a-/AOh14Gims9u11iysaT9tr9s4-NxqqgNXlkXzvsKKeEKGdQ=s64",
      "userId": "08700191692100803480"
     },
     "user_tz": -120
    },
    "id": "00407888-c1f6-4d71-b67f-a39e6bce8eef"
   },
   "outputs": [
    {
     "name": "stdout",
     "output_type": "stream",
     "text": [
      "processed 477153 sequences\n",
      "CPU times: user 10.7 s, sys: 329 ms, total: 11.1 s\n",
      "Wall time: 11.6 s\n"
     ]
    }
   ],
   "source": [
    "%time sequences_df = processing.process_raw_sequences('../data/2021-07-09-ss.txt.gz')"
   ]
  },
  {
   "cell_type": "code",
   "execution_count": 5,
   "id": "0103cad8-c1ff-436b-b1e3-e28fa75508b8",
   "metadata": {
    "executionInfo": {
     "elapsed": 2952,
     "status": "ok",
     "timestamp": 1628801385562,
     "user": {
      "displayName": "Bartłomiej Surpeta",
      "photoUrl": "https://lh3.googleusercontent.com/a-/AOh14Gims9u11iysaT9tr9s4-NxqqgNXlkXzvsKKeEKGdQ=s64",
      "userId": "08700191692100803480"
     },
     "user_tz": -120
    },
    "id": "0103cad8-c1ff-436b-b1e3-e28fa75508b8"
   },
   "outputs": [],
   "source": [
    "#optional for faster processing (load already preprocessed data):\n",
    "# sequences_df = pd.read_csv('../data/2021-07-09-ss.csv')"
   ]
  },
  {
   "cell_type": "markdown",
   "id": "4cba3ed6-cdec-418f-99c5-012fb71e40a7",
   "metadata": {
    "id": "4cba3ed6-cdec-418f-99c5-012fb71e40a7"
   },
   "source": [
    "#### The set of raw sequences before processing with CulledPDB dataset contains 477154 and includes information about the sequence PDB ID code, protein chain and its primary sequence together with the secondary structure sequence"
   ]
  },
  {
   "cell_type": "code",
   "execution_count": 6,
   "id": "15f70d29-4960-4645-9d14-18a3a0fd0571",
   "metadata": {
    "colab": {
     "base_uri": "https://localhost:8080/"
    },
    "executionInfo": {
     "elapsed": 24,
     "status": "ok",
     "timestamp": 1628801385568,
     "user": {
      "displayName": "Bartłomiej Surpeta",
      "photoUrl": "https://lh3.googleusercontent.com/a-/AOh14Gims9u11iysaT9tr9s4-NxqqgNXlkXzvsKKeEKGdQ=s64",
      "userId": "08700191692100803480"
     },
     "user_tz": -120
    },
    "id": "15f70d29-4960-4645-9d14-18a3a0fd0571",
    "outputId": "0336de0b-f23b-4f7e-a5b1-d83683e4d391"
   },
   "outputs": [
    {
     "data": {
      "text/plain": [
       "(477154, 4)"
      ]
     },
     "execution_count": 6,
     "metadata": {},
     "output_type": "execute_result"
    }
   ],
   "source": [
    "sequences_df.shape"
   ]
  },
  {
   "cell_type": "code",
   "execution_count": 7,
   "id": "f5216931-5d7b-4db7-a8c6-52ad473a4ccf",
   "metadata": {
    "colab": {
     "base_uri": "https://localhost:8080/",
     "height": 206
    },
    "executionInfo": {
     "elapsed": 21,
     "status": "ok",
     "timestamp": 1628801385569,
     "user": {
      "displayName": "Bartłomiej Surpeta",
      "photoUrl": "https://lh3.googleusercontent.com/a-/AOh14Gims9u11iysaT9tr9s4-NxqqgNXlkXzvsKKeEKGdQ=s64",
      "userId": "08700191692100803480"
     },
     "user_tz": -120
    },
    "id": "f5216931-5d7b-4db7-a8c6-52ad473a4ccf",
    "outputId": "4e4ed5a4-313f-4f67-8d28-6678f0900afe"
   },
   "outputs": [
    {
     "data": {
      "text/html": [
       "<div>\n",
       "<style scoped>\n",
       "    .dataframe tbody tr th:only-of-type {\n",
       "        vertical-align: middle;\n",
       "    }\n",
       "\n",
       "    .dataframe tbody tr th {\n",
       "        vertical-align: top;\n",
       "    }\n",
       "\n",
       "    .dataframe thead th {\n",
       "        text-align: right;\n",
       "    }\n",
       "</style>\n",
       "<table border=\"1\" class=\"dataframe\">\n",
       "  <thead>\n",
       "    <tr style=\"text-align: right;\">\n",
       "      <th></th>\n",
       "      <th>pdb_id</th>\n",
       "      <th>chain</th>\n",
       "      <th>sequence</th>\n",
       "      <th>secondary_struct</th>\n",
       "    </tr>\n",
       "  </thead>\n",
       "  <tbody>\n",
       "    <tr>\n",
       "      <th>0</th>\n",
       "      <td>101M</td>\n",
       "      <td>A</td>\n",
       "      <td>MVLSEGEWQLVLHVWAKVEADVAGHGQDILIRLFKSHPETLEKFDR...</td>\n",
       "      <td>CCCCHHHHHHHHHHHHHHGGGHHHHHHHHHHHHHHHCGGGGGGCTT...</td>\n",
       "    </tr>\n",
       "    <tr>\n",
       "      <th>1</th>\n",
       "      <td>102L</td>\n",
       "      <td>A</td>\n",
       "      <td>MNIFEMLRIDEGLRLKIYKDTEGYYTIGIGHLLTKSPSLNAAAKSE...</td>\n",
       "      <td>CCHHHHHHHHHCCEEEEEECTTSCEEEETTEEEESSSCTTTHHHHH...</td>\n",
       "    </tr>\n",
       "    <tr>\n",
       "      <th>2</th>\n",
       "      <td>102M</td>\n",
       "      <td>A</td>\n",
       "      <td>MVLSEGEWQLVLHVWAKVEADVAGHGQDILIRLFKSHPETLEKFDR...</td>\n",
       "      <td>CCCCHHHHHHHHHHHHHHGGGHHHHHHHHHHHHHHHCGGGGGGCTT...</td>\n",
       "    </tr>\n",
       "    <tr>\n",
       "      <th>3</th>\n",
       "      <td>103L</td>\n",
       "      <td>A</td>\n",
       "      <td>MNIFEMLRIDEGLRLKIYKDTEGYYTIGIGHLLTKSPSLNSLDAAK...</td>\n",
       "      <td>CCHHHHHHHHHCCEEEEEECTTSCEEEETTEECCCCCCCCCHHHHH...</td>\n",
       "    </tr>\n",
       "    <tr>\n",
       "      <th>4</th>\n",
       "      <td>103M</td>\n",
       "      <td>A</td>\n",
       "      <td>MVLSEGEWQLVLHVWAKVEADVAGHGQDILIRLFKSHPETLEKFDR...</td>\n",
       "      <td>CCCCHHHHHHHHHHHHHHGGGHHHHHHHHHHHHHHHCGGGGGGCTT...</td>\n",
       "    </tr>\n",
       "  </tbody>\n",
       "</table>\n",
       "</div>"
      ],
      "text/plain": [
       "  pdb_id chain                                           sequence  \\\n",
       "0   101M     A  MVLSEGEWQLVLHVWAKVEADVAGHGQDILIRLFKSHPETLEKFDR...   \n",
       "1   102L     A  MNIFEMLRIDEGLRLKIYKDTEGYYTIGIGHLLTKSPSLNAAAKSE...   \n",
       "2   102M     A  MVLSEGEWQLVLHVWAKVEADVAGHGQDILIRLFKSHPETLEKFDR...   \n",
       "3   103L     A  MNIFEMLRIDEGLRLKIYKDTEGYYTIGIGHLLTKSPSLNSLDAAK...   \n",
       "4   103M     A  MVLSEGEWQLVLHVWAKVEADVAGHGQDILIRLFKSHPETLEKFDR...   \n",
       "\n",
       "                                    secondary_struct  \n",
       "0  CCCCHHHHHHHHHHHHHHGGGHHHHHHHHHHHHHHHCGGGGGGCTT...  \n",
       "1  CCHHHHHHHHHCCEEEEEECTTSCEEEETTEEEESSSCTTTHHHHH...  \n",
       "2  CCCCHHHHHHHHHHHHHHGGGHHHHHHHHHHHHHHHCGGGGGGCTT...  \n",
       "3  CCHHHHHHHHHCCEEEEEECTTSCEEEETTEECCCCCCCCCHHHHH...  \n",
       "4  CCCCHHHHHHHHHHHHHHGGGHHHHHHHHHHHHHHHCGGGGGGCTT...  "
      ]
     },
     "execution_count": 7,
     "metadata": {},
     "output_type": "execute_result"
    }
   ],
   "source": [
    "sequences_df.head()"
   ]
  },
  {
   "cell_type": "code",
   "execution_count": 8,
   "id": "dd17fc80-1d73-44ce-bbfa-7cdd7d1f5a39",
   "metadata": {
    "executionInfo": {
     "elapsed": 18,
     "status": "ok",
     "timestamp": 1628801385570,
     "user": {
      "displayName": "Bartłomiej Surpeta",
      "photoUrl": "https://lh3.googleusercontent.com/a-/AOh14Gims9u11iysaT9tr9s4-NxqqgNXlkXzvsKKeEKGdQ=s64",
      "userId": "08700191692100803480"
     },
     "user_tz": -120
    },
    "id": "dd17fc80-1d73-44ce-bbfa-7cdd7d1f5a39"
   },
   "outputs": [],
   "source": [
    "pisces_df = processing.clean_pisces(pisces_file='../data/cullpdb_pc30_res2.0_R0.25_d2021_07_02_chains10870.gz')"
   ]
  },
  {
   "cell_type": "code",
   "execution_count": 9,
   "id": "809d7f1b-826b-4baa-b8c1-4fa9dcef9c97",
   "metadata": {
    "colab": {
     "base_uri": "https://localhost:8080/",
     "height": 206
    },
    "executionInfo": {
     "elapsed": 17,
     "status": "ok",
     "timestamp": 1628801385571,
     "user": {
      "displayName": "Bartłomiej Surpeta",
      "photoUrl": "https://lh3.googleusercontent.com/a-/AOh14Gims9u11iysaT9tr9s4-NxqqgNXlkXzvsKKeEKGdQ=s64",
      "userId": "08700191692100803480"
     },
     "user_tz": -120
    },
    "id": "809d7f1b-826b-4baa-b8c1-4fa9dcef9c97",
    "outputId": "bba2a498-70a7-4299-911c-6aff7e44f1e2"
   },
   "outputs": [
    {
     "data": {
      "text/html": [
       "<div>\n",
       "<style scoped>\n",
       "    .dataframe tbody tr th:only-of-type {\n",
       "        vertical-align: middle;\n",
       "    }\n",
       "\n",
       "    .dataframe tbody tr th {\n",
       "        vertical-align: top;\n",
       "    }\n",
       "\n",
       "    .dataframe thead th {\n",
       "        text-align: right;\n",
       "    }\n",
       "</style>\n",
       "<table border=\"1\" class=\"dataframe\">\n",
       "  <thead>\n",
       "    <tr style=\"text-align: right;\">\n",
       "      <th></th>\n",
       "      <th>length</th>\n",
       "      <th>source</th>\n",
       "      <th>resolution</th>\n",
       "      <th>R_value</th>\n",
       "      <th>R_free</th>\n",
       "      <th>pdb_id</th>\n",
       "      <th>chain</th>\n",
       "    </tr>\n",
       "  </thead>\n",
       "  <tbody>\n",
       "    <tr>\n",
       "      <th>0</th>\n",
       "      <td>108</td>\n",
       "      <td>XRAY</td>\n",
       "      <td>2.0</td>\n",
       "      <td>0.21</td>\n",
       "      <td>0.25</td>\n",
       "      <td>1A1X</td>\n",
       "      <td>A</td>\n",
       "    </tr>\n",
       "    <tr>\n",
       "      <th>1</th>\n",
       "      <td>148</td>\n",
       "      <td>XRAY</td>\n",
       "      <td>1.8</td>\n",
       "      <td>0.19</td>\n",
       "      <td>0.24</td>\n",
       "      <td>1A3A</td>\n",
       "      <td>A</td>\n",
       "    </tr>\n",
       "    <tr>\n",
       "      <th>2</th>\n",
       "      <td>163</td>\n",
       "      <td>XRAY</td>\n",
       "      <td>1.8</td>\n",
       "      <td>0.21</td>\n",
       "      <td>0.30</td>\n",
       "      <td>1A73</td>\n",
       "      <td>A</td>\n",
       "    </tr>\n",
       "    <tr>\n",
       "      <th>3</th>\n",
       "      <td>226</td>\n",
       "      <td>XRAY</td>\n",
       "      <td>1.9</td>\n",
       "      <td>0.19</td>\n",
       "      <td>0.22</td>\n",
       "      <td>1A8L</td>\n",
       "      <td>A</td>\n",
       "    </tr>\n",
       "    <tr>\n",
       "      <th>4</th>\n",
       "      <td>1073</td>\n",
       "      <td>XRAY</td>\n",
       "      <td>1.8</td>\n",
       "      <td>0.19</td>\n",
       "      <td>1.00</td>\n",
       "      <td>1A9X</td>\n",
       "      <td>C</td>\n",
       "    </tr>\n",
       "  </tbody>\n",
       "</table>\n",
       "</div>"
      ],
      "text/plain": [
       "   length source  resolution  R_value  R_free pdb_id chain\n",
       "0     108   XRAY         2.0     0.21    0.25   1A1X     A\n",
       "1     148   XRAY         1.8     0.19    0.24   1A3A     A\n",
       "2     163   XRAY         1.8     0.21    0.30   1A73     A\n",
       "3     226   XRAY         1.9     0.19    0.22   1A8L     A\n",
       "4    1073   XRAY         1.8     0.19    1.00   1A9X     C"
      ]
     },
     "execution_count": 9,
     "metadata": {},
     "output_type": "execute_result"
    }
   ],
   "source": [
    "pisces_df.head()"
   ]
  },
  {
   "cell_type": "markdown",
   "id": "e49d1601-cca7-4cdf-bb2e-20c05f931404",
   "metadata": {
    "id": "e49d1601-cca7-4cdf-bb2e-20c05f931404"
   },
   "source": [
    "#### The culledPDB set containts 10870 items (PDB databases records filtered by the resolution, R-value and the 30% sequence identity). It contains information about protein PDB ID code, protein chain, method used for its determination, R-value, R-value free and the length of the sequence."
   ]
  },
  {
   "cell_type": "code",
   "execution_count": 10,
   "id": "2bac6af5-d89e-4a5f-8214-acd6787ea05d",
   "metadata": {
    "colab": {
     "base_uri": "https://localhost:8080/"
    },
    "executionInfo": {
     "elapsed": 16,
     "status": "ok",
     "timestamp": 1628801385572,
     "user": {
      "displayName": "Bartłomiej Surpeta",
      "photoUrl": "https://lh3.googleusercontent.com/a-/AOh14Gims9u11iysaT9tr9s4-NxqqgNXlkXzvsKKeEKGdQ=s64",
      "userId": "08700191692100803480"
     },
     "user_tz": -120
    },
    "id": "2bac6af5-d89e-4a5f-8214-acd6787ea05d",
    "outputId": "02d7be1b-5447-4b7f-e233-94fade791d15"
   },
   "outputs": [
    {
     "data": {
      "text/plain": [
       "(10870, 7)"
      ]
     },
     "execution_count": 10,
     "metadata": {},
     "output_type": "execute_result"
    }
   ],
   "source": [
    "pisces_df.shape"
   ]
  },
  {
   "cell_type": "code",
   "execution_count": 11,
   "id": "7fee69ef-5077-4c3c-9c89-1de2ef1d33bd",
   "metadata": {
    "executionInfo": {
     "elapsed": 479,
     "status": "ok",
     "timestamp": 1628801386039,
     "user": {
      "displayName": "Bartłomiej Surpeta",
      "photoUrl": "https://lh3.googleusercontent.com/a-/AOh14Gims9u11iysaT9tr9s4-NxqqgNXlkXzvsKKeEKGdQ=s64",
      "userId": "08700191692100803480"
     },
     "user_tz": -120
    },
    "id": "7fee69ef-5077-4c3c-9c89-1de2ef1d33bd"
   },
   "outputs": [],
   "source": [
    "combined_df = processing.combine_pdb_pisces(sequences_df=sequences_df, pisces_df=pisces_df)"
   ]
  },
  {
   "cell_type": "code",
   "execution_count": 12,
   "id": "fb19ff12-03f3-4092-92b7-eabe25f8e25d",
   "metadata": {
    "colab": {
     "base_uri": "https://localhost:8080/",
     "height": 226
    },
    "executionInfo": {
     "elapsed": 43,
     "status": "ok",
     "timestamp": 1628801386040,
     "user": {
      "displayName": "Bartłomiej Surpeta",
      "photoUrl": "https://lh3.googleusercontent.com/a-/AOh14Gims9u11iysaT9tr9s4-NxqqgNXlkXzvsKKeEKGdQ=s64",
      "userId": "08700191692100803480"
     },
     "user_tz": -120
    },
    "id": "fb19ff12-03f3-4092-92b7-eabe25f8e25d",
    "outputId": "24f7a1d6-b211-4a70-96ec-92d24ab1b3a2"
   },
   "outputs": [
    {
     "data": {
      "text/html": [
       "<div>\n",
       "<style scoped>\n",
       "    .dataframe tbody tr th:only-of-type {\n",
       "        vertical-align: middle;\n",
       "    }\n",
       "\n",
       "    .dataframe tbody tr th {\n",
       "        vertical-align: top;\n",
       "    }\n",
       "\n",
       "    .dataframe thead th {\n",
       "        text-align: right;\n",
       "    }\n",
       "</style>\n",
       "<table border=\"1\" class=\"dataframe\">\n",
       "  <thead>\n",
       "    <tr style=\"text-align: right;\">\n",
       "      <th></th>\n",
       "      <th>pdb_id</th>\n",
       "      <th>chain</th>\n",
       "      <th>sequence</th>\n",
       "      <th>secondary_struct</th>\n",
       "      <th>length</th>\n",
       "      <th>source</th>\n",
       "      <th>resolution</th>\n",
       "      <th>R_value</th>\n",
       "      <th>R_free</th>\n",
       "    </tr>\n",
       "  </thead>\n",
       "  <tbody>\n",
       "    <tr>\n",
       "      <th>0</th>\n",
       "      <td>1A1X</td>\n",
       "      <td>A</td>\n",
       "      <td>GSAGEDVGAPPDHLWVHQEGIYRDEYQRTWVAVVEEETSFLRARVQ...</td>\n",
       "      <td>CCCCCCCCCCCSEEEEEETTEEEETTSCEEEEEEEECSSCEEEEEE...</td>\n",
       "      <td>108</td>\n",
       "      <td>XRAY</td>\n",
       "      <td>2.0</td>\n",
       "      <td>0.21</td>\n",
       "      <td>0.25</td>\n",
       "    </tr>\n",
       "    <tr>\n",
       "      <th>1</th>\n",
       "      <td>1A3A</td>\n",
       "      <td>A</td>\n",
       "      <td>MANLFKLGAENIFLGRKAATKEEAIRFAGEQLVKGGYVEPEYVQAM...</td>\n",
       "      <td>CCCCCCCCGGGEECSCCCSSHHHHHHHHHHHHHHTTSBCTHHHHHH...</td>\n",
       "      <td>148</td>\n",
       "      <td>XRAY</td>\n",
       "      <td>1.8</td>\n",
       "      <td>0.19</td>\n",
       "      <td>0.24</td>\n",
       "    </tr>\n",
       "    <tr>\n",
       "      <th>2</th>\n",
       "      <td>1A73</td>\n",
       "      <td>A</td>\n",
       "      <td>MALTNAQILAVIDSWEETVGQFPVITHHVPLGGGLQGTLHCYEIPL...</td>\n",
       "      <td>CCCCHHHHHHHHHHHHHHHTTSCEEEEEEEEETTEEEEEEEEBCCS...</td>\n",
       "      <td>163</td>\n",
       "      <td>XRAY</td>\n",
       "      <td>1.8</td>\n",
       "      <td>0.21</td>\n",
       "      <td>0.30</td>\n",
       "    </tr>\n",
       "    <tr>\n",
       "      <th>3</th>\n",
       "      <td>1A8L</td>\n",
       "      <td>A</td>\n",
       "      <td>MGLISDADKKVIKEEFFSKMVNPVKLIVFVRKDHCQYCDQLKQLVQ...</td>\n",
       "      <td>CCSSCHHHHHHHHHHTGGGCCSCEEEEEEECSSSCTTHHHHHHHHH...</td>\n",
       "      <td>226</td>\n",
       "      <td>XRAY</td>\n",
       "      <td>1.9</td>\n",
       "      <td>0.19</td>\n",
       "      <td>0.22</td>\n",
       "    </tr>\n",
       "    <tr>\n",
       "      <th>4</th>\n",
       "      <td>1A9X</td>\n",
       "      <td>F</td>\n",
       "      <td>IKSALLVLEDGTQFHGRAIGATGSAVGEVVFNTSMTGYQEILTDPS...</td>\n",
       "      <td>CCEEEEEETTCCEEEEEECSCSEEEEEEEEEECCSSCHHHHHTCGG...</td>\n",
       "      <td>379</td>\n",
       "      <td>XRAY</td>\n",
       "      <td>1.8</td>\n",
       "      <td>0.19</td>\n",
       "      <td>1.00</td>\n",
       "    </tr>\n",
       "  </tbody>\n",
       "</table>\n",
       "</div>"
      ],
      "text/plain": [
       "  pdb_id chain                                           sequence  \\\n",
       "0   1A1X     A  GSAGEDVGAPPDHLWVHQEGIYRDEYQRTWVAVVEEETSFLRARVQ...   \n",
       "1   1A3A     A  MANLFKLGAENIFLGRKAATKEEAIRFAGEQLVKGGYVEPEYVQAM...   \n",
       "2   1A73     A  MALTNAQILAVIDSWEETVGQFPVITHHVPLGGGLQGTLHCYEIPL...   \n",
       "3   1A8L     A  MGLISDADKKVIKEEFFSKMVNPVKLIVFVRKDHCQYCDQLKQLVQ...   \n",
       "4   1A9X     F  IKSALLVLEDGTQFHGRAIGATGSAVGEVVFNTSMTGYQEILTDPS...   \n",
       "\n",
       "                                    secondary_struct  length source  \\\n",
       "0  CCCCCCCCCCCSEEEEEETTEEEETTSCEEEEEEEECSSCEEEEEE...     108   XRAY   \n",
       "1  CCCCCCCCGGGEECSCCCSSHHHHHHHHHHHHHHTTSBCTHHHHHH...     148   XRAY   \n",
       "2  CCCCHHHHHHHHHHHHHHHTTSCEEEEEEEEETTEEEEEEEEBCCS...     163   XRAY   \n",
       "3  CCSSCHHHHHHHHHHTGGGCCSCEEEEEEECSSSCTTHHHHHHHHH...     226   XRAY   \n",
       "4  CCEEEEEETTCCEEEEEECSCSEEEEEEEEEECCSSCHHHHHTCGG...     379   XRAY   \n",
       "\n",
       "   resolution  R_value  R_free  \n",
       "0         2.0     0.21    0.25  \n",
       "1         1.8     0.19    0.24  \n",
       "2         1.8     0.21    0.30  \n",
       "3         1.9     0.19    0.22  \n",
       "4         1.8     0.19    1.00  "
      ]
     },
     "execution_count": 12,
     "metadata": {},
     "output_type": "execute_result"
    }
   ],
   "source": [
    "combined_df.head()"
   ]
  },
  {
   "cell_type": "code",
   "execution_count": 13,
   "id": "208b8e0c-7c70-47ee-a074-12ff4093840e",
   "metadata": {
    "colab": {
     "base_uri": "https://localhost:8080/"
    },
    "executionInfo": {
     "elapsed": 35,
     "status": "ok",
     "timestamp": 1628801386040,
     "user": {
      "displayName": "Bartłomiej Surpeta",
      "photoUrl": "https://lh3.googleusercontent.com/a-/AOh14Gims9u11iysaT9tr9s4-NxqqgNXlkXzvsKKeEKGdQ=s64",
      "userId": "08700191692100803480"
     },
     "user_tz": -120
    },
    "id": "208b8e0c-7c70-47ee-a074-12ff4093840e",
    "outputId": "0e0a7f6b-b562-40c1-e568-7b1f804efb75"
   },
   "outputs": [
    {
     "data": {
      "text/plain": [
       "(10186, 9)"
      ]
     },
     "execution_count": 13,
     "metadata": {},
     "output_type": "execute_result"
    }
   ],
   "source": [
    "combined_df.shape"
   ]
  },
  {
   "cell_type": "markdown",
   "id": "50f38d93-3bea-4de7-8a89-ab5bfac315af",
   "metadata": {
    "id": "50f38d93-3bea-4de7-8a89-ab5bfac315af"
   },
   "source": [
    "#### While intersecting raw sequences and culledPDB dataset by protein PDB ID codes and chains, I obtained slightly smaller set (10186) in then the original culledPDB (10870) due to some mismatches in the chain IDs"
   ]
  },
  {
   "cell_type": "code",
   "execution_count": 14,
   "id": "79d1c69e-4324-46eb-8a9f-e63bb2f3096b",
   "metadata": {
    "colab": {
     "base_uri": "https://localhost:8080/"
    },
    "executionInfo": {
     "elapsed": 27,
     "status": "ok",
     "timestamp": 1628801386041,
     "user": {
      "displayName": "Bartłomiej Surpeta",
      "photoUrl": "https://lh3.googleusercontent.com/a-/AOh14Gims9u11iysaT9tr9s4-NxqqgNXlkXzvsKKeEKGdQ=s64",
      "userId": "08700191692100803480"
     },
     "user_tz": -120
    },
    "id": "79d1c69e-4324-46eb-8a9f-e63bb2f3096b",
    "outputId": "ba20e56f-d0f9-4a03-ed15-49320ecf749f"
   },
   "outputs": [
    {
     "name": "stdout",
     "output_type": "stream",
     "text": [
      "['1', '2', '3', '4', 'A', 'B', 'C', 'D', 'E', 'F', 'G', 'H', 'I', 'J', 'K', 'L', 'M', 'N', 'O', 'P', 'Q', 'R', 'S', 'T', 'U', 'V', 'W', 'X', 'Y', 'Z']\n",
      "amount of unique chain IDs in PISCES dataset: 30\n"
     ]
    }
   ],
   "source": [
    "print(sorted(pisces_df.chain.unique()))\n",
    "print(f'amount of unique chain IDs in PISCES dataset: {len(pisces_df.chain.unique())}')"
   ]
  },
  {
   "cell_type": "code",
   "execution_count": 15,
   "id": "75bd4d6b-bcb4-4bbd-bd58-45c1dceb5b31",
   "metadata": {
    "colab": {
     "base_uri": "https://localhost:8080/"
    },
    "executionInfo": {
     "elapsed": 23,
     "status": "ok",
     "timestamp": 1628801386042,
     "user": {
      "displayName": "Bartłomiej Surpeta",
      "photoUrl": "https://lh3.googleusercontent.com/a-/AOh14Gims9u11iysaT9tr9s4-NxqqgNXlkXzvsKKeEKGdQ=s64",
      "userId": "08700191692100803480"
     },
     "user_tz": -120
    },
    "id": "75bd4d6b-bcb4-4bbd-bd58-45c1dceb5b31",
    "outputId": "19280eb0-9903-496a-cb63-de7af829e7d9"
   },
   "outputs": [
    {
     "name": "stdout",
     "output_type": "stream",
     "text": [
      "['0', '1', '2', '3', '4', '5', '6', '7', '8', '9', 'A', 'B', 'C', 'D', 'E', 'F', 'G', 'H', 'I', 'J', 'K', 'L', 'M', 'N', 'O', 'P', 'Q', 'R', 'S', 'T', 'U', 'V', 'W', 'X', 'Y', 'Z']\n",
      "amount of unique chain IDs in dataset of raw sequences: 36\n"
     ]
    }
   ],
   "source": [
    "print(sorted(sequences_df.chain.unique()))\n",
    "print(f'amount of unique chain IDs in dataset of raw sequences: {len(sequences_df.chain.unique())}')"
   ]
  },
  {
   "cell_type": "markdown",
   "id": "989bc5bc-8d30-46e0-9a32-bf899806a008",
   "metadata": {
    "id": "989bc5bc-8d30-46e0-9a32-bf899806a008"
   },
   "source": [
    "#### As the protein secondary structure can be represented in the extended form containing 8 secondary structure types (Q8) and simplified, containing only 3 secondary structure types (Q3), I created new column with the simplified version for modeling\n",
    "\n",
    "Q8: Q3\n",
    "\n",
    "__helices__ G, H, I: H\n",
    "\n",
    "__sheet__ B, E: E\n",
    "\n",
    "__coil__ T, S, C: C\n",
    "\n",
    "#### Additionally, I got rid of the remaining columns and keep just PDB ID code, sequence, extended (Q8) secondary structure representation and simplified (Q3) representation as pdb_id, seq, sst_q8 and sst_q3, respectively:"
   ]
  },
  {
   "cell_type": "code",
   "execution_count": 16,
   "id": "6f5d001d-9761-47e8-afeb-4a38f5e51082",
   "metadata": {
    "executionInfo": {
     "elapsed": 21,
     "status": "ok",
     "timestamp": 1628801386043,
     "user": {
      "displayName": "Bartłomiej Surpeta",
      "photoUrl": "https://lh3.googleusercontent.com/a-/AOh14Gims9u11iysaT9tr9s4-NxqqgNXlkXzvsKKeEKGdQ=s64",
      "userId": "08700191692100803480"
     },
     "user_tz": -120
    },
    "id": "6f5d001d-9761-47e8-afeb-4a38f5e51082"
   },
   "outputs": [],
   "source": [
    "processed_sequeces = processing.generate_seq_q8_q3_representation(combined_df)"
   ]
  },
  {
   "cell_type": "code",
   "execution_count": 17,
   "id": "721a3743-3347-41bd-8a60-07f94e9266bc",
   "metadata": {
    "colab": {
     "base_uri": "https://localhost:8080/",
     "height": 444
    },
    "executionInfo": {
     "elapsed": 19,
     "status": "ok",
     "timestamp": 1628801386043,
     "user": {
      "displayName": "Bartłomiej Surpeta",
      "photoUrl": "https://lh3.googleusercontent.com/a-/AOh14Gims9u11iysaT9tr9s4-NxqqgNXlkXzvsKKeEKGdQ=s64",
      "userId": "08700191692100803480"
     },
     "user_tz": -120
    },
    "id": "721a3743-3347-41bd-8a60-07f94e9266bc",
    "outputId": "d1cbc902-18a7-4cd8-afab-878d175f3b0c"
   },
   "outputs": [
    {
     "data": {
      "text/html": [
       "<div>\n",
       "<style scoped>\n",
       "    .dataframe tbody tr th:only-of-type {\n",
       "        vertical-align: middle;\n",
       "    }\n",
       "\n",
       "    .dataframe tbody tr th {\n",
       "        vertical-align: top;\n",
       "    }\n",
       "\n",
       "    .dataframe thead th {\n",
       "        text-align: right;\n",
       "    }\n",
       "</style>\n",
       "<table border=\"1\" class=\"dataframe\">\n",
       "  <thead>\n",
       "    <tr style=\"text-align: right;\">\n",
       "      <th></th>\n",
       "      <th>pdb_id</th>\n",
       "      <th>seq</th>\n",
       "      <th>sst_q8</th>\n",
       "      <th>sst_q3</th>\n",
       "    </tr>\n",
       "  </thead>\n",
       "  <tbody>\n",
       "    <tr>\n",
       "      <th>0</th>\n",
       "      <td>1A1X</td>\n",
       "      <td>GSAGEDVGAPPDHLWVHQEGIYRDEYQRTWVAVVEEETSFLRARVQ...</td>\n",
       "      <td>CCCCCCCCCCCSEEEEEETTEEEETTSCEEEEEEEECSSCEEEEEE...</td>\n",
       "      <td>CCCCCCCCCCCCEEEEEECCEEEECCCCEEEEEEEECCCCEEEEEE...</td>\n",
       "    </tr>\n",
       "    <tr>\n",
       "      <th>1</th>\n",
       "      <td>1A3A</td>\n",
       "      <td>MANLFKLGAENIFLGRKAATKEEAIRFAGEQLVKGGYVEPEYVQAM...</td>\n",
       "      <td>CCCCCCCCGGGEECSCCCSSHHHHHHHHHHHHHHTTSBCTHHHHHH...</td>\n",
       "      <td>CCCCCCCCHHHEECCCCCCCHHHHHHHHHHHHHHCCCECCHHHHHH...</td>\n",
       "    </tr>\n",
       "    <tr>\n",
       "      <th>2</th>\n",
       "      <td>1A73</td>\n",
       "      <td>MALTNAQILAVIDSWEETVGQFPVITHHVPLGGGLQGTLHCYEIPL...</td>\n",
       "      <td>CCCCHHHHHHHHHHHHHHHTTSCEEEEEEEEETTEEEEEEEEBCCS...</td>\n",
       "      <td>CCCCHHHHHHHHHHHHHHHCCCCEEEEEEEEECCEEEEEEEEECCC...</td>\n",
       "    </tr>\n",
       "    <tr>\n",
       "      <th>3</th>\n",
       "      <td>1A8L</td>\n",
       "      <td>MGLISDADKKVIKEEFFSKMVNPVKLIVFVRKDHCQYCDQLKQLVQ...</td>\n",
       "      <td>CCSSCHHHHHHHHHHTGGGCCSCEEEEEEECSSSCTTHHHHHHHHH...</td>\n",
       "      <td>CCCCCHHHHHHHHHHCHHHCCCCEEEEEEECCCCCCCHHHHHHHHH...</td>\n",
       "    </tr>\n",
       "    <tr>\n",
       "      <th>4</th>\n",
       "      <td>1A9X</td>\n",
       "      <td>IKSALLVLEDGTQFHGRAIGATGSAVGEVVFNTSMTGYQEILTDPS...</td>\n",
       "      <td>CCEEEEEETTCCEEEEEECSCSEEEEEEEEEECCSSCHHHHHTCGG...</td>\n",
       "      <td>CCEEEEEECCCCEEEEEECCCCEEEEEEEEEECCCCCHHHHHCCHH...</td>\n",
       "    </tr>\n",
       "    <tr>\n",
       "      <th>...</th>\n",
       "      <td>...</td>\n",
       "      <td>...</td>\n",
       "      <td>...</td>\n",
       "      <td>...</td>\n",
       "    </tr>\n",
       "    <tr>\n",
       "      <th>10181</th>\n",
       "      <td>7BU2</td>\n",
       "      <td>MSMIKSYAAKEAGGELEVYEYDPGELRPQDVEVQVDYCGICHSDLS...</td>\n",
       "      <td>CCCEEEEEESSTTCCEEEEEECCCSCCTTEEEEEEEEEEECHHHHH...</td>\n",
       "      <td>CCCEEEEEECCCCCCEEEEEECCCCCCCCEEEEEEEEEEECHHHHH...</td>\n",
       "    </tr>\n",
       "    <tr>\n",
       "      <th>10182</th>\n",
       "      <td>7BVD</td>\n",
       "      <td>MQTTANHSSRSTQTGTRAHGAALAETTSREDFRALATEHRVVPVIR...</td>\n",
       "      <td>CCCCCCCCCCCCCCCCCCCCCCTTCCCCHHHHHHHHTTCSEEEEEE...</td>\n",
       "      <td>CCCCCCCCCCCCCCCCCCCCCCCCCCCCHHHHHHHHCCCCEEEEEE...</td>\n",
       "    </tr>\n",
       "    <tr>\n",
       "      <th>10183</th>\n",
       "      <td>7BYW</td>\n",
       "      <td>MRGSHHHHHHSGQRMGMVIGIKPEHIDEYKRLHAAVWPAVLARLAE...</td>\n",
       "      <td>CCCCCCCCCCCCCEEEEEEEECGGGHHHHHHHHTTCCHHHHHHHHH...</td>\n",
       "      <td>CCCCCCCCCCCCCEEEEEEEECHHHHHHHHHHHCCCCHHHHHHHHH...</td>\n",
       "    </tr>\n",
       "    <tr>\n",
       "      <th>10184</th>\n",
       "      <td>7ODC</td>\n",
       "      <td>MSSFTKDEFDCHILDEGFTAKDILDQKINEVSSSDDKDAFYVADLG...</td>\n",
       "      <td>CCEEEETTEEEEEECSSCCHHHHHHHHHCCCCCCCCCCCEEEEEHH...</td>\n",
       "      <td>CCEEEECCEEEEEECCCCCHHHHHHHHHCCCCCCCCCCCEEEEEHH...</td>\n",
       "    </tr>\n",
       "    <tr>\n",
       "      <th>10185</th>\n",
       "      <td>8ABP</td>\n",
       "      <td>ENLKLGFLVKQPEEPWFQTEWKFADKAGKDLGFEVIKIAVPDGEKT...</td>\n",
       "      <td>CCEEEEEEESCTTSHHHHHHHHHHHHHHHHHTEEEEEEECCSHHHH...</td>\n",
       "      <td>CCEEEEEEECCCCCHHHHHHHHHHHHHHHHHCEEEEEEECCCHHHH...</td>\n",
       "    </tr>\n",
       "  </tbody>\n",
       "</table>\n",
       "<p>10186 rows × 4 columns</p>\n",
       "</div>"
      ],
      "text/plain": [
       "      pdb_id                                                seq  \\\n",
       "0       1A1X  GSAGEDVGAPPDHLWVHQEGIYRDEYQRTWVAVVEEETSFLRARVQ...   \n",
       "1       1A3A  MANLFKLGAENIFLGRKAATKEEAIRFAGEQLVKGGYVEPEYVQAM...   \n",
       "2       1A73  MALTNAQILAVIDSWEETVGQFPVITHHVPLGGGLQGTLHCYEIPL...   \n",
       "3       1A8L  MGLISDADKKVIKEEFFSKMVNPVKLIVFVRKDHCQYCDQLKQLVQ...   \n",
       "4       1A9X  IKSALLVLEDGTQFHGRAIGATGSAVGEVVFNTSMTGYQEILTDPS...   \n",
       "...      ...                                                ...   \n",
       "10181   7BU2  MSMIKSYAAKEAGGELEVYEYDPGELRPQDVEVQVDYCGICHSDLS...   \n",
       "10182   7BVD  MQTTANHSSRSTQTGTRAHGAALAETTSREDFRALATEHRVVPVIR...   \n",
       "10183   7BYW  MRGSHHHHHHSGQRMGMVIGIKPEHIDEYKRLHAAVWPAVLARLAE...   \n",
       "10184   7ODC  MSSFTKDEFDCHILDEGFTAKDILDQKINEVSSSDDKDAFYVADLG...   \n",
       "10185   8ABP  ENLKLGFLVKQPEEPWFQTEWKFADKAGKDLGFEVIKIAVPDGEKT...   \n",
       "\n",
       "                                                  sst_q8  \\\n",
       "0      CCCCCCCCCCCSEEEEEETTEEEETTSCEEEEEEEECSSCEEEEEE...   \n",
       "1      CCCCCCCCGGGEECSCCCSSHHHHHHHHHHHHHHTTSBCTHHHHHH...   \n",
       "2      CCCCHHHHHHHHHHHHHHHTTSCEEEEEEEEETTEEEEEEEEBCCS...   \n",
       "3      CCSSCHHHHHHHHHHTGGGCCSCEEEEEEECSSSCTTHHHHHHHHH...   \n",
       "4      CCEEEEEETTCCEEEEEECSCSEEEEEEEEEECCSSCHHHHHTCGG...   \n",
       "...                                                  ...   \n",
       "10181  CCCEEEEEESSTTCCEEEEEECCCSCCTTEEEEEEEEEEECHHHHH...   \n",
       "10182  CCCCCCCCCCCCCCCCCCCCCCTTCCCCHHHHHHHHTTCSEEEEEE...   \n",
       "10183  CCCCCCCCCCCCCEEEEEEEECGGGHHHHHHHHTTCCHHHHHHHHH...   \n",
       "10184  CCEEEETTEEEEEECSSCCHHHHHHHHHCCCCCCCCCCCEEEEEHH...   \n",
       "10185  CCEEEEEEESCTTSHHHHHHHHHHHHHHHHHTEEEEEEECCSHHHH...   \n",
       "\n",
       "                                                  sst_q3  \n",
       "0      CCCCCCCCCCCCEEEEEECCEEEECCCCEEEEEEEECCCCEEEEEE...  \n",
       "1      CCCCCCCCHHHEECCCCCCCHHHHHHHHHHHHHHCCCECCHHHHHH...  \n",
       "2      CCCCHHHHHHHHHHHHHHHCCCCEEEEEEEEECCEEEEEEEEECCC...  \n",
       "3      CCCCCHHHHHHHHHHCHHHCCCCEEEEEEECCCCCCCHHHHHHHHH...  \n",
       "4      CCEEEEEECCCCEEEEEECCCCEEEEEEEEEECCCCCHHHHHCCHH...  \n",
       "...                                                  ...  \n",
       "10181  CCCEEEEEECCCCCCEEEEEECCCCCCCCEEEEEEEEEEECHHHHH...  \n",
       "10182  CCCCCCCCCCCCCCCCCCCCCCCCCCCCHHHHHHHHCCCCEEEEEE...  \n",
       "10183  CCCCCCCCCCCCCEEEEEEEECHHHHHHHHHHHCCCCHHHHHHHHH...  \n",
       "10184  CCEEEECCEEEEEECCCCCHHHHHHHHHCCCCCCCCCCCEEEEEHH...  \n",
       "10185  CCEEEEEEECCCCCHHHHHHHHHHHHHHHHHCEEEEEEECCCHHHH...  \n",
       "\n",
       "[10186 rows x 4 columns]"
      ]
     },
     "execution_count": 17,
     "metadata": {},
     "output_type": "execute_result"
    }
   ],
   "source": [
    "processed_sequeces"
   ]
  },
  {
   "cell_type": "markdown",
   "id": "51b6bf29-5f40-4d37-88ad-4a284dd3bc6b",
   "metadata": {
    "id": "51b6bf29-5f40-4d37-88ad-4a284dd3bc6b"
   },
   "source": [
    "#### Then, I have checked whether all representations of each protein in my dataset have complementary length"
   ]
  },
  {
   "cell_type": "code",
   "execution_count": 18,
   "id": "fddf5784-f0d5-412a-a161-74c54adb86d2",
   "metadata": {
    "executionInfo": {
     "elapsed": 17,
     "status": "ok",
     "timestamp": 1628801386044,
     "user": {
      "displayName": "Bartłomiej Surpeta",
      "photoUrl": "https://lh3.googleusercontent.com/a-/AOh14Gims9u11iysaT9tr9s4-NxqqgNXlkXzvsKKeEKGdQ=s64",
      "userId": "08700191692100803480"
     },
     "user_tz": -120
    },
    "id": "fddf5784-f0d5-412a-a161-74c54adb86d2"
   },
   "outputs": [],
   "source": [
    "test_df = pd.DataFrame()\n",
    "test_df['seq_len'] = [len(x) for x in processed_sequeces.seq]\n",
    "test_df['sst_q8_len'] = [len(x) for x in processed_sequeces.sst_q8]\n",
    "test_df['sst_q3_len'] = [len(x) for x in processed_sequeces.sst_q3]"
   ]
  },
  {
   "cell_type": "code",
   "execution_count": 19,
   "id": "47c5d5eb-fb71-4f90-bd28-897479ff605a",
   "metadata": {
    "colab": {
     "base_uri": "https://localhost:8080/"
    },
    "executionInfo": {
     "elapsed": 18,
     "status": "ok",
     "timestamp": 1628801386045,
     "user": {
      "displayName": "Bartłomiej Surpeta",
      "photoUrl": "https://lh3.googleusercontent.com/a-/AOh14Gims9u11iysaT9tr9s4-NxqqgNXlkXzvsKKeEKGdQ=s64",
      "userId": "08700191692100803480"
     },
     "user_tz": -120
    },
    "id": "47c5d5eb-fb71-4f90-bd28-897479ff605a",
    "outputId": "cfe19e2f-3385-497d-9bd9-cedff820761a"
   },
   "outputs": [
    {
     "data": {
      "text/plain": [
       "Series([], Name: pdb_id, dtype: object)"
      ]
     },
     "execution_count": 19,
     "metadata": {},
     "output_type": "execute_result"
    }
   ],
   "source": [
    "processed_sequeces['pdb_id'][(test_df.seq_len != test_df.sst_q8_len) | (test_df.seq_len != test_df.sst_q3_len)]"
   ]
  },
  {
   "cell_type": "code",
   "execution_count": 20,
   "id": "648f223c-5452-49da-8f27-f76598bcf70d",
   "metadata": {
    "executionInfo": {
     "elapsed": 14,
     "status": "ok",
     "timestamp": 1628801386045,
     "user": {
      "displayName": "Bartłomiej Surpeta",
      "photoUrl": "https://lh3.googleusercontent.com/a-/AOh14Gims9u11iysaT9tr9s4-NxqqgNXlkXzvsKKeEKGdQ=s64",
      "userId": "08700191692100803480"
     },
     "user_tz": -120
    },
    "id": "648f223c-5452-49da-8f27-f76598bcf70d"
   },
   "outputs": [],
   "source": [
    "processed_sequeces = processed_sequeces.assign(length=test_df.seq_len)"
   ]
  },
  {
   "cell_type": "markdown",
   "id": "3846cf3d-9288-44b7-97c5-0c32376ac779",
   "metadata": {
    "id": "3846cf3d-9288-44b7-97c5-0c32376ac779"
   },
   "source": [
    "#### There were no mismatches between representations, hence I proceeded further. Sequences can potentially contain non-standard amino acids (https://www.samformat.info/IUPAC-ambiguity-codes).\n",
    "\n",
    "#### Standard set includes 20 types: 'A', 'C', 'D', 'E', 'F', 'G', 'H', 'I', 'K', 'L', 'M', 'N', 'P', 'Q', 'R', 'S', 'T', 'V', 'W', 'Y'\n",
    "\n",
    "#### Non-standard amino acids may include: 'B', 'J', 'O', 'U', 'Z' and 'X', where the last represents unspecified or unknown (potentially missing type). I have inspected the dataset from that perspective."
   ]
  },
  {
   "cell_type": "code",
   "execution_count": 21,
   "id": "1b76ab59-aa78-4238-ba02-8d89f69b0519",
   "metadata": {
    "executionInfo": {
     "elapsed": 346,
     "status": "ok",
     "timestamp": 1628801386377,
     "user": {
      "displayName": "Bartłomiej Surpeta",
      "photoUrl": "https://lh3.googleusercontent.com/a-/AOh14Gims9u11iysaT9tr9s4-NxqqgNXlkXzvsKKeEKGdQ=s64",
      "userId": "08700191692100803480"
     },
     "user_tz": -120
    },
    "id": "1b76ab59-aa78-4238-ba02-8d89f69b0519"
   },
   "outputs": [],
   "source": [
    "contains_nonstandard_aa, nonstandard_types = analizer.detect_nonstandard_aa(processed_sequeces.seq)\n",
    "processed_sequeces = processed_sequeces.assign(contains_nonstandard_aa = contains_nonstandard_aa)\n",
    "processed_sequeces = processed_sequeces.assign(nonstandard_types = nonstandard_types)"
   ]
  },
  {
   "cell_type": "code",
   "execution_count": 22,
   "id": "f9a18498-8be0-4a23-9ac3-63321b105673",
   "metadata": {
    "colab": {
     "base_uri": "https://localhost:8080/"
    },
    "executionInfo": {
     "elapsed": 18,
     "status": "ok",
     "timestamp": 1628801386378,
     "user": {
      "displayName": "Bartłomiej Surpeta",
      "photoUrl": "https://lh3.googleusercontent.com/a-/AOh14Gims9u11iysaT9tr9s4-NxqqgNXlkXzvsKKeEKGdQ=s64",
      "userId": "08700191692100803480"
     },
     "user_tz": -120
    },
    "id": "f9a18498-8be0-4a23-9ac3-63321b105673",
    "outputId": "cb2dd7f5-849e-4626-8ed7-5b4d09a35d07"
   },
   "outputs": [
    {
     "data": {
      "text/plain": [
       "(71, 7)"
      ]
     },
     "execution_count": 22,
     "metadata": {},
     "output_type": "execute_result"
    }
   ],
   "source": [
    "processed_sequeces[processed_sequeces.contains_nonstandard_aa > 0].shape"
   ]
  },
  {
   "cell_type": "markdown",
   "id": "09303f12-e5b4-4cfa-bf91-a5c59cdd82c7",
   "metadata": {
    "id": "09303f12-e5b4-4cfa-bf91-a5c59cdd82c7"
   },
   "source": [
    "#### I observed, that 71 sequences contain nonstandard amino amids and had a closer look at those which have more of them, focusing especially on the unknown (X) "
   ]
  },
  {
   "cell_type": "code",
   "execution_count": 23,
   "id": "8f91d918-bc5b-40d1-8a53-3a78c661bb44",
   "metadata": {
    "colab": {
     "base_uri": "https://localhost:8080/",
     "height": 728
    },
    "executionInfo": {
     "elapsed": 17,
     "status": "ok",
     "timestamp": 1628801386379,
     "user": {
      "displayName": "Bartłomiej Surpeta",
      "photoUrl": "https://lh3.googleusercontent.com/a-/AOh14Gims9u11iysaT9tr9s4-NxqqgNXlkXzvsKKeEKGdQ=s64",
      "userId": "08700191692100803480"
     },
     "user_tz": -120
    },
    "id": "8f91d918-bc5b-40d1-8a53-3a78c661bb44",
    "outputId": "d85ef61f-e37e-4e8d-a520-630e48ddffc5"
   },
   "outputs": [
    {
     "data": {
      "text/html": [
       "<div>\n",
       "<style scoped>\n",
       "    .dataframe tbody tr th:only-of-type {\n",
       "        vertical-align: middle;\n",
       "    }\n",
       "\n",
       "    .dataframe tbody tr th {\n",
       "        vertical-align: top;\n",
       "    }\n",
       "\n",
       "    .dataframe thead th {\n",
       "        text-align: right;\n",
       "    }\n",
       "</style>\n",
       "<table border=\"1\" class=\"dataframe\">\n",
       "  <thead>\n",
       "    <tr style=\"text-align: right;\">\n",
       "      <th></th>\n",
       "      <th>pdb_id</th>\n",
       "      <th>seq</th>\n",
       "      <th>sst_q8</th>\n",
       "      <th>sst_q3</th>\n",
       "      <th>length</th>\n",
       "      <th>contains_nonstandard_aa</th>\n",
       "      <th>nonstandard_types</th>\n",
       "    </tr>\n",
       "  </thead>\n",
       "  <tbody>\n",
       "    <tr>\n",
       "      <th>906</th>\n",
       "      <td>1SN9</td>\n",
       "      <td>XYRIPSYDFADELAKLLRQAAGX</td>\n",
       "      <td>CCEETTEEHHHHHHHHHHHHTCC</td>\n",
       "      <td>CCEECCEEHHHHHHHHHHHHCCC</td>\n",
       "      <td>23</td>\n",
       "      <td>2</td>\n",
       "      <td>XX</td>\n",
       "    </tr>\n",
       "    <tr>\n",
       "      <th>2135</th>\n",
       "      <td>2O5G</td>\n",
       "      <td>XARRKWQKTGHAVRAIGRLSX</td>\n",
       "      <td>CCHHHHHHHHHHHHHHHHHCC</td>\n",
       "      <td>CCHHHHHHHHHHHHHHHHHCC</td>\n",
       "      <td>21</td>\n",
       "      <td>2</td>\n",
       "      <td>XX</td>\n",
       "    </tr>\n",
       "    <tr>\n",
       "      <th>2140</th>\n",
       "      <td>2O6N</td>\n",
       "      <td>XAEIEQAKKEIAYLIKKAKEEILEEIKKAKQEIAX</td>\n",
       "      <td>CCHHHHHHHHHHHHHHHHHHHHHHHHHHHHHHHCC</td>\n",
       "      <td>CCHHHHHHHHHHHHHHHHHHHHHHHHHHHHHHHCC</td>\n",
       "      <td>35</td>\n",
       "      <td>2</td>\n",
       "      <td>XX</td>\n",
       "    </tr>\n",
       "    <tr>\n",
       "      <th>2516</th>\n",
       "      <td>2RKZ</td>\n",
       "      <td>XETLTGQYDKNLVTTVEEEYDSX</td>\n",
       "      <td>CCCEEECSCTTSCCEEEEECCCC</td>\n",
       "      <td>CCCEEECCCCCCCCEEEEECCCC</td>\n",
       "      <td>23</td>\n",
       "      <td>2</td>\n",
       "      <td>XX</td>\n",
       "    </tr>\n",
       "    <tr>\n",
       "      <th>2801</th>\n",
       "      <td>2XSK</td>\n",
       "      <td>MGSSQITFNTTQQGDMYTIIPEVTLTQSULURVQILSLREGSSGQS...</td>\n",
       "      <td>CCCCEEEEEEEEETTEEEEEEEEECSSCEEEEEEEEEEEECSSCEE...</td>\n",
       "      <td>CCCCEEEEEEEEECCEEEEEEEEECCCCEEEEEEEEEEEECCCCEE...</td>\n",
       "      <td>110</td>\n",
       "      <td>2</td>\n",
       "      <td>UU</td>\n",
       "    </tr>\n",
       "    <tr>\n",
       "      <th>3210</th>\n",
       "      <td>3CAL</td>\n",
       "      <td>XKGIVTGAVSDHTTVEDTKX</td>\n",
       "      <td>CCCCEEECCSSCEEEECCCC</td>\n",
       "      <td>CCCCEEECCCCCEEEECCCC</td>\n",
       "      <td>20</td>\n",
       "      <td>2</td>\n",
       "      <td>XX</td>\n",
       "    </tr>\n",
       "    <tr>\n",
       "      <th>3213</th>\n",
       "      <td>3CAY</td>\n",
       "      <td>XAXAEAAEKAAKYAAEAAEKAAKAXAX</td>\n",
       "      <td>CCHHHHHHHHHHHHHHHHHHHHHHHCC</td>\n",
       "      <td>CCHHHHHHHHHHHHHHHHHHHHHHHCC</td>\n",
       "      <td>27</td>\n",
       "      <td>4</td>\n",
       "      <td>XXXX</td>\n",
       "    </tr>\n",
       "    <tr>\n",
       "      <th>4431</th>\n",
       "      <td>3O3Y</td>\n",
       "      <td>XTTWEAWDXAIAEYAXRIEXLIXAAQEQQEKNEXALXELX</td>\n",
       "      <td>CCCTTTHHHHHHHHHHHHHHHHHHHHHHHHHHHHHHSCCC</td>\n",
       "      <td>CCCCCCHHHHHHHHHHHHHHHHHHHHHHHHHHHHHHCCCC</td>\n",
       "      <td>40</td>\n",
       "      <td>8</td>\n",
       "      <td>XXXXXXXX</td>\n",
       "    </tr>\n",
       "    <tr>\n",
       "      <th>4933</th>\n",
       "      <td>3U5S</td>\n",
       "      <td>SMRTQQKRDTKFREDUPPDREELGRHSWAVLHTLAAYYPDLPTPEQ...</td>\n",
       "      <td>CCCCSCGGGTCCCSSSCCCHHHHHHHHHHHHHHHHHTSCSSCCHHH...</td>\n",
       "      <td>CCCCCCHHHCCCCCCCCCCHHHHHHHHHHHHHHHHHCCCCCCCHHH...</td>\n",
       "      <td>126</td>\n",
       "      <td>6</td>\n",
       "      <td>UUUUUU</td>\n",
       "    </tr>\n",
       "    <tr>\n",
       "      <th>5083</th>\n",
       "      <td>3W19</td>\n",
       "      <td>XNNLLRAIEAQQHLLQLTVWGIKQLQARILAVERYLKDQX</td>\n",
       "      <td>CCHHHHHHHHHHHHHHHHHHHHHHHHHHHHHHHHHHHHCC</td>\n",
       "      <td>CCHHHHHHHHHHHHHHHHHHHHHHHHHHHHHHHHHHHHCC</td>\n",
       "      <td>40</td>\n",
       "      <td>2</td>\n",
       "      <td>XX</td>\n",
       "    </tr>\n",
       "    <tr>\n",
       "      <th>5660</th>\n",
       "      <td>4G3B</td>\n",
       "      <td>GNADEXYKELEDXQERLRKXRKKLRS</td>\n",
       "      <td>CHHHHHHHHHHHHHHHHHHHHHHHHC</td>\n",
       "      <td>CHHHHHHHHHHHHHHHHHHHHHHHHC</td>\n",
       "      <td>26</td>\n",
       "      <td>3</td>\n",
       "      <td>XXX</td>\n",
       "    </tr>\n",
       "    <tr>\n",
       "      <th>6364</th>\n",
       "      <td>4OGG</td>\n",
       "      <td>NSRTVLILCGDYMEDYEVMVPFQALQAFGITVHTVCPGKKAGDSCP...</td>\n",
       "      <td>CCCEEEEECCTTEEHHHHHHHHHHHHHTTCEEEEECTTCCTTCEEC...</td>\n",
       "      <td>CCCEEEEECCCCEEHHHHHHHHHHHHHCCCEEEEECCCCCCCCEEC...</td>\n",
       "      <td>388</td>\n",
       "      <td>2</td>\n",
       "      <td>XX</td>\n",
       "    </tr>\n",
       "    <tr>\n",
       "      <th>6683</th>\n",
       "      <td>4RWC</td>\n",
       "      <td>XPLVVAASIIAILHLILWILDRLX</td>\n",
       "      <td>CCHHHHHHHHHHHHHHHHHHHHCC</td>\n",
       "      <td>CCHHHHHHHHHHHHHHHHHHHHCC</td>\n",
       "      <td>24</td>\n",
       "      <td>2</td>\n",
       "      <td>XX</td>\n",
       "    </tr>\n",
       "    <tr>\n",
       "      <th>7112</th>\n",
       "      <td>4Z0W</td>\n",
       "      <td>XAPAPFVPAAXAVXLAXLAALXG</td>\n",
       "      <td>CCCTTTGGGGGGGGGGGGGGGCC</td>\n",
       "      <td>CCCCCCHHHHHHHHHHHHHHHCC</td>\n",
       "      <td>23</td>\n",
       "      <td>5</td>\n",
       "      <td>XXXXX</td>\n",
       "    </tr>\n",
       "    <tr>\n",
       "      <th>8443</th>\n",
       "      <td>5UUK</td>\n",
       "      <td>XQWVREIAAGLRRAADDVNAQVERX</td>\n",
       "      <td>CCHHHHHHHHHHHHHHHHHHHHCCC</td>\n",
       "      <td>CCHHHHHHHHHHHHHHHHHHHHCCC</td>\n",
       "      <td>25</td>\n",
       "      <td>2</td>\n",
       "      <td>XX</td>\n",
       "    </tr>\n",
       "    <tr>\n",
       "      <th>9174</th>\n",
       "      <td>6FHN</td>\n",
       "      <td>GVVQSVNVSQAGYSSNDFKTATVTASDKLSDTSYQILQGTTVIATG...</td>\n",
       "      <td>CCEEEEECCTTCEETTSCCEEEEEESSCCSCCEEEEESSSSEEEEE...</td>\n",
       "      <td>CCEEEEECCCCCEECCCCCEEEEEECCCCCCCEEEEECCCCEEEEE...</td>\n",
       "      <td>1009</td>\n",
       "      <td>33</td>\n",
       "      <td>XXXXXXXXXXXXXXXXXXXXXXXXXXXXXXXXX</td>\n",
       "    </tr>\n",
       "    <tr>\n",
       "      <th>9259</th>\n",
       "      <td>6GME</td>\n",
       "      <td>XXXXXXXXXXXXXXXXXXINFKQAEKMMETMDQGDVIIRPSSKGEN...</td>\n",
       "      <td>CCCCCCCCCCCCCEEECCCCHHHHHHHHHHSCTTCEEEEECSSCTT...</td>\n",
       "      <td>CCCCCCCCCCCCCEEECCCCHHHHHHHHHHCCCCCEEEEECCCCCC...</td>\n",
       "      <td>201</td>\n",
       "      <td>18</td>\n",
       "      <td>XXXXXXXXXXXXXXXXXX</td>\n",
       "    </tr>\n",
       "    <tr>\n",
       "      <th>9748</th>\n",
       "      <td>6O40</td>\n",
       "      <td>XQARSDIEKLKEAIRDTNKAVQSVQSSIGNLIVAIKSVQDYVNKEI...</td>\n",
       "      <td>CCCHHHHHHHHHHHHHHHHHHHHHHHHHHHHHHHHHHHHHHHHHTH...</td>\n",
       "      <td>CCCHHHHHHHHHHHHHHHHHHHHHHHHHHHHHHHHHHHHHHHHHCH...</td>\n",
       "      <td>53</td>\n",
       "      <td>2</td>\n",
       "      <td>XX</td>\n",
       "    </tr>\n",
       "    <tr>\n",
       "      <th>9769</th>\n",
       "      <td>6OJ7</td>\n",
       "      <td>XHLEGEVNKIKSALLSTNKAVVSLSNGVSVLTSKVLDLKNYIDKQL...</td>\n",
       "      <td>CCHHHHHHHHHHHHHHHHHHHHHHHHHHHHHHHHHHHHHHHHHHHH...</td>\n",
       "      <td>CCHHHHHHHHHHHHHHHHHHHHHHHHHHHHHHHHHHHHHHHHHHHH...</td>\n",
       "      <td>53</td>\n",
       "      <td>2</td>\n",
       "      <td>XX</td>\n",
       "    </tr>\n",
       "    <tr>\n",
       "      <th>9866</th>\n",
       "      <td>6Q5O</td>\n",
       "      <td>XGELKALAQELKALAKELKALAWELKALAKGX</td>\n",
       "      <td>CCCHHHHHHHHHHHHHHHHHHHHHHHHHHHCC</td>\n",
       "      <td>CCCHHHHHHHHHHHHHHHHHHHHHHHHHHHCC</td>\n",
       "      <td>32</td>\n",
       "      <td>2</td>\n",
       "      <td>XX</td>\n",
       "    </tr>\n",
       "    <tr>\n",
       "      <th>10072</th>\n",
       "      <td>6TZK</td>\n",
       "      <td>FQSSAMVLRDGAKFEAQAGDPTQALETYKDAMVASGVTTTRPQDND...</td>\n",
       "      <td>CCCHHHHHHHHHHHHHHTTCHHHHHHHHHHHHHHHTSCSSCCCSHH...</td>\n",
       "      <td>CCCHHHHHHHHHHHHHHCCCHHHHHHHHHHHHHHHCCCCCCCCCHH...</td>\n",
       "      <td>455</td>\n",
       "      <td>4</td>\n",
       "      <td>XXXX</td>\n",
       "    </tr>\n",
       "  </tbody>\n",
       "</table>\n",
       "</div>"
      ],
      "text/plain": [
       "      pdb_id                                                seq  \\\n",
       "906     1SN9                            XYRIPSYDFADELAKLLRQAAGX   \n",
       "2135    2O5G                              XARRKWQKTGHAVRAIGRLSX   \n",
       "2140    2O6N                XAEIEQAKKEIAYLIKKAKEEILEEIKKAKQEIAX   \n",
       "2516    2RKZ                            XETLTGQYDKNLVTTVEEEYDSX   \n",
       "2801    2XSK  MGSSQITFNTTQQGDMYTIIPEVTLTQSULURVQILSLREGSSGQS...   \n",
       "3210    3CAL                               XKGIVTGAVSDHTTVEDTKX   \n",
       "3213    3CAY                        XAXAEAAEKAAKYAAEAAEKAAKAXAX   \n",
       "4431    3O3Y           XTTWEAWDXAIAEYAXRIEXLIXAAQEQQEKNEXALXELX   \n",
       "4933    3U5S  SMRTQQKRDTKFREDUPPDREELGRHSWAVLHTLAAYYPDLPTPEQ...   \n",
       "5083    3W19           XNNLLRAIEAQQHLLQLTVWGIKQLQARILAVERYLKDQX   \n",
       "5660    4G3B                         GNADEXYKELEDXQERLRKXRKKLRS   \n",
       "6364    4OGG  NSRTVLILCGDYMEDYEVMVPFQALQAFGITVHTVCPGKKAGDSCP...   \n",
       "6683    4RWC                           XPLVVAASIIAILHLILWILDRLX   \n",
       "7112    4Z0W                            XAPAPFVPAAXAVXLAXLAALXG   \n",
       "8443    5UUK                          XQWVREIAAGLRRAADDVNAQVERX   \n",
       "9174    6FHN  GVVQSVNVSQAGYSSNDFKTATVTASDKLSDTSYQILQGTTVIATG...   \n",
       "9259    6GME  XXXXXXXXXXXXXXXXXXINFKQAEKMMETMDQGDVIIRPSSKGEN...   \n",
       "9748    6O40  XQARSDIEKLKEAIRDTNKAVQSVQSSIGNLIVAIKSVQDYVNKEI...   \n",
       "9769    6OJ7  XHLEGEVNKIKSALLSTNKAVVSLSNGVSVLTSKVLDLKNYIDKQL...   \n",
       "9866    6Q5O                   XGELKALAQELKALAKELKALAWELKALAKGX   \n",
       "10072   6TZK  FQSSAMVLRDGAKFEAQAGDPTQALETYKDAMVASGVTTTRPQDND...   \n",
       "\n",
       "                                                  sst_q8  \\\n",
       "906                              CCEETTEEHHHHHHHHHHHHTCC   \n",
       "2135                               CCHHHHHHHHHHHHHHHHHCC   \n",
       "2140                 CCHHHHHHHHHHHHHHHHHHHHHHHHHHHHHHHCC   \n",
       "2516                             CCCEEECSCTTSCCEEEEECCCC   \n",
       "2801   CCCCEEEEEEEEETTEEEEEEEEECSSCEEEEEEEEEEEECSSCEE...   \n",
       "3210                                CCCCEEECCSSCEEEECCCC   \n",
       "3213                         CCHHHHHHHHHHHHHHHHHHHHHHHCC   \n",
       "4431            CCCTTTHHHHHHHHHHHHHHHHHHHHHHHHHHHHHHSCCC   \n",
       "4933   CCCCSCGGGTCCCSSSCCCHHHHHHHHHHHHHHHHHTSCSSCCHHH...   \n",
       "5083            CCHHHHHHHHHHHHHHHHHHHHHHHHHHHHHHHHHHHHCC   \n",
       "5660                          CHHHHHHHHHHHHHHHHHHHHHHHHC   \n",
       "6364   CCCEEEEECCTTEEHHHHHHHHHHHHHTTCEEEEECTTCCTTCEEC...   \n",
       "6683                            CCHHHHHHHHHHHHHHHHHHHHCC   \n",
       "7112                             CCCTTTGGGGGGGGGGGGGGGCC   \n",
       "8443                           CCHHHHHHHHHHHHHHHHHHHHCCC   \n",
       "9174   CCEEEEECCTTCEETTSCCEEEEEESSCCSCCEEEEESSSSEEEEE...   \n",
       "9259   CCCCCCCCCCCCCEEECCCCHHHHHHHHHHSCTTCEEEEECSSCTT...   \n",
       "9748   CCCHHHHHHHHHHHHHHHHHHHHHHHHHHHHHHHHHHHHHHHHHTH...   \n",
       "9769   CCHHHHHHHHHHHHHHHHHHHHHHHHHHHHHHHHHHHHHHHHHHHH...   \n",
       "9866                    CCCHHHHHHHHHHHHHHHHHHHHHHHHHHHCC   \n",
       "10072  CCCHHHHHHHHHHHHHHTTCHHHHHHHHHHHHHHHTSCSSCCCSHH...   \n",
       "\n",
       "                                                  sst_q3  length  \\\n",
       "906                              CCEECCEEHHHHHHHHHHHHCCC      23   \n",
       "2135                               CCHHHHHHHHHHHHHHHHHCC      21   \n",
       "2140                 CCHHHHHHHHHHHHHHHHHHHHHHHHHHHHHHHCC      35   \n",
       "2516                             CCCEEECCCCCCCCEEEEECCCC      23   \n",
       "2801   CCCCEEEEEEEEECCEEEEEEEEECCCCEEEEEEEEEEEECCCCEE...     110   \n",
       "3210                                CCCCEEECCCCCEEEECCCC      20   \n",
       "3213                         CCHHHHHHHHHHHHHHHHHHHHHHHCC      27   \n",
       "4431            CCCCCCHHHHHHHHHHHHHHHHHHHHHHHHHHHHHHCCCC      40   \n",
       "4933   CCCCCCHHHCCCCCCCCCCHHHHHHHHHHHHHHHHHCCCCCCCHHH...     126   \n",
       "5083            CCHHHHHHHHHHHHHHHHHHHHHHHHHHHHHHHHHHHHCC      40   \n",
       "5660                          CHHHHHHHHHHHHHHHHHHHHHHHHC      26   \n",
       "6364   CCCEEEEECCCCEEHHHHHHHHHHHHHCCCEEEEECCCCCCCCEEC...     388   \n",
       "6683                            CCHHHHHHHHHHHHHHHHHHHHCC      24   \n",
       "7112                             CCCCCCHHHHHHHHHHHHHHHCC      23   \n",
       "8443                           CCHHHHHHHHHHHHHHHHHHHHCCC      25   \n",
       "9174   CCEEEEECCCCCEECCCCCEEEEEECCCCCCCEEEEECCCCEEEEE...    1009   \n",
       "9259   CCCCCCCCCCCCCEEECCCCHHHHHHHHHHCCCCCEEEEECCCCCC...     201   \n",
       "9748   CCCHHHHHHHHHHHHHHHHHHHHHHHHHHHHHHHHHHHHHHHHHCH...      53   \n",
       "9769   CCHHHHHHHHHHHHHHHHHHHHHHHHHHHHHHHHHHHHHHHHHHHH...      53   \n",
       "9866                    CCCHHHHHHHHHHHHHHHHHHHHHHHHHHHCC      32   \n",
       "10072  CCCHHHHHHHHHHHHHHCCCHHHHHHHHHHHHHHHCCCCCCCCCHH...     455   \n",
       "\n",
       "       contains_nonstandard_aa                  nonstandard_types  \n",
       "906                          2                                 XX  \n",
       "2135                         2                                 XX  \n",
       "2140                         2                                 XX  \n",
       "2516                         2                                 XX  \n",
       "2801                         2                                 UU  \n",
       "3210                         2                                 XX  \n",
       "3213                         4                               XXXX  \n",
       "4431                         8                           XXXXXXXX  \n",
       "4933                         6                             UUUUUU  \n",
       "5083                         2                                 XX  \n",
       "5660                         3                                XXX  \n",
       "6364                         2                                 XX  \n",
       "6683                         2                                 XX  \n",
       "7112                         5                              XXXXX  \n",
       "8443                         2                                 XX  \n",
       "9174                        33  XXXXXXXXXXXXXXXXXXXXXXXXXXXXXXXXX  \n",
       "9259                        18                 XXXXXXXXXXXXXXXXXX  \n",
       "9748                         2                                 XX  \n",
       "9769                         2                                 XX  \n",
       "9866                         2                                 XX  \n",
       "10072                        4                               XXXX  "
      ]
     },
     "execution_count": 23,
     "metadata": {},
     "output_type": "execute_result"
    }
   ],
   "source": [
    "processed_sequeces[processed_sequeces.contains_nonstandard_aa > 1]"
   ]
  },
  {
   "cell_type": "code",
   "execution_count": 24,
   "id": "61e56642-6a8b-4ffc-9c53-cb8d3403b2b9",
   "metadata": {
    "colab": {
     "base_uri": "https://localhost:8080/",
     "height": 226
    },
    "executionInfo": {
     "elapsed": 16,
     "status": "ok",
     "timestamp": 1628801386380,
     "user": {
      "displayName": "Bartłomiej Surpeta",
      "photoUrl": "https://lh3.googleusercontent.com/a-/AOh14Gims9u11iysaT9tr9s4-NxqqgNXlkXzvsKKeEKGdQ=s64",
      "userId": "08700191692100803480"
     },
     "user_tz": -120
    },
    "id": "61e56642-6a8b-4ffc-9c53-cb8d3403b2b9",
    "outputId": "c46869dc-b6a9-4ff1-cf32-5c7836a981ca"
   },
   "outputs": [
    {
     "data": {
      "text/html": [
       "<div>\n",
       "<style scoped>\n",
       "    .dataframe tbody tr th:only-of-type {\n",
       "        vertical-align: middle;\n",
       "    }\n",
       "\n",
       "    .dataframe tbody tr th {\n",
       "        vertical-align: top;\n",
       "    }\n",
       "\n",
       "    .dataframe thead th {\n",
       "        text-align: right;\n",
       "    }\n",
       "</style>\n",
       "<table border=\"1\" class=\"dataframe\">\n",
       "  <thead>\n",
       "    <tr style=\"text-align: right;\">\n",
       "      <th></th>\n",
       "      <th>pdb_id</th>\n",
       "      <th>seq</th>\n",
       "      <th>sst_q8</th>\n",
       "      <th>sst_q3</th>\n",
       "      <th>length</th>\n",
       "      <th>contains_nonstandard_aa</th>\n",
       "      <th>nonstandard_types</th>\n",
       "    </tr>\n",
       "  </thead>\n",
       "  <tbody>\n",
       "    <tr>\n",
       "      <th>4431</th>\n",
       "      <td>3O3Y</td>\n",
       "      <td>XTTWEAWDXAIAEYAXRIEXLIXAAQEQQEKNEXALXELX</td>\n",
       "      <td>CCCTTTHHHHHHHHHHHHHHHHHHHHHHHHHHHHHHSCCC</td>\n",
       "      <td>CCCCCCHHHHHHHHHHHHHHHHHHHHHHHHHHHHHHCCCC</td>\n",
       "      <td>40</td>\n",
       "      <td>8</td>\n",
       "      <td>XXXXXXXX</td>\n",
       "    </tr>\n",
       "    <tr>\n",
       "      <th>4933</th>\n",
       "      <td>3U5S</td>\n",
       "      <td>SMRTQQKRDTKFREDUPPDREELGRHSWAVLHTLAAYYPDLPTPEQ...</td>\n",
       "      <td>CCCCSCGGGTCCCSSSCCCHHHHHHHHHHHHHHHHHTSCSSCCHHH...</td>\n",
       "      <td>CCCCCCHHHCCCCCCCCCCHHHHHHHHHHHHHHHHHCCCCCCCHHH...</td>\n",
       "      <td>126</td>\n",
       "      <td>6</td>\n",
       "      <td>UUUUUU</td>\n",
       "    </tr>\n",
       "    <tr>\n",
       "      <th>7112</th>\n",
       "      <td>4Z0W</td>\n",
       "      <td>XAPAPFVPAAXAVXLAXLAALXG</td>\n",
       "      <td>CCCTTTGGGGGGGGGGGGGGGCC</td>\n",
       "      <td>CCCCCCHHHHHHHHHHHHHHHCC</td>\n",
       "      <td>23</td>\n",
       "      <td>5</td>\n",
       "      <td>XXXXX</td>\n",
       "    </tr>\n",
       "    <tr>\n",
       "      <th>9174</th>\n",
       "      <td>6FHN</td>\n",
       "      <td>GVVQSVNVSQAGYSSNDFKTATVTASDKLSDTSYQILQGTTVIATG...</td>\n",
       "      <td>CCEEEEECCTTCEETTSCCEEEEEESSCCSCCEEEEESSSSEEEEE...</td>\n",
       "      <td>CCEEEEECCCCCEECCCCCEEEEEECCCCCCCEEEEECCCCEEEEE...</td>\n",
       "      <td>1009</td>\n",
       "      <td>33</td>\n",
       "      <td>XXXXXXXXXXXXXXXXXXXXXXXXXXXXXXXXX</td>\n",
       "    </tr>\n",
       "    <tr>\n",
       "      <th>9259</th>\n",
       "      <td>6GME</td>\n",
       "      <td>XXXXXXXXXXXXXXXXXXINFKQAEKMMETMDQGDVIIRPSSKGEN...</td>\n",
       "      <td>CCCCCCCCCCCCCEEECCCCHHHHHHHHHHSCTTCEEEEECSSCTT...</td>\n",
       "      <td>CCCCCCCCCCCCCEEECCCCHHHHHHHHHHCCCCCEEEEECCCCCC...</td>\n",
       "      <td>201</td>\n",
       "      <td>18</td>\n",
       "      <td>XXXXXXXXXXXXXXXXXX</td>\n",
       "    </tr>\n",
       "  </tbody>\n",
       "</table>\n",
       "</div>"
      ],
      "text/plain": [
       "     pdb_id                                                seq  \\\n",
       "4431   3O3Y           XTTWEAWDXAIAEYAXRIEXLIXAAQEQQEKNEXALXELX   \n",
       "4933   3U5S  SMRTQQKRDTKFREDUPPDREELGRHSWAVLHTLAAYYPDLPTPEQ...   \n",
       "7112   4Z0W                            XAPAPFVPAAXAVXLAXLAALXG   \n",
       "9174   6FHN  GVVQSVNVSQAGYSSNDFKTATVTASDKLSDTSYQILQGTTVIATG...   \n",
       "9259   6GME  XXXXXXXXXXXXXXXXXXINFKQAEKMMETMDQGDVIIRPSSKGEN...   \n",
       "\n",
       "                                                 sst_q8  \\\n",
       "4431           CCCTTTHHHHHHHHHHHHHHHHHHHHHHHHHHHHHHSCCC   \n",
       "4933  CCCCSCGGGTCCCSSSCCCHHHHHHHHHHHHHHHHHTSCSSCCHHH...   \n",
       "7112                            CCCTTTGGGGGGGGGGGGGGGCC   \n",
       "9174  CCEEEEECCTTCEETTSCCEEEEEESSCCSCCEEEEESSSSEEEEE...   \n",
       "9259  CCCCCCCCCCCCCEEECCCCHHHHHHHHHHSCTTCEEEEECSSCTT...   \n",
       "\n",
       "                                                 sst_q3  length  \\\n",
       "4431           CCCCCCHHHHHHHHHHHHHHHHHHHHHHHHHHHHHHCCCC      40   \n",
       "4933  CCCCCCHHHCCCCCCCCCCHHHHHHHHHHHHHHHHHCCCCCCCHHH...     126   \n",
       "7112                            CCCCCCHHHHHHHHHHHHHHHCC      23   \n",
       "9174  CCEEEEECCCCCEECCCCCEEEEEECCCCCCCEEEEECCCCEEEEE...    1009   \n",
       "9259  CCCCCCCCCCCCCEEECCCCHHHHHHHHHHCCCCCEEEEECCCCCC...     201   \n",
       "\n",
       "      contains_nonstandard_aa                  nonstandard_types  \n",
       "4431                        8                           XXXXXXXX  \n",
       "4933                        6                             UUUUUU  \n",
       "7112                        5                              XXXXX  \n",
       "9174                       33  XXXXXXXXXXXXXXXXXXXXXXXXXXXXXXXXX  \n",
       "9259                       18                 XXXXXXXXXXXXXXXXXX  "
      ]
     },
     "execution_count": 24,
     "metadata": {},
     "output_type": "execute_result"
    }
   ],
   "source": [
    "processed_sequeces[processed_sequeces.contains_nonstandard_aa > 4]"
   ]
  },
  {
   "cell_type": "code",
   "execution_count": 25,
   "id": "77d430f0-0273-4c87-853a-6107c9e8f6e9",
   "metadata": {
    "colab": {
     "base_uri": "https://localhost:8080/"
    },
    "executionInfo": {
     "elapsed": 12,
     "status": "ok",
     "timestamp": 1628801386381,
     "user": {
      "displayName": "Bartłomiej Surpeta",
      "photoUrl": "https://lh3.googleusercontent.com/a-/AOh14Gims9u11iysaT9tr9s4-NxqqgNXlkXzvsKKeEKGdQ=s64",
      "userId": "08700191692100803480"
     },
     "user_tz": -120
    },
    "id": "77d430f0-0273-4c87-853a-6107c9e8f6e9",
    "outputId": "895dcb27-5c67-414a-f6c4-a972353a975c"
   },
   "outputs": [
    {
     "data": {
      "text/plain": [
       "array(['GVVQSVNVSQAGYSSNDFKTATVTASDKLSDTSYQILQGTTVIATGTMKDEGYVWGKYVYSIDFSSVTATGTNFTIRSNGVSSYTFPIQTNMWNEYKDEMTAFYRLLRTTDTFAAYPAGYSNIAPSNKILHPDSFLDDAFSPDRTTHYDLTGGWFDAGDYGKYGGNQWVQGNIAISYLRHASSAAVNFDKDTNGIPDLVDEAIFGSQYLVKFANQLGGAIHNILRKGGFVLPHKVTDNVPGNTDDRALEAVEAVGGSGKSSGSLAATARAIRTAIAGGKVAANKVAQLQTLANEFQAAAIIFYNYTLTHQSGNHGSYGTMNNGGIANPLLWAEVQLYLLTGDAAYKTQAQTRINAINEAYVSSTNYWDMHPIALAEFYPVADSAIKTKIQSILKHQAYYFITLMDETPYGVLNQFGNFGVNEPHASYMADLLRYYELFNDPVALRAAKKALYWIVGNNPWNISWVSGVGSNFTDFLHTRLDEEAYSQTNTGVVLPGAMVSGPNIKDPNNKLSSSPWYEDKPIWADDTNQWRYNEYSVSIQTGLFYTIMGLSALGGNASTGGAEPVKLPITWPIIGDYVTGDVTVFAQPEGSLSNVSANGIVLSPSDGVYTTTVSTSADAPYTERKVQIKGTDDSGFTTYSNTHFTVAPALPDPSHPLLFDDFNQKGIWGSQKLDWVNWYNQNGGTASYTRTTVDTRTVGKFAHTPAATTSKAKFQPWKYNANLNGYRYLNFTMKNPGYPNTKIRIAANDGTKSVNLTSGEVAISSTWTTYQYDLNLHPTLNKSNVLIEVWLSNPTAGAYGEILIDEISAVNTNSGTAPTLSATGVNASIGNQSTVFTYTATYTDANNQAPFDVQVVIDGVIRSMTAADPTDTTYSDGRVYTYATTLPVGTHKFYFRTTDTTTNFVSTSVQTGPTVIRNKLEAEVLSINLTNYTHAVKDNADASGGKYRLFNGRQANDYIEYAVNVPKAGTYQVSAXXXXXXXXXXXXXXXXXGXXXXXXXXXXXXXXXX'],\n",
       "      dtype=object)"
      ]
     },
     "execution_count": 25,
     "metadata": {},
     "output_type": "execute_result"
    }
   ],
   "source": [
    "processed_sequeces.seq[processed_sequeces.pdb_id == '6FHN'].values"
   ]
  },
  {
   "cell_type": "code",
   "execution_count": 26,
   "id": "59c67207-2289-4ddd-92c1-747ac5d8203c",
   "metadata": {
    "colab": {
     "base_uri": "https://localhost:8080/"
    },
    "executionInfo": {
     "elapsed": 3,
     "status": "ok",
     "timestamp": 1628801386638,
     "user": {
      "displayName": "Bartłomiej Surpeta",
      "photoUrl": "https://lh3.googleusercontent.com/a-/AOh14Gims9u11iysaT9tr9s4-NxqqgNXlkXzvsKKeEKGdQ=s64",
      "userId": "08700191692100803480"
     },
     "user_tz": -120
    },
    "id": "59c67207-2289-4ddd-92c1-747ac5d8203c",
    "outputId": "3b01dc60-4485-4daf-b619-948fb20946d6"
   },
   "outputs": [
    {
     "data": {
      "text/plain": [
       "array(['XXXXXXXXXXXXXXXXXXINFKQAEKMMETMDQGDVIIRPSSKGENHLTVTWKVSDGIYQHVDVREEGKENAFSLGATLWINSEEFEDLDEIVARYVQPMASFARDLLNHKYYQDCSGGDRKKLEELLIKTKKEKPTFIPYFICACKELPGKFLLGYQPRGKPRIEYVTVTPEGFRYRGQIFPTVNGLFRWFKDHYQDPVP'],\n",
       "      dtype=object)"
      ]
     },
     "execution_count": 26,
     "metadata": {},
     "output_type": "execute_result"
    }
   ],
   "source": [
    "processed_sequeces.seq[processed_sequeces.pdb_id == '6GME'].values"
   ]
  },
  {
   "cell_type": "markdown",
   "id": "9ecd901a-89a6-4dea-bc01-7e59fb81710d",
   "metadata": {
    "id": "9ecd901a-89a6-4dea-bc01-7e59fb81710d"
   },
   "source": [
    "#### There were two sequences (6FHN and 6GME) in the dataset which contained significant amount of the unknown residues at the beginning or end, which most likely is conditioned by high mobility of these regions preventing correct assignment of the amino acid type, which affects the quality of the DSSP secondary structure prediciton, so I have removed these two sequences from the dataset, as they were most likely of lower quality besides their relatively high resolution as filtered in CulledPDB from PISCES."
   ]
  },
  {
   "cell_type": "code",
   "execution_count": 27,
   "id": "e9fce77a-2ad6-4ff0-8245-0942227d3fa0",
   "metadata": {
    "executionInfo": {
     "elapsed": 3,
     "status": "ok",
     "timestamp": 1628801388083,
     "user": {
      "displayName": "Bartłomiej Surpeta",
      "photoUrl": "https://lh3.googleusercontent.com/a-/AOh14Gims9u11iysaT9tr9s4-NxqqgNXlkXzvsKKeEKGdQ=s64",
      "userId": "08700191692100803480"
     },
     "user_tz": -120
    },
    "id": "e9fce77a-2ad6-4ff0-8245-0942227d3fa0"
   },
   "outputs": [],
   "source": [
    "processed_sequeces = processed_sequeces.drop(processed_sequeces[processed_sequeces.contains_nonstandard_aa > 10].index)"
   ]
  },
  {
   "cell_type": "markdown",
   "id": "63542791-06f6-4e2d-a588-3999a2e0c6ed",
   "metadata": {
    "id": "63542791-06f6-4e2d-a588-3999a2e0c6ed"
   },
   "source": [
    "## __6. Exploration of preprocessed dataset for modeling__"
   ]
  },
  {
   "cell_type": "code",
   "execution_count": 28,
   "id": "bf8b4ab0-9900-4cb9-a979-5e3283aaf2ab",
   "metadata": {
    "colab": {
     "base_uri": "https://localhost:8080/"
    },
    "executionInfo": {
     "elapsed": 4,
     "status": "ok",
     "timestamp": 1628801389964,
     "user": {
      "displayName": "Bartłomiej Surpeta",
      "photoUrl": "https://lh3.googleusercontent.com/a-/AOh14Gims9u11iysaT9tr9s4-NxqqgNXlkXzvsKKeEKGdQ=s64",
      "userId": "08700191692100803480"
     },
     "user_tz": -120
    },
    "id": "bf8b4ab0-9900-4cb9-a979-5e3283aaf2ab",
    "outputId": "f6bfee10-8dc5-481e-b888-94bd4d1dbd31"
   },
   "outputs": [
    {
     "name": "stdout",
     "output_type": "stream",
     "text": [
      "<class 'pandas.core.frame.DataFrame'>\n",
      "Int64Index: 10184 entries, 0 to 10185\n",
      "Data columns (total 7 columns):\n",
      " #   Column                   Non-Null Count  Dtype \n",
      "---  ------                   --------------  ----- \n",
      " 0   pdb_id                   10184 non-null  object\n",
      " 1   seq                      10184 non-null  object\n",
      " 2   sst_q8                   10184 non-null  object\n",
      " 3   sst_q3                   10184 non-null  object\n",
      " 4   length                   10184 non-null  int64 \n",
      " 5   contains_nonstandard_aa  10184 non-null  int64 \n",
      " 6   nonstandard_types        10184 non-null  object\n",
      "dtypes: int64(2), object(5)\n",
      "memory usage: 636.5+ KB\n"
     ]
    }
   ],
   "source": [
    "processed_sequeces.info()"
   ]
  },
  {
   "cell_type": "markdown",
   "id": "0a1acb55-b69a-4d8b-a05b-60b864c934fb",
   "metadata": {},
   "source": [
    "#### Prepared dataset does not contain any missing records and can be used for convertion for modeling"
   ]
  },
  {
   "cell_type": "code",
   "execution_count": 29,
   "id": "01153d28-eb35-464b-b7aa-3fcc463922a2",
   "metadata": {
    "colab": {
     "base_uri": "https://localhost:8080/",
     "height": 279
    },
    "executionInfo": {
     "elapsed": 505,
     "status": "ok",
     "timestamp": 1628801391165,
     "user": {
      "displayName": "Bartłomiej Surpeta",
      "photoUrl": "https://lh3.googleusercontent.com/a-/AOh14Gims9u11iysaT9tr9s4-NxqqgNXlkXzvsKKeEKGdQ=s64",
      "userId": "08700191692100803480"
     },
     "user_tz": -120
    },
    "id": "01153d28-eb35-464b-b7aa-3fcc463922a2",
    "outputId": "e62177b5-ce53-4c78-9ece-1553a674da12"
   },
   "outputs": [
    {
     "data": {
      "image/png": "[encoded data removed]",
      "text/plain": [
       "<Figure size 432x288 with 1 Axes>"
      ]
     },
     "metadata": {
      "needs_background": "light"
     },
     "output_type": "display_data"
    }
   ],
   "source": [
    "visualizer.visualize_occurrence(feature_series=processed_sequeces.seq, xlabel='Amino acids type').show()"
   ]
  },
  {
   "cell_type": "markdown",
   "id": "7eaa61c3-3a55-4316-a192-a1662dbe5f91",
   "metadata": {},
   "source": [
    "#### Three most frequently occuring amino acids in the dataset are Leucine (L), Alanine (A) and Glycine (G)."
   ]
  },
  {
   "cell_type": "code",
   "execution_count": 30,
   "id": "7e5316a8-d337-4243-a054-c5a53eb5a927",
   "metadata": {
    "colab": {
     "base_uri": "https://localhost:8080/",
     "height": 279
    },
    "executionInfo": {
     "elapsed": 295,
     "status": "ok",
     "timestamp": 1628801391453,
     "user": {
      "displayName": "Bartłomiej Surpeta",
      "photoUrl": "https://lh3.googleusercontent.com/a-/AOh14Gims9u11iysaT9tr9s4-NxqqgNXlkXzvsKKeEKGdQ=s64",
      "userId": "08700191692100803480"
     },
     "user_tz": -120
    },
    "id": "7e5316a8-d337-4243-a054-c5a53eb5a927",
    "outputId": "d8922cde-ae9e-48d9-8645-cbab2ce8185c"
   },
   "outputs": [
    {
     "data": {
      "image/png": "[encoded data removed]",
      "text/plain": [
       "<Figure size 432x288 with 1 Axes>"
      ]
     },
     "metadata": {
      "needs_background": "light"
     },
     "output_type": "display_data"
    }
   ],
   "source": [
    "visualizer.visualize_occurrence(feature_series=processed_sequeces.sst_q8, xlabel='Q8 secondary structure type').show()"
   ]
  },
  {
   "cell_type": "code",
   "execution_count": 31,
   "id": "b319b5cc-7874-48ce-a694-028fc06048d1",
   "metadata": {
    "colab": {
     "base_uri": "https://localhost:8080/",
     "height": 279
    },
    "executionInfo": {
     "elapsed": 7,
     "status": "ok",
     "timestamp": 1628801391454,
     "user": {
      "displayName": "Bartłomiej Surpeta",
      "photoUrl": "https://lh3.googleusercontent.com/a-/AOh14Gims9u11iysaT9tr9s4-NxqqgNXlkXzvsKKeEKGdQ=s64",
      "userId": "08700191692100803480"
     },
     "user_tz": -120
    },
    "id": "b319b5cc-7874-48ce-a694-028fc06048d1",
    "outputId": "d8327159-936e-405a-9a2f-b73780bf1c72"
   },
   "outputs": [
    {
     "data": {
      "image/png": "[encoded data removed]",
      "text/plain": [
       "<Figure size 432x288 with 1 Axes>"
      ]
     },
     "metadata": {
      "needs_background": "light"
     },
     "output_type": "display_data"
    }
   ],
   "source": [
    "visualizer.visualize_occurrence(feature_series=processed_sequeces.sst_q3, xlabel='Q3 secondary structure type').show()"
   ]
  },
  {
   "cell_type": "markdown",
   "id": "c01436a8-435d-464f-ab72-e38794cc6097",
   "metadata": {
    "id": "c01436a8-435d-464f-ab72-e38794cc6097"
   },
   "source": [
    "## __7. Sequences representation for modeling__"
   ]
  },
  {
   "cell_type": "code",
   "execution_count": 32,
   "id": "addc7480-e787-4e17-a724-9451e8bebebf",
   "metadata": {
    "colab": {
     "base_uri": "https://localhost:8080/",
     "height": 265
    },
    "executionInfo": {
     "elapsed": 539,
     "status": "ok",
     "timestamp": 1628801392537,
     "user": {
      "displayName": "Bartłomiej Surpeta",
      "photoUrl": "https://lh3.googleusercontent.com/a-/AOh14Gims9u11iysaT9tr9s4-NxqqgNXlkXzvsKKeEKGdQ=s64",
      "userId": "08700191692100803480"
     },
     "user_tz": -120
    },
    "id": "addc7480-e787-4e17-a724-9451e8bebebf",
    "outputId": "768560c1-f81b-4dd9-c12e-e26f108de5a0"
   },
   "outputs": [
    {
     "data": {
      "image/png": "[encoded data removed]",
      "text/plain": [
       "<Figure size 432x288 with 1 Axes>"
      ]
     },
     "metadata": {
      "needs_background": "light"
     },
     "output_type": "display_data"
    }
   ],
   "source": [
    "processed_sequeces.length.hist()\n",
    "plt.vlines(x=500, ymin=0, ymax=4500, colors='red', linestyles='--', label='maxlen')\n",
    "plt.legend()\n",
    "plt.grid(None)\n",
    "plt.show()"
   ]
  },
  {
   "cell_type": "markdown",
   "id": "1e86fe00-bd2d-4825-bec5-7aacd8d0ed5c",
   "metadata": {
    "id": "1e86fe00-bd2d-4825-bec5-7aacd8d0ed5c"
   },
   "source": [
    "#### Most of the sequences in prepared dataset did not exceed the length of 500 amino acids, hence I have limited the max length to 500 and unify the length of the samples by padding accordingly"
   ]
  },
  {
   "cell_type": "code",
   "execution_count": 33,
   "id": "0a299760-4a91-48d6-93dd-3f533afc9feb",
   "metadata": {
    "executionInfo": {
     "elapsed": 391,
     "status": "ok",
     "timestamp": 1628801394472,
     "user": {
      "displayName": "Bartłomiej Surpeta",
      "photoUrl": "https://lh3.googleusercontent.com/a-/AOh14Gims9u11iysaT9tr9s4-NxqqgNXlkXzvsKKeEKGdQ=s64",
      "userId": "08700191692100803480"
     },
     "user_tz": -120
    },
    "id": "0a299760-4a91-48d6-93dd-3f533afc9feb"
   },
   "outputs": [],
   "source": [
    "maxlen = 500"
   ]
  },
  {
   "cell_type": "markdown",
   "id": "991e2988-03aa-427f-96da-996963015da9",
   "metadata": {
    "id": "991e2988-03aa-427f-96da-996963015da9"
   },
   "source": [
    "#### Then sequences were prepared for modeling. As an ulimate goal was to use a so called ProtVec embedding obtained on the large dataset for DNA, RNA and Protein sequences (3), the sequences were represented in the same form of ngrams consisting of 3 consecutive amino acids in the sequence as it was shown to represent the protein sequence well for deep learning applications (7).  "
   ]
  },
  {
   "cell_type": "code",
   "execution_count": 34,
   "id": "32636629-986a-4b92-a5f3-e50fb3601aa8",
   "metadata": {
    "executionInfo": {
     "elapsed": 8730,
     "status": "ok",
     "timestamp": 1628801404101,
     "user": {
      "displayName": "Bartłomiej Surpeta",
      "photoUrl": "https://lh3.googleusercontent.com/a-/AOh14Gims9u11iysaT9tr9s4-NxqqgNXlkXzvsKKeEKGdQ=s64",
      "userId": "08700191692100803480"
     },
     "user_tz": -120
    },
    "id": "32636629-986a-4b92-a5f3-e50fb3601aa8"
   },
   "outputs": [],
   "source": [
    "input_sequences = prepare_for_modeling.convert_to_ngrams(sequences=processed_sequeces.seq, n=3)\n",
    "X_seq, seq_index = prepare_for_modeling.tokenize_inputs(input_sequences=input_sequences, maxlen=maxlen)\n",
    "y_sst8, sst8_index = prepare_for_modeling.tokenize_target(target_sst=processed_sequeces.sst_q8, maxlen=maxlen)\n",
    "y_sst3, sst3_index = prepare_for_modeling.tokenize_target(target_sst=processed_sequeces.sst_q3, maxlen=maxlen)"
   ]
  },
  {
   "cell_type": "code",
   "execution_count": 35,
   "id": "3d435d87-d955-4eac-882f-df4215080231",
   "metadata": {
    "colab": {
     "base_uri": "https://localhost:8080/"
    },
    "executionInfo": {
     "elapsed": 13,
     "status": "ok",
     "timestamp": 1628801404105,
     "user": {
      "displayName": "Bartłomiej Surpeta",
      "photoUrl": "https://lh3.googleusercontent.com/a-/AOh14Gims9u11iysaT9tr9s4-NxqqgNXlkXzvsKKeEKGdQ=s64",
      "userId": "08700191692100803480"
     },
     "user_tz": -120
    },
    "id": "3d435d87-d955-4eac-882f-df4215080231",
    "outputId": "897e81ad-5873-4ac2-c08f-8160a1b8cff8"
   },
   "outputs": [
    {
     "data": {
      "text/plain": [
       "((10184, 500), (10184, 500, 9), (10184, 500, 4))"
      ]
     },
     "execution_count": 35,
     "metadata": {},
     "output_type": "execute_result"
    }
   ],
   "source": [
    "X_seq.shape, y_sst8.shape, y_sst3.shape"
   ]
  },
  {
   "cell_type": "markdown",
   "id": "b92628a7-72a5-4edc-9b05-26d0411d0fa1",
   "metadata": {
    "id": "b92628a7-72a5-4edc-9b05-26d0411d0fa1"
   },
   "source": [
    "#### 3 state prediction dataset split "
   ]
  },
  {
   "cell_type": "code",
   "execution_count": 36,
   "id": "a25592c3-3ce0-4f38-93fc-600377a25ff9",
   "metadata": {
    "executionInfo": {
     "elapsed": 11,
     "status": "ok",
     "timestamp": 1628801404106,
     "user": {
      "displayName": "Bartłomiej Surpeta",
      "photoUrl": "https://lh3.googleusercontent.com/a-/AOh14Gims9u11iysaT9tr9s4-NxqqgNXlkXzvsKKeEKGdQ=s64",
      "userId": "08700191692100803480"
     },
     "user_tz": -120
    },
    "id": "a25592c3-3ce0-4f38-93fc-600377a25ff9"
   },
   "outputs": [],
   "source": [
    "X_train, X_test, y_train_q3, y_test_q3 = train_test_split(X_seq, y_sst3, test_size=0.2, random_state=42)"
   ]
  },
  {
   "cell_type": "code",
   "execution_count": 37,
   "id": "f33380c6-411e-483a-8a68-aadeb1c7eacf",
   "metadata": {
    "colab": {
     "base_uri": "https://localhost:8080/"
    },
    "executionInfo": {
     "elapsed": 11,
     "status": "ok",
     "timestamp": 1628801404106,
     "user": {
      "displayName": "Bartłomiej Surpeta",
      "photoUrl": "https://lh3.googleusercontent.com/a-/AOh14Gims9u11iysaT9tr9s4-NxqqgNXlkXzvsKKeEKGdQ=s64",
      "userId": "08700191692100803480"
     },
     "user_tz": -120
    },
    "id": "f33380c6-411e-483a-8a68-aadeb1c7eacf",
    "outputId": "936e617b-974f-4869-e102-1c697e0292c9"
   },
   "outputs": [
    {
     "data": {
      "text/plain": [
       "((8147, 500), (2037, 500), (8147, 500, 4), (2037, 500, 4))"
      ]
     },
     "execution_count": 37,
     "metadata": {},
     "output_type": "execute_result"
    }
   ],
   "source": [
    "X_train.shape, X_test.shape, y_train_q3.shape, y_test_q3.shape"
   ]
  },
  {
   "cell_type": "code",
   "execution_count": 38,
   "id": "ed9dd430-ce2e-4350-ba65-70d618f9c3f4",
   "metadata": {
    "executionInfo": {
     "elapsed": 9,
     "status": "ok",
     "timestamp": 1628801404107,
     "user": {
      "displayName": "Bartłomiej Surpeta",
      "photoUrl": "https://lh3.googleusercontent.com/a-/AOh14Gims9u11iysaT9tr9s4-NxqqgNXlkXzvsKKeEKGdQ=s64",
      "userId": "08700191692100803480"
     },
     "user_tz": -120
    },
    "id": "ed9dd430-ce2e-4350-ba65-70d618f9c3f4"
   },
   "outputs": [],
   "source": [
    "# dimensions for simple embeddings\n",
    "embedding_dims = 500"
   ]
  },
  {
   "cell_type": "code",
   "execution_count": 39,
   "id": "f8e2baf2-a0ac-4647-882f-120503774b08",
   "metadata": {
    "colab": {
     "base_uri": "https://localhost:8080/"
    },
    "executionInfo": {
     "elapsed": 10,
     "status": "ok",
     "timestamp": 1628801404108,
     "user": {
      "displayName": "Bartłomiej Surpeta",
      "photoUrl": "https://lh3.googleusercontent.com/a-/AOh14Gims9u11iysaT9tr9s4-NxqqgNXlkXzvsKKeEKGdQ=s64",
      "userId": "08700191692100803480"
     },
     "user_tz": -120
    },
    "id": "f8e2baf2-a0ac-4647-882f-120503774b08",
    "outputId": "53c4858d-b5ec-484a-dcf1-dacbdf7e405e"
   },
   "outputs": [
    {
     "name": "stdout",
     "output_type": "stream",
     "text": [
      "8586 4\n"
     ]
    }
   ],
   "source": [
    "n_words = len(seq_index) + 1  # including the padding\n",
    "n_tags = len(sst3_index) + 1  # including the padding\n",
    "print(n_words, n_tags)"
   ]
  },
  {
   "cell_type": "markdown",
   "id": "iLo1dLab8veE",
   "metadata": {
    "id": "iLo1dLab8veE"
   },
   "source": [
    "#### Preparation of the above mentioned ProtVec embeddings from external source:\n"
   ]
  },
  {
   "cell_type": "code",
   "execution_count": 40,
   "id": "bde6faea-2cc5-41a1-a325-ead90c2faee5",
   "metadata": {
    "executionInfo": {
     "elapsed": 2730,
     "status": "ok",
     "timestamp": 1628801406830,
     "user": {
      "displayName": "Bartłomiej Surpeta",
      "photoUrl": "https://lh3.googleusercontent.com/a-/AOh14Gims9u11iysaT9tr9s4-NxqqgNXlkXzvsKKeEKGdQ=s64",
      "userId": "08700191692100803480"
     },
     "user_tz": -120
    },
    "id": "bde6faea-2cc5-41a1-a325-ead90c2faee5"
   },
   "outputs": [],
   "source": [
    "protvec_shape, protvec_embeddings = prepare_for_modeling.parse_protvec_embeddings('../data/uniref_3M.vec')"
   ]
  },
  {
   "cell_type": "code",
   "execution_count": 41,
   "id": "20049e1d-e469-4426-a10d-fade37442cbe",
   "metadata": {
    "colab": {
     "base_uri": "https://localhost:8080/"
    },
    "executionInfo": {
     "elapsed": 12,
     "status": "ok",
     "timestamp": 1628801406831,
     "user": {
      "displayName": "Bartłomiej Surpeta",
      "photoUrl": "https://lh3.googleusercontent.com/a-/AOh14Gims9u11iysaT9tr9s4-NxqqgNXlkXzvsKKeEKGdQ=s64",
      "userId": "08700191692100803480"
     },
     "user_tz": -120
    },
    "id": "20049e1d-e469-4426-a10d-fade37442cbe",
    "outputId": "90a34dfd-ba3e-4590-ef56-0715b8d4c0bf"
   },
   "outputs": [
    {
     "data": {
      "text/plain": [
       "(10180, 1000)"
      ]
     },
     "execution_count": 41,
     "metadata": {},
     "output_type": "execute_result"
    }
   ],
   "source": [
    "protvec_shape"
   ]
  },
  {
   "cell_type": "markdown",
   "id": "UtuaNQlD8_rK",
   "metadata": {
    "id": "UtuaNQlD8_rK"
   },
   "source": [
    "#### Preparation of the embedding matrix using ProtVec embeddings weights and unique n_grams from my sequences:"
   ]
  },
  {
   "cell_type": "code",
   "execution_count": 42,
   "id": "nc_gKLLeJdsZ",
   "metadata": {
    "executionInfo": {
     "elapsed": 11,
     "status": "ok",
     "timestamp": 1628801406832,
     "user": {
      "displayName": "Bartłomiej Surpeta",
      "photoUrl": "https://lh3.googleusercontent.com/a-/AOh14Gims9u11iysaT9tr9s4-NxqqgNXlkXzvsKKeEKGdQ=s64",
      "userId": "08700191692100803480"
     },
     "user_tz": -120
    },
    "id": "nc_gKLLeJdsZ"
   },
   "outputs": [],
   "source": [
    "embedding_matrix = np.zeros((len(seq_index) + 1, protvec_shape[1]))\n",
    "for word, i in seq_index.items():\n",
    "    embedding_vector = protvec_embeddings.get(word.upper())\n",
    "    if embedding_vector is not None:\n",
    "        embedding_matrix[i] = embedding_vector"
   ]
  },
  {
   "cell_type": "code",
   "execution_count": 43,
   "id": "Wj77q-ylJs1j",
   "metadata": {
    "colab": {
     "base_uri": "https://localhost:8080/"
    },
    "executionInfo": {
     "elapsed": 10,
     "status": "ok",
     "timestamp": 1628801406832,
     "user": {
      "displayName": "Bartłomiej Surpeta",
      "photoUrl": "https://lh3.googleusercontent.com/a-/AOh14Gims9u11iysaT9tr9s4-NxqqgNXlkXzvsKKeEKGdQ=s64",
      "userId": "08700191692100803480"
     },
     "user_tz": -120
    },
    "id": "Wj77q-ylJs1j",
    "outputId": "b2020058-648b-4bd2-aa4b-495b79121103"
   },
   "outputs": [
    {
     "data": {
      "text/plain": [
       "(8586, 1000)"
      ]
     },
     "execution_count": 43,
     "metadata": {},
     "output_type": "execute_result"
    }
   ],
   "source": [
    "embedding_matrix.shape"
   ]
  },
  {
   "cell_type": "markdown",
   "id": "c3qodOPq4tW7",
   "metadata": {
    "id": "c3qodOPq4tW7"
   },
   "source": [
    "## __8. Building a model__"
   ]
  },
  {
   "cell_type": "markdown",
   "id": "MPheZNu6ncSY",
   "metadata": {
    "id": "MPheZNu6ncSY"
   },
   "source": [
    "#### Q3 protein secondary structure prediction using various models "
   ]
  },
  {
   "cell_type": "code",
   "execution_count": 46,
   "id": "aQFCosx87TFg",
   "metadata": {
    "executionInfo": {
     "elapsed": 8,
     "status": "ok",
     "timestamp": 1628801406833,
     "user": {
      "displayName": "Bartłomiej Surpeta",
      "photoUrl": "https://lh3.googleusercontent.com/a-/AOh14Gims9u11iysaT9tr9s4-NxqqgNXlkXzvsKKeEKGdQ=s64",
      "userId": "08700191692100803480"
     },
     "user_tz": -120
    },
    "id": "aQFCosx87TFg"
   },
   "outputs": [],
   "source": [
    "early_stopping = EarlyStopping(monitor='val_categorical_accuracy',\n",
    "                              patience=10,\n",
    "                              restore_best_weights=True)"
   ]
  },
  {
   "cell_type": "code",
   "execution_count": 49,
   "id": "1087fa4d-d5d5-48bc-804a-c521fd8ae087",
   "metadata": {
    "colab": {
     "base_uri": "https://localhost:8080/"
    },
    "executionInfo": {
     "elapsed": 145164,
     "status": "ok",
     "timestamp": 1628801551991,
     "user": {
      "displayName": "Bartłomiej Surpeta",
      "photoUrl": "https://lh3.googleusercontent.com/a-/AOh14Gims9u11iysaT9tr9s4-NxqqgNXlkXzvsKKeEKGdQ=s64",
      "userId": "08700191692100803480"
     },
     "user_tz": -120
    },
    "id": "1087fa4d-d5d5-48bc-804a-c521fd8ae087",
    "outputId": "655e9999-18a2-46e4-f8f8-5f3496fa3f91"
   },
   "outputs": [
    {
     "name": "stdout",
     "output_type": "stream",
     "text": [
      "Model: \"sequential\"\n",
      "_________________________________________________________________\n",
      "Layer (type)                 Output Shape              Param #   \n",
      "=================================================================\n",
      "embedding (Embedding)        (None, 500, 100)          858600    \n",
      "_________________________________________________________________\n",
      "lstm (LSTM)                  (None, 500, 64)           42240     \n",
      "_________________________________________________________________\n",
      "time_distributed (TimeDistri (None, 500, 4)            260       \n",
      "=================================================================\n",
      "Total params: 901,100\n",
      "Trainable params: 901,100\n",
      "Non-trainable params: 0\n",
      "_________________________________________________________________\n",
      "Epoch 1/100\n",
      "204/204 [==============================] - 10s 36ms/step - loss: 0.5442 - categorical_accuracy: 0.7497 - val_loss: 0.4185 - val_categorical_accuracy: 0.8126\n",
      "Epoch 2/100\n",
      "204/204 [==============================] - 7s 34ms/step - loss: 0.4151 - categorical_accuracy: 0.8147 - val_loss: 0.4083 - val_categorical_accuracy: 0.8174\n",
      "Epoch 3/100\n",
      "204/204 [==============================] - 7s 34ms/step - loss: 0.4005 - categorical_accuracy: 0.8222 - val_loss: 0.4092 - val_categorical_accuracy: 0.8178\n",
      "Epoch 4/100\n",
      "204/204 [==============================] - 7s 34ms/step - loss: 0.3896 - categorical_accuracy: 0.8280 - val_loss: 0.3992 - val_categorical_accuracy: 0.8219\n",
      "Epoch 5/100\n",
      "204/204 [==============================] - 7s 34ms/step - loss: 0.3809 - categorical_accuracy: 0.8326 - val_loss: 0.4002 - val_categorical_accuracy: 0.8216\n",
      "Epoch 6/100\n",
      "204/204 [==============================] - 7s 33ms/step - loss: 0.3746 - categorical_accuracy: 0.8358 - val_loss: 0.4016 - val_categorical_accuracy: 0.8213\n",
      "Epoch 7/100\n",
      "204/204 [==============================] - 7s 33ms/step - loss: 0.3674 - categorical_accuracy: 0.8395 - val_loss: 0.4041 - val_categorical_accuracy: 0.8213\n",
      "Epoch 8/100\n",
      "204/204 [==============================] - 7s 33ms/step - loss: 0.3607 - categorical_accuracy: 0.8425 - val_loss: 0.4065 - val_categorical_accuracy: 0.8201\n",
      "Epoch 9/100\n",
      "204/204 [==============================] - 7s 34ms/step - loss: 0.3554 - categorical_accuracy: 0.8452 - val_loss: 0.4113 - val_categorical_accuracy: 0.8188\n",
      "Epoch 10/100\n",
      "204/204 [==============================] - 7s 34ms/step - loss: 0.3483 - categorical_accuracy: 0.8488 - val_loss: 0.4158 - val_categorical_accuracy: 0.8171\n",
      "Epoch 11/100\n",
      "204/204 [==============================] - 7s 33ms/step - loss: 0.3419 - categorical_accuracy: 0.8518 - val_loss: 0.4206 - val_categorical_accuracy: 0.8176\n",
      "Epoch 12/100\n",
      "204/204 [==============================] - 7s 34ms/step - loss: 0.3360 - categorical_accuracy: 0.8547 - val_loss: 0.4287 - val_categorical_accuracy: 0.8147\n",
      "Epoch 13/100\n",
      "204/204 [==============================] - 7s 34ms/step - loss: 0.3305 - categorical_accuracy: 0.8572 - val_loss: 0.4380 - val_categorical_accuracy: 0.8127\n",
      "Epoch 14/100\n",
      "204/204 [==============================] - 7s 33ms/step - loss: 0.3248 - categorical_accuracy: 0.8600 - val_loss: 0.4436 - val_categorical_accuracy: 0.8111\n",
      "64/64 [==============================] - 1s 13ms/step - loss: 0.4086 - categorical_accuracy: 0.8175\n"
     ]
    }
   ],
   "source": [
    "# LSTM + simple embedding\n",
    "model1 = Sequential()\n",
    "model1.add(Embedding(input_shape=(maxlen,), \n",
    "                     input_dim=n_words, \n",
    "                     output_dim=100, \n",
    "                     input_length=maxlen))\n",
    "model1.add(LSTM(units=64,\n",
    "                activation='tanh', \n",
    "                recurrent_activation='sigmoid', \n",
    "                return_sequences=True))\n",
    "model1.add(TimeDistributed(Dense(n_tags, \n",
    "                                 activation=\"softmax\")))\n",
    "model1.summary()\n",
    "model1.compile(loss=\"categorical_crossentropy\",\n",
    "              optimizer=\"adam\",\n",
    "              metrics=[\"categorical_accuracy\"])\n",
    "model1_history = model1.fit(X_train,\n",
    "                            y_train_q3,\n",
    "                            validation_split=0.2,\n",
    "                            callbacks=[early_stopping], \n",
    "                            epochs=100)\n",
    "model1.save('../models/model1_lstm_x1.h5')\n",
    "model1.evaluate(X_test, y_test_q3) \n",
    "model1_hist_df = pd.DataFrame(model1_history.history)\n",
    "with open('../models/model1_lstm_x1_history.csv', 'w') as out:\n",
    "  model1_hist_df.to_csv(out)"
   ]
  },
  {
   "cell_type": "code",
   "execution_count": 50,
   "id": "LndSBP6otIa2",
   "metadata": {
    "colab": {
     "base_uri": "https://localhost:8080/"
    },
    "executionInfo": {
     "elapsed": 208512,
     "status": "ok",
     "timestamp": 1628801821802,
     "user": {
      "displayName": "Bartłomiej Surpeta",
      "photoUrl": "https://lh3.googleusercontent.com/a-/AOh14Gims9u11iysaT9tr9s4-NxqqgNXlkXzvsKKeEKGdQ=s64",
      "userId": "08700191692100803480"
     },
     "user_tz": -120
    },
    "id": "LndSBP6otIa2",
    "outputId": "4ca472d2-2473-4412-c4c0-c33bd3402d1d"
   },
   "outputs": [
    {
     "name": "stdout",
     "output_type": "stream",
     "text": [
      "Model: \"sequential_1\"\n",
      "_________________________________________________________________\n",
      "Layer (type)                 Output Shape              Param #   \n",
      "=================================================================\n",
      "embedding_1 (Embedding)      (None, 500, 100)          858600    \n",
      "_________________________________________________________________\n",
      "lstm_1 (LSTM)                (None, 500, 128)          117248    \n",
      "_________________________________________________________________\n",
      "lstm_2 (LSTM)                (None, 500, 64)           49408     \n",
      "_________________________________________________________________\n",
      "time_distributed_1 (TimeDist (None, 500, 4)            260       \n",
      "=================================================================\n",
      "Total params: 1,025,516\n",
      "Trainable params: 1,025,516\n",
      "Non-trainable params: 0\n",
      "_________________________________________________________________\n",
      "Epoch 1/100\n",
      "204/204 [==============================] - 16s 63ms/step - loss: 0.5374 - categorical_accuracy: 0.7349 - val_loss: 0.4235 - val_categorical_accuracy: 0.8091\n",
      "Epoch 2/100\n",
      "204/204 [==============================] - 12s 60ms/step - loss: 0.4173 - categorical_accuracy: 0.8135 - val_loss: 0.4096 - val_categorical_accuracy: 0.8166\n",
      "Epoch 3/100\n",
      "204/204 [==============================] - 12s 59ms/step - loss: 0.3999 - categorical_accuracy: 0.8225 - val_loss: 0.3996 - val_categorical_accuracy: 0.8214\n",
      "Epoch 4/100\n",
      "204/204 [==============================] - 12s 59ms/step - loss: 0.3877 - categorical_accuracy: 0.8290 - val_loss: 0.3971 - val_categorical_accuracy: 0.8234\n",
      "Epoch 5/100\n",
      "204/204 [==============================] - 12s 59ms/step - loss: 0.3772 - categorical_accuracy: 0.8342 - val_loss: 0.4012 - val_categorical_accuracy: 0.8218\n",
      "Epoch 6/100\n",
      "204/204 [==============================] - 12s 59ms/step - loss: 0.3694 - categorical_accuracy: 0.8381 - val_loss: 0.4007 - val_categorical_accuracy: 0.8227\n",
      "Epoch 7/100\n",
      "204/204 [==============================] - 12s 60ms/step - loss: 0.3623 - categorical_accuracy: 0.8414 - val_loss: 0.4004 - val_categorical_accuracy: 0.8225\n",
      "Epoch 8/100\n",
      "204/204 [==============================] - 12s 59ms/step - loss: 0.3537 - categorical_accuracy: 0.8457 - val_loss: 0.4096 - val_categorical_accuracy: 0.8209\n",
      "Epoch 9/100\n",
      "204/204 [==============================] - 12s 58ms/step - loss: 0.3467 - categorical_accuracy: 0.8489 - val_loss: 0.4114 - val_categorical_accuracy: 0.8199\n",
      "Epoch 10/100\n",
      "204/204 [==============================] - 12s 58ms/step - loss: 0.3393 - categorical_accuracy: 0.8525 - val_loss: 0.4177 - val_categorical_accuracy: 0.8182\n",
      "Epoch 11/100\n",
      "204/204 [==============================] - 12s 58ms/step - loss: 0.3323 - categorical_accuracy: 0.8558 - val_loss: 0.4272 - val_categorical_accuracy: 0.8159\n",
      "Epoch 12/100\n",
      "204/204 [==============================] - 12s 60ms/step - loss: 0.3243 - categorical_accuracy: 0.8597 - val_loss: 0.4368 - val_categorical_accuracy: 0.8146\n",
      "Epoch 13/100\n",
      "204/204 [==============================] - 12s 60ms/step - loss: 0.3167 - categorical_accuracy: 0.8632 - val_loss: 0.4510 - val_categorical_accuracy: 0.8122\n",
      "Epoch 14/100\n",
      "204/204 [==============================] - 12s 59ms/step - loss: 0.3379 - categorical_accuracy: 0.8613 - val_loss: 0.4434 - val_categorical_accuracy: 0.8129\n",
      "64/64 [==============================] - 1s 23ms/step - loss: 0.4059 - categorical_accuracy: 0.8193\n"
     ]
    }
   ],
   "source": [
    "# 2x LSTM + simple embedding\n",
    "model2 = Sequential()\n",
    "model2.add(Embedding(input_shape=(maxlen,), \n",
    "                     input_dim=n_words, \n",
    "                     output_dim=100, \n",
    "                     input_length=maxlen))\n",
    "model2.add(LSTM(units=128,\n",
    "                activation='tanh', \n",
    "                recurrent_activation='sigmoid', \n",
    "                return_sequences=True))\n",
    "model2.add(LSTM(units=64,\n",
    "                activation='tanh', \n",
    "                recurrent_activation='sigmoid', \n",
    "                return_sequences=True))\n",
    "model2.add(TimeDistributed(Dense(n_tags, \n",
    "                                 activation=\"softmax\")))\n",
    "model2.summary()\n",
    "model2.compile(loss=\"categorical_crossentropy\",\n",
    "              optimizer=\"adam\",\n",
    "              metrics=[\"categorical_accuracy\"])\n",
    "model2_history = model2.fit(X_train,\n",
    "                            y_train_q3,\n",
    "                            validation_split=0.2,\n",
    "                            callbacks=[early_stopping], \n",
    "                            epochs=100)\n",
    "model2.save('../models/model2_lstm_x2.h5')\n",
    "model2.evaluate(X_test, y_test_q3) \n",
    "model2_hist_df = pd.DataFrame(model2_history.history)\n",
    "with open('../models/model2_lstm_x2_history.csv', 'w') as out:\n",
    "  model2_hist_df.to_csv(out)"
   ]
  },
  {
   "cell_type": "code",
   "execution_count": 51,
   "id": "Fk3ZByYx_33o",
   "metadata": {
    "colab": {
     "base_uri": "https://localhost:8080/"
    },
    "executionInfo": {
     "elapsed": 447857,
     "status": "ok",
     "timestamp": 1628802308673,
     "user": {
      "displayName": "Bartłomiej Surpeta",
      "photoUrl": "https://lh3.googleusercontent.com/a-/AOh14Gims9u11iysaT9tr9s4-NxqqgNXlkXzvsKKeEKGdQ=s64",
      "userId": "08700191692100803480"
     },
     "user_tz": -120
    },
    "id": "Fk3ZByYx_33o",
    "outputId": "195c4de5-6609-4ed5-e203-e19c3ae0fa56"
   },
   "outputs": [
    {
     "name": "stdout",
     "output_type": "stream",
     "text": [
      "Model: \"sequential_2\"\n",
      "_________________________________________________________________\n",
      "Layer (type)                 Output Shape              Param #   \n",
      "=================================================================\n",
      "embedding_2 (Embedding)      (None, 500, 1000)         8586000   \n",
      "_________________________________________________________________\n",
      "lstm_3 (LSTM)                (None, 500, 128)          578048    \n",
      "_________________________________________________________________\n",
      "lstm_4 (LSTM)                (None, 500, 64)           49408     \n",
      "_________________________________________________________________\n",
      "time_distributed_2 (TimeDist (None, 500, 4)            260       \n",
      "=================================================================\n",
      "Total params: 9,213,716\n",
      "Trainable params: 627,716\n",
      "Non-trainable params: 8,586,000\n",
      "_________________________________________________________________\n",
      "Epoch 1/100\n",
      "204/204 [==============================] - 17s 72ms/step - loss: 0.5296 - categorical_accuracy: 0.7645 - val_loss: 0.4341 - val_categorical_accuracy: 0.8034\n",
      "Epoch 2/100\n",
      "204/204 [==============================] - 14s 67ms/step - loss: 0.4324 - categorical_accuracy: 0.8046 - val_loss: 0.4242 - val_categorical_accuracy: 0.8077\n",
      "Epoch 3/100\n",
      "204/204 [==============================] - 13s 66ms/step - loss: 0.4228 - categorical_accuracy: 0.8097 - val_loss: 0.4089 - val_categorical_accuracy: 0.8163\n",
      "Epoch 4/100\n",
      "204/204 [==============================] - 13s 66ms/step - loss: 0.4144 - categorical_accuracy: 0.8143 - val_loss: 0.4027 - val_categorical_accuracy: 0.8198\n",
      "Epoch 5/100\n",
      "204/204 [==============================] - 14s 67ms/step - loss: 0.4079 - categorical_accuracy: 0.8174 - val_loss: 0.4001 - val_categorical_accuracy: 0.8207\n",
      "Epoch 6/100\n",
      "204/204 [==============================] - 14s 67ms/step - loss: 0.4052 - categorical_accuracy: 0.8186 - val_loss: 0.3976 - val_categorical_accuracy: 0.8220\n",
      "Epoch 7/100\n",
      "204/204 [==============================] - 13s 65ms/step - loss: 0.3997 - categorical_accuracy: 0.8215 - val_loss: 0.3953 - val_categorical_accuracy: 0.8232\n",
      "Epoch 8/100\n",
      "204/204 [==============================] - 13s 65ms/step - loss: 0.3958 - categorical_accuracy: 0.8235 - val_loss: 0.3928 - val_categorical_accuracy: 0.8245\n",
      "Epoch 9/100\n",
      "204/204 [==============================] - 13s 66ms/step - loss: 0.3944 - categorical_accuracy: 0.8240 - val_loss: 0.3915 - val_categorical_accuracy: 0.8251\n",
      "Epoch 10/100\n",
      "204/204 [==============================] - 14s 68ms/step - loss: 0.3915 - categorical_accuracy: 0.8254 - val_loss: 0.3893 - val_categorical_accuracy: 0.8262\n",
      "Epoch 11/100\n",
      "204/204 [==============================] - 14s 67ms/step - loss: 0.3877 - categorical_accuracy: 0.8278 - val_loss: 0.3900 - val_categorical_accuracy: 0.8256\n",
      "Epoch 12/100\n",
      "204/204 [==============================] - 13s 66ms/step - loss: 0.3853 - categorical_accuracy: 0.8288 - val_loss: 0.3887 - val_categorical_accuracy: 0.8266\n",
      "Epoch 13/100\n",
      "204/204 [==============================] - 13s 65ms/step - loss: 0.3845 - categorical_accuracy: 0.8293 - val_loss: 0.3882 - val_categorical_accuracy: 0.8265\n",
      "Epoch 14/100\n",
      "204/204 [==============================] - 13s 66ms/step - loss: 0.3812 - categorical_accuracy: 0.8311 - val_loss: 0.3867 - val_categorical_accuracy: 0.8280\n",
      "Epoch 15/100\n",
      "204/204 [==============================] - 14s 68ms/step - loss: 0.3785 - categorical_accuracy: 0.8324 - val_loss: 0.3889 - val_categorical_accuracy: 0.8268\n",
      "Epoch 16/100\n",
      "204/204 [==============================] - 14s 66ms/step - loss: 0.3778 - categorical_accuracy: 0.8329 - val_loss: 0.3872 - val_categorical_accuracy: 0.8276\n",
      "Epoch 17/100\n",
      "204/204 [==============================] - 14s 68ms/step - loss: 0.3738 - categorical_accuracy: 0.8349 - val_loss: 0.3864 - val_categorical_accuracy: 0.8280\n",
      "Epoch 18/100\n",
      "204/204 [==============================] - 14s 67ms/step - loss: 0.3719 - categorical_accuracy: 0.8357 - val_loss: 0.3846 - val_categorical_accuracy: 0.8289\n",
      "Epoch 19/100\n",
      "204/204 [==============================] - 13s 66ms/step - loss: 0.3694 - categorical_accuracy: 0.8370 - val_loss: 0.3872 - val_categorical_accuracy: 0.8281\n",
      "Epoch 20/100\n",
      "204/204 [==============================] - 13s 65ms/step - loss: 0.3658 - categorical_accuracy: 0.8390 - val_loss: 0.3868 - val_categorical_accuracy: 0.8281\n",
      "Epoch 21/100\n",
      "204/204 [==============================] - 13s 66ms/step - loss: 0.3634 - categorical_accuracy: 0.8402 - val_loss: 0.3944 - val_categorical_accuracy: 0.8248\n",
      "Epoch 22/100\n",
      "204/204 [==============================] - 14s 68ms/step - loss: 0.3609 - categorical_accuracy: 0.8414 - val_loss: 0.3881 - val_categorical_accuracy: 0.8278\n",
      "Epoch 23/100\n",
      "204/204 [==============================] - 14s 67ms/step - loss: 0.3580 - categorical_accuracy: 0.8428 - val_loss: 0.3910 - val_categorical_accuracy: 0.8266\n",
      "Epoch 24/100\n",
      "204/204 [==============================] - 13s 65ms/step - loss: 0.3554 - categorical_accuracy: 0.8441 - val_loss: 0.3962 - val_categorical_accuracy: 0.8259\n",
      "Epoch 25/100\n",
      "204/204 [==============================] - 13s 66ms/step - loss: 0.3522 - categorical_accuracy: 0.8456 - val_loss: 0.4011 - val_categorical_accuracy: 0.8236\n",
      "Epoch 26/100\n",
      "204/204 [==============================] - 14s 67ms/step - loss: 0.3502 - categorical_accuracy: 0.8467 - val_loss: 0.3956 - val_categorical_accuracy: 0.8252\n",
      "Epoch 27/100\n",
      "204/204 [==============================] - 14s 69ms/step - loss: 0.3464 - categorical_accuracy: 0.8485 - val_loss: 0.3948 - val_categorical_accuracy: 0.8263\n",
      "Epoch 28/100\n",
      "204/204 [==============================] - 14s 69ms/step - loss: 0.3435 - categorical_accuracy: 0.8498 - val_loss: 0.3994 - val_categorical_accuracy: 0.8255\n",
      "64/64 [==============================] - 2s 36ms/step - loss: 0.3927 - categorical_accuracy: 0.8254\n"
     ]
    }
   ],
   "source": [
    "# 2x LSTM + protvec embeddings\n",
    "model3 = Sequential()\n",
    "model3.add(Embedding(input_dim = len(seq_index) + 1,\n",
    "                     output_dim = protvec_shape[1],\n",
    "                     weights=[embedding_matrix],\n",
    "                     input_length=maxlen,\n",
    "                     trainable=False))\n",
    "model3.add(LSTM(units=128,\n",
    "                activation='tanh', \n",
    "                recurrent_activation='sigmoid', \n",
    "                return_sequences=True))\n",
    "model3.add(LSTM(units=64,\n",
    "                activation='tanh', \n",
    "                recurrent_activation='sigmoid', \n",
    "                return_sequences=True))\n",
    "model3.add(TimeDistributed(Dense(n_tags, \n",
    "                                 activation=\"softmax\")))\n",
    "model3.summary()\n",
    "model3.compile(loss=\"categorical_crossentropy\",\n",
    "              optimizer=\"adam\",\n",
    "              metrics=[\"categorical_accuracy\"])\n",
    "model3_history = model3.fit(X_train,\n",
    "                            y_train_q3,\n",
    "                            validation_split=0.2,\n",
    "                            callbacks=[early_stopping], \n",
    "                            epochs=100)\n",
    "model3.save('../models/model3_lstm_x2_protvec_embeddings.h5')\n",
    "model3.evaluate(X_test, y_test_q3)\n",
    "model3_hist_df = pd.DataFrame(model3_history.history)\n",
    "with open('../models/model3_lstm_x2_protvec_embeddings_history.csv', 'w') as out:\n",
    "  model3_hist_df.to_csv(out)"
   ]
  },
  {
   "cell_type": "code",
   "execution_count": 52,
   "id": "LaHxwudcMhM-",
   "metadata": {
    "colab": {
     "base_uri": "https://localhost:8080/"
    },
    "executionInfo": {
     "elapsed": 278020,
     "status": "ok",
     "timestamp": 1628802815667,
     "user": {
      "displayName": "Bartłomiej Surpeta",
      "photoUrl": "https://lh3.googleusercontent.com/a-/AOh14Gims9u11iysaT9tr9s4-NxqqgNXlkXzvsKKeEKGdQ=s64",
      "userId": "08700191692100803480"
     },
     "user_tz": -120
    },
    "id": "LaHxwudcMhM-",
    "outputId": "a1f1cd82-db0d-43be-f5b7-cc9b239c93cc"
   },
   "outputs": [
    {
     "name": "stdout",
     "output_type": "stream",
     "text": [
      "Model: \"sequential_3\"\n",
      "_________________________________________________________________\n",
      "Layer (type)                 Output Shape              Param #   \n",
      "=================================================================\n",
      "embedding_3 (Embedding)      (None, 500, 1000)         8586000   \n",
      "_________________________________________________________________\n",
      "lstm_5 (LSTM)                (None, 500, 128)          578048    \n",
      "_________________________________________________________________\n",
      "lstm_6 (LSTM)                (None, 500, 64)           49408     \n",
      "_________________________________________________________________\n",
      "dense_3 (Dense)              (None, 500, 64)           4160      \n",
      "_________________________________________________________________\n",
      "dense_4 (Dense)              (None, 500, 32)           2080      \n",
      "_________________________________________________________________\n",
      "time_distributed_3 (TimeDist (None, 500, 4)            132       \n",
      "=================================================================\n",
      "Total params: 9,219,828\n",
      "Trainable params: 633,828\n",
      "Non-trainable params: 8,586,000\n",
      "_________________________________________________________________\n",
      "Epoch 1/100\n",
      "204/204 [==============================] - 18s 74ms/step - loss: 0.5495 - categorical_accuracy: 0.7473 - val_loss: 0.4482 - val_categorical_accuracy: 0.7943\n",
      "Epoch 2/100\n",
      "204/204 [==============================] - 14s 69ms/step - loss: 0.4398 - categorical_accuracy: 0.7995 - val_loss: 0.4247 - val_categorical_accuracy: 0.8079\n",
      "Epoch 3/100\n",
      "204/204 [==============================] - 14s 68ms/step - loss: 0.4258 - categorical_accuracy: 0.8076 - val_loss: 0.4122 - val_categorical_accuracy: 0.8137\n",
      "Epoch 4/100\n",
      "204/204 [==============================] - 14s 68ms/step - loss: 0.4180 - categorical_accuracy: 0.8118 - val_loss: 0.4028 - val_categorical_accuracy: 0.8193\n",
      "Epoch 5/100\n",
      "204/204 [==============================] - 14s 70ms/step - loss: 0.4079 - categorical_accuracy: 0.8171 - val_loss: 0.4032 - val_categorical_accuracy: 0.8181\n",
      "Epoch 6/100\n",
      "204/204 [==============================] - 15s 71ms/step - loss: 0.4051 - categorical_accuracy: 0.8184 - val_loss: 0.3963 - val_categorical_accuracy: 0.8229\n",
      "Epoch 7/100\n",
      "204/204 [==============================] - 14s 71ms/step - loss: 0.4008 - categorical_accuracy: 0.8207 - val_loss: 0.3979 - val_categorical_accuracy: 0.8216\n",
      "Epoch 8/100\n",
      "204/204 [==============================] - 14s 71ms/step - loss: 0.3985 - categorical_accuracy: 0.8220 - val_loss: 0.4009 - val_categorical_accuracy: 0.8197\n",
      "Epoch 9/100\n",
      "204/204 [==============================] - 14s 69ms/step - loss: 0.3956 - categorical_accuracy: 0.8232 - val_loss: 0.3922 - val_categorical_accuracy: 0.8245\n",
      "Epoch 10/100\n",
      "204/204 [==============================] - 14s 67ms/step - loss: 0.3942 - categorical_accuracy: 0.8242 - val_loss: 0.3934 - val_categorical_accuracy: 0.8241\n",
      "Epoch 11/100\n",
      "204/204 [==============================] - 14s 67ms/step - loss: 0.3909 - categorical_accuracy: 0.8259 - val_loss: 0.3896 - val_categorical_accuracy: 0.8256\n",
      "Epoch 12/100\n",
      "204/204 [==============================] - 14s 69ms/step - loss: 0.3897 - categorical_accuracy: 0.8264 - val_loss: 0.3879 - val_categorical_accuracy: 0.8266\n",
      "Epoch 13/100\n",
      "204/204 [==============================] - 14s 70ms/step - loss: 0.3870 - categorical_accuracy: 0.8279 - val_loss: 0.3928 - val_categorical_accuracy: 0.8244\n",
      "Epoch 14/100\n",
      "204/204 [==============================] - 14s 70ms/step - loss: 0.3859 - categorical_accuracy: 0.8285 - val_loss: 0.3883 - val_categorical_accuracy: 0.8264\n",
      "Epoch 15/100\n",
      "204/204 [==============================] - 14s 70ms/step - loss: 0.3833 - categorical_accuracy: 0.8297 - val_loss: 0.3879 - val_categorical_accuracy: 0.8266\n",
      "Epoch 16/100\n",
      "204/204 [==============================] - 14s 69ms/step - loss: 0.3817 - categorical_accuracy: 0.8307 - val_loss: 0.3870 - val_categorical_accuracy: 0.8272\n",
      "Epoch 17/100\n",
      "204/204 [==============================] - 15s 72ms/step - loss: 0.3788 - categorical_accuracy: 0.8323 - val_loss: 0.3899 - val_categorical_accuracy: 0.8255\n",
      "Epoch 18/100\n",
      "204/204 [==============================] - 15s 71ms/step - loss: 0.3786 - categorical_accuracy: 0.8322 - val_loss: 0.4105 - val_categorical_accuracy: 0.8138\n",
      "Epoch 19/100\n",
      "204/204 [==============================] - 14s 70ms/step - loss: 0.3762 - categorical_accuracy: 0.8334 - val_loss: 0.3856 - val_categorical_accuracy: 0.8283\n",
      "Epoch 20/100\n",
      "204/204 [==============================] - 14s 71ms/step - loss: 0.3720 - categorical_accuracy: 0.8357 - val_loss: 0.3874 - val_categorical_accuracy: 0.8273\n",
      "Epoch 21/100\n",
      "204/204 [==============================] - 15s 73ms/step - loss: 0.3720 - categorical_accuracy: 0.8357 - val_loss: 0.3859 - val_categorical_accuracy: 0.8280\n",
      "Epoch 22/100\n",
      "204/204 [==============================] - 15s 74ms/step - loss: 0.3686 - categorical_accuracy: 0.8373 - val_loss: 0.3850 - val_categorical_accuracy: 0.8288\n",
      "Epoch 23/100\n",
      "204/204 [==============================] - 15s 72ms/step - loss: 0.3667 - categorical_accuracy: 0.8384 - val_loss: 0.3917 - val_categorical_accuracy: 0.8258\n",
      "Epoch 24/100\n",
      "204/204 [==============================] - 14s 71ms/step - loss: 0.3638 - categorical_accuracy: 0.8398 - val_loss: 0.3875 - val_categorical_accuracy: 0.8279\n",
      "Epoch 25/100\n",
      "204/204 [==============================] - 14s 71ms/step - loss: 0.3616 - categorical_accuracy: 0.8409 - val_loss: 0.3916 - val_categorical_accuracy: 0.8259\n",
      "Epoch 26/100\n",
      "204/204 [==============================] - 15s 72ms/step - loss: 0.3592 - categorical_accuracy: 0.8421 - val_loss: 0.3892 - val_categorical_accuracy: 0.8268\n",
      "Epoch 27/100\n",
      "204/204 [==============================] - 15s 71ms/step - loss: 0.3565 - categorical_accuracy: 0.8433 - val_loss: 0.3956 - val_categorical_accuracy: 0.8259\n",
      "Epoch 28/100\n",
      "204/204 [==============================] - 15s 71ms/step - loss: 0.3530 - categorical_accuracy: 0.8453 - val_loss: 0.3934 - val_categorical_accuracy: 0.8272\n",
      "Epoch 29/100\n",
      "204/204 [==============================] - 15s 72ms/step - loss: 0.3508 - categorical_accuracy: 0.8462 - val_loss: 0.3949 - val_categorical_accuracy: 0.8248\n",
      "Epoch 30/100\n",
      "204/204 [==============================] - 15s 71ms/step - loss: 0.3478 - categorical_accuracy: 0.8477 - val_loss: 0.4025 - val_categorical_accuracy: 0.8239\n",
      "Epoch 31/100\n",
      "204/204 [==============================] - 14s 70ms/step - loss: 0.3454 - categorical_accuracy: 0.8489 - val_loss: 0.3969 - val_categorical_accuracy: 0.8251\n",
      "Epoch 32/100\n",
      "204/204 [==============================] - 14s 71ms/step - loss: 0.3426 - categorical_accuracy: 0.8503 - val_loss: 0.4035 - val_categorical_accuracy: 0.8238\n",
      "64/64 [==============================] - 3s 40ms/step - loss: 0.3930 - categorical_accuracy: 0.8254\n"
     ]
    }
   ],
   "source": [
    "# 2x LSTM + 2x Dense + protvec embeddings\n",
    "model4 = Sequential()\n",
    "model4.add(Embedding(input_dim = len(seq_index) + 1,\n",
    "                     output_dim = protvec_shape[1],\n",
    "                     weights=[embedding_matrix],\n",
    "                     input_length=maxlen,\n",
    "                     trainable=False))\n",
    "model4.add(LSTM(units=128,\n",
    "                activation='tanh', \n",
    "                recurrent_activation='sigmoid', \n",
    "                return_sequences=True))\n",
    "model4.add(LSTM(units=64,\n",
    "                activation='tanh', \n",
    "                recurrent_activation='sigmoid', \n",
    "                return_sequences=True))\n",
    "model4.add(Dense(64, activation='relu'))\n",
    "model4.add(Dense(32, activation='relu'))\n",
    "model4.add(TimeDistributed(Dense(n_tags, \n",
    "                                 activation=\"softmax\")))\n",
    "model4.summary()\n",
    "model4.compile(loss=\"categorical_crossentropy\",\n",
    "              optimizer=\"adam\",\n",
    "              metrics=[\"categorical_accuracy\"])\n",
    "model4_history = model4.fit(X_train,\n",
    "                            y_train_q3,\n",
    "                            validation_split=0.2,\n",
    "                            callbacks=[early_stopping], \n",
    "                            epochs=100)\n",
    "model4.save('../models/model4_lstm_x2_dense_x2_protvec_embeddings.h5')\n",
    "model4.evaluate(X_test, y_test_q3)\n",
    "model4_hist_df = pd.DataFrame(model4_history.history)\n",
    "with open('../models/model4_lstm_x2_dense_x2_protvec_embeddings_history.csv', 'w') as out:\n",
    "  model4_hist_df.to_csv(out)"
   ]
  },
  {
   "cell_type": "code",
   "execution_count": 53,
   "id": "QFQDCN_3ChG2",
   "metadata": {
    "colab": {
     "base_uri": "https://localhost:8080/"
    },
    "executionInfo": {
     "elapsed": 508242,
     "status": "ok",
     "timestamp": 1628803417179,
     "user": {
      "displayName": "Bartłomiej Surpeta",
      "photoUrl": "https://lh3.googleusercontent.com/a-/AOh14Gims9u11iysaT9tr9s4-NxqqgNXlkXzvsKKeEKGdQ=s64",
      "userId": "08700191692100803480"
     },
     "user_tz": -120
    },
    "id": "QFQDCN_3ChG2",
    "outputId": "3f22ada0-01ef-4b35-da79-37bc828b1a19"
   },
   "outputs": [
    {
     "name": "stdout",
     "output_type": "stream",
     "text": [
      "Model: \"sequential_4\"\n",
      "_________________________________________________________________\n",
      "Layer (type)                 Output Shape              Param #   \n",
      "=================================================================\n",
      "embedding_4 (Embedding)      (None, 500, 1000)         8586000   \n",
      "_________________________________________________________________\n",
      "bidirectional (Bidirectional (None, 500, 256)          1156096   \n",
      "_________________________________________________________________\n",
      "time_distributed_4 (TimeDist (None, 500, 4)            1028      \n",
      "=================================================================\n",
      "Total params: 9,743,124\n",
      "Trainable params: 1,157,124\n",
      "Non-trainable params: 8,586,000\n",
      "_________________________________________________________________\n",
      "Epoch 1/100\n",
      "204/204 [==============================] - 20s 86ms/step - loss: 0.4793 - categorical_accuracy: 0.7956 - val_loss: 0.4028 - val_categorical_accuracy: 0.8200\n",
      "Epoch 2/100\n",
      "204/204 [==============================] - 17s 83ms/step - loss: 0.4008 - categorical_accuracy: 0.8224 - val_loss: 0.3843 - val_categorical_accuracy: 0.8303\n",
      "Epoch 3/100\n",
      "204/204 [==============================] - 17s 82ms/step - loss: 0.3873 - categorical_accuracy: 0.8294 - val_loss: 0.3750 - val_categorical_accuracy: 0.8351\n",
      "Epoch 4/100\n",
      "204/204 [==============================] - 17s 82ms/step - loss: 0.3793 - categorical_accuracy: 0.8334 - val_loss: 0.3725 - val_categorical_accuracy: 0.8363\n",
      "Epoch 5/100\n",
      "204/204 [==============================] - 17s 82ms/step - loss: 0.3739 - categorical_accuracy: 0.8361 - val_loss: 0.3726 - val_categorical_accuracy: 0.8360\n",
      "Epoch 6/100\n",
      "204/204 [==============================] - 17s 82ms/step - loss: 0.3693 - categorical_accuracy: 0.8384 - val_loss: 0.3648 - val_categorical_accuracy: 0.8401\n",
      "Epoch 7/100\n",
      "204/204 [==============================] - 17s 83ms/step - loss: 0.3630 - categorical_accuracy: 0.8416 - val_loss: 0.3619 - val_categorical_accuracy: 0.8414\n",
      "Epoch 8/100\n",
      "204/204 [==============================] - 17s 83ms/step - loss: 0.3609 - categorical_accuracy: 0.8425 - val_loss: 0.3604 - val_categorical_accuracy: 0.8418\n",
      "Epoch 9/100\n",
      "204/204 [==============================] - 17s 83ms/step - loss: 0.3561 - categorical_accuracy: 0.8448 - val_loss: 0.3654 - val_categorical_accuracy: 0.8404\n",
      "Epoch 10/100\n",
      "204/204 [==============================] - 17s 82ms/step - loss: 0.3567 - categorical_accuracy: 0.8451 - val_loss: 0.3576 - val_categorical_accuracy: 0.8434\n",
      "Epoch 11/100\n",
      "204/204 [==============================] - 17s 82ms/step - loss: 0.3501 - categorical_accuracy: 0.8480 - val_loss: 0.3758 - val_categorical_accuracy: 0.8336\n",
      "Epoch 12/100\n",
      "204/204 [==============================] - 17s 82ms/step - loss: 0.3472 - categorical_accuracy: 0.8494 - val_loss: 0.3578 - val_categorical_accuracy: 0.8435\n",
      "Epoch 13/100\n",
      "204/204 [==============================] - 17s 83ms/step - loss: 0.3440 - categorical_accuracy: 0.8509 - val_loss: 0.3546 - val_categorical_accuracy: 0.8450\n",
      "Epoch 14/100\n",
      "204/204 [==============================] - 17s 83ms/step - loss: 0.3410 - categorical_accuracy: 0.8524 - val_loss: 0.3545 - val_categorical_accuracy: 0.8450\n",
      "Epoch 15/100\n",
      "204/204 [==============================] - 17s 82ms/step - loss: 0.3389 - categorical_accuracy: 0.8536 - val_loss: 0.3576 - val_categorical_accuracy: 0.8447\n",
      "Epoch 16/100\n",
      "204/204 [==============================] - 17s 82ms/step - loss: 0.3340 - categorical_accuracy: 0.8559 - val_loss: 0.3544 - val_categorical_accuracy: 0.8452\n",
      "Epoch 17/100\n",
      "204/204 [==============================] - 17s 82ms/step - loss: 0.3318 - categorical_accuracy: 0.8570 - val_loss: 0.3536 - val_categorical_accuracy: 0.8459\n",
      "Epoch 18/100\n",
      "204/204 [==============================] - 17s 82ms/step - loss: 0.3279 - categorical_accuracy: 0.8589 - val_loss: 0.3548 - val_categorical_accuracy: 0.8457\n",
      "Epoch 19/100\n",
      "204/204 [==============================] - 17s 82ms/step - loss: 0.3252 - categorical_accuracy: 0.8602 - val_loss: 0.3537 - val_categorical_accuracy: 0.8463\n",
      "Epoch 20/100\n",
      "204/204 [==============================] - 17s 82ms/step - loss: 0.3211 - categorical_accuracy: 0.8621 - val_loss: 0.3557 - val_categorical_accuracy: 0.8460\n",
      "Epoch 21/100\n",
      "204/204 [==============================] - 17s 83ms/step - loss: 0.3177 - categorical_accuracy: 0.8635 - val_loss: 0.3584 - val_categorical_accuracy: 0.8458\n",
      "Epoch 22/100\n",
      "204/204 [==============================] - 17s 82ms/step - loss: 0.3150 - categorical_accuracy: 0.8650 - val_loss: 0.3627 - val_categorical_accuracy: 0.8434\n",
      "Epoch 23/100\n",
      "204/204 [==============================] - 17s 82ms/step - loss: 0.3108 - categorical_accuracy: 0.8669 - val_loss: 0.3586 - val_categorical_accuracy: 0.8456\n",
      "Epoch 24/100\n",
      "204/204 [==============================] - 17s 83ms/step - loss: 0.3068 - categorical_accuracy: 0.8688 - val_loss: 0.3794 - val_categorical_accuracy: 0.8397\n",
      "Epoch 25/100\n",
      "204/204 [==============================] - 17s 83ms/step - loss: 0.3040 - categorical_accuracy: 0.8702 - val_loss: 0.3637 - val_categorical_accuracy: 0.8447\n",
      "Epoch 26/100\n",
      "204/204 [==============================] - 17s 82ms/step - loss: 0.2994 - categorical_accuracy: 0.8722 - val_loss: 0.3638 - val_categorical_accuracy: 0.8444\n",
      "Epoch 27/100\n",
      "204/204 [==============================] - 17s 82ms/step - loss: 0.2963 - categorical_accuracy: 0.8735 - val_loss: 0.3709 - val_categorical_accuracy: 0.8431\n",
      "Epoch 28/100\n",
      "204/204 [==============================] - 17s 83ms/step - loss: 0.2919 - categorical_accuracy: 0.8757 - val_loss: 0.3751 - val_categorical_accuracy: 0.8422\n",
      "Epoch 29/100\n",
      "204/204 [==============================] - 17s 82ms/step - loss: 0.2888 - categorical_accuracy: 0.8770 - val_loss: 0.3763 - val_categorical_accuracy: 0.8415\n",
      "64/64 [==============================] - 3s 41ms/step - loss: 0.3592 - categorical_accuracy: 0.8442\n"
     ]
    }
   ],
   "source": [
    "# BiLSTM + protvec embeddings\n",
    "model5 = Sequential()\n",
    "model5.add(Embedding(input_dim = len(seq_index) + 1,\n",
    "                     output_dim = protvec_shape[1],\n",
    "                     weights=[embedding_matrix],\n",
    "                     input_length=maxlen,\n",
    "                     trainable=False))\n",
    "model5.add(Bidirectional(LSTM(units=128,\n",
    "                activation='tanh', \n",
    "                recurrent_activation='sigmoid', \n",
    "                return_sequences=True)))\n",
    "model5.add(TimeDistributed(Dense(n_tags, \n",
    "                                 activation=\"softmax\")))\n",
    "model5.summary()\n",
    "model5.compile(loss=\"categorical_crossentropy\",\n",
    "              optimizer=\"adam\",\n",
    "              metrics=[\"categorical_accuracy\"])\n",
    "model5_history = model5.fit(X_train,\n",
    "                            y_train_q3,\n",
    "                            validation_split=0.2,\n",
    "                            callbacks=[early_stopping], \n",
    "                            epochs=100)\n",
    "model5.save('../models/model5_bilstm_protvec_embeddings.h5')\n",
    "model5.evaluate(X_test, y_test_q3)\n",
    "model5_hist_df = pd.DataFrame(model5_history.history)\n",
    "with open('../models/model5_bilstm_protvec_embeddings_history.csv', 'w') as out:\n",
    "  model5_hist_df.to_csv(out)"
   ]
  },
  {
   "cell_type": "code",
   "execution_count": 54,
   "id": "ysnYVQQiJJwE",
   "metadata": {
    "colab": {
     "base_uri": "https://localhost:8080/"
    },
    "executionInfo": {
     "elapsed": 669322,
     "status": "ok",
     "timestamp": 1628804106326,
     "user": {
      "displayName": "Bartłomiej Surpeta",
      "photoUrl": "https://lh3.googleusercontent.com/a-/AOh14Gims9u11iysaT9tr9s4-NxqqgNXlkXzvsKKeEKGdQ=s64",
      "userId": "08700191692100803480"
     },
     "user_tz": -120
    },
    "id": "ysnYVQQiJJwE",
    "outputId": "9db3ca42-de49-4674-ab6e-dd860e4a5d1f"
   },
   "outputs": [
    {
     "name": "stdout",
     "output_type": "stream",
     "text": [
      "Model: \"sequential_5\"\n",
      "_________________________________________________________________\n",
      "Layer (type)                 Output Shape              Param #   \n",
      "=================================================================\n",
      "embedding_5 (Embedding)      (None, 500, 1000)         8586000   \n",
      "_________________________________________________________________\n",
      "bidirectional_1 (Bidirection (None, 500, 256)          1156096   \n",
      "_________________________________________________________________\n",
      "bidirectional_2 (Bidirection (None, 500, 128)          164352    \n",
      "_________________________________________________________________\n",
      "time_distributed_5 (TimeDist (None, 500, 4)            516       \n",
      "=================================================================\n",
      "Total params: 9,906,964\n",
      "Trainable params: 1,320,964\n",
      "Non-trainable params: 8,586,000\n",
      "_________________________________________________________________\n",
      "Epoch 1/100\n",
      "204/204 [==============================] - 30s 121ms/step - loss: 0.4791 - categorical_accuracy: 0.7874 - val_loss: 0.4096 - val_categorical_accuracy: 0.8162\n",
      "Epoch 2/100\n",
      "204/204 [==============================] - 23s 115ms/step - loss: 0.3976 - categorical_accuracy: 0.8235 - val_loss: 0.3788 - val_categorical_accuracy: 0.8332\n",
      "Epoch 3/100\n",
      "204/204 [==============================] - 23s 114ms/step - loss: 0.3803 - categorical_accuracy: 0.8331 - val_loss: 0.3720 - val_categorical_accuracy: 0.8362\n",
      "Epoch 4/100\n",
      "204/204 [==============================] - 23s 114ms/step - loss: 0.3725 - categorical_accuracy: 0.8370 - val_loss: 0.3683 - val_categorical_accuracy: 0.8380\n",
      "Epoch 5/100\n",
      "204/204 [==============================] - 23s 115ms/step - loss: 0.3639 - categorical_accuracy: 0.8411 - val_loss: 0.3588 - val_categorical_accuracy: 0.8426\n",
      "Epoch 6/100\n",
      "204/204 [==============================] - 23s 115ms/step - loss: 0.3579 - categorical_accuracy: 0.8440 - val_loss: 0.3568 - val_categorical_accuracy: 0.8431\n",
      "Epoch 7/100\n",
      "204/204 [==============================] - 23s 115ms/step - loss: 0.3516 - categorical_accuracy: 0.8471 - val_loss: 0.3577 - val_categorical_accuracy: 0.8437\n",
      "Epoch 8/100\n",
      "204/204 [==============================] - 23s 115ms/step - loss: 0.3469 - categorical_accuracy: 0.8494 - val_loss: 0.3502 - val_categorical_accuracy: 0.8469\n",
      "Epoch 9/100\n",
      "204/204 [==============================] - 23s 115ms/step - loss: 0.3409 - categorical_accuracy: 0.8523 - val_loss: 0.3516 - val_categorical_accuracy: 0.8468\n",
      "Epoch 10/100\n",
      "204/204 [==============================] - 23s 115ms/step - loss: 0.3371 - categorical_accuracy: 0.8543 - val_loss: 0.3536 - val_categorical_accuracy: 0.8468\n",
      "Epoch 11/100\n",
      "204/204 [==============================] - 23s 115ms/step - loss: 0.3341 - categorical_accuracy: 0.8558 - val_loss: 0.3501 - val_categorical_accuracy: 0.8479\n",
      "Epoch 12/100\n",
      "204/204 [==============================] - 23s 115ms/step - loss: 0.3290 - categorical_accuracy: 0.8582 - val_loss: 0.3478 - val_categorical_accuracy: 0.8486\n",
      "Epoch 13/100\n",
      "204/204 [==============================] - 23s 114ms/step - loss: 0.3236 - categorical_accuracy: 0.8606 - val_loss: 0.3500 - val_categorical_accuracy: 0.8481\n",
      "Epoch 14/100\n",
      "204/204 [==============================] - 23s 115ms/step - loss: 0.3192 - categorical_accuracy: 0.8628 - val_loss: 0.3504 - val_categorical_accuracy: 0.8476\n",
      "Epoch 15/100\n",
      "204/204 [==============================] - 23s 115ms/step - loss: 0.3139 - categorical_accuracy: 0.8652 - val_loss: 0.3501 - val_categorical_accuracy: 0.8492\n",
      "Epoch 16/100\n",
      "204/204 [==============================] - 23s 114ms/step - loss: 0.3097 - categorical_accuracy: 0.8673 - val_loss: 0.3477 - val_categorical_accuracy: 0.8499\n",
      "Epoch 17/100\n",
      "204/204 [==============================] - 23s 115ms/step - loss: 0.3051 - categorical_accuracy: 0.8695 - val_loss: 0.3524 - val_categorical_accuracy: 0.8495\n",
      "Epoch 18/100\n",
      "204/204 [==============================] - 23s 115ms/step - loss: 0.3016 - categorical_accuracy: 0.8710 - val_loss: 0.3538 - val_categorical_accuracy: 0.8500\n",
      "Epoch 19/100\n",
      "204/204 [==============================] - 23s 115ms/step - loss: 0.2960 - categorical_accuracy: 0.8736 - val_loss: 0.3589 - val_categorical_accuracy: 0.8494\n",
      "Epoch 20/100\n",
      "204/204 [==============================] - 23s 115ms/step - loss: 0.2945 - categorical_accuracy: 0.8741 - val_loss: 0.3616 - val_categorical_accuracy: 0.8471\n",
      "Epoch 21/100\n",
      "204/204 [==============================] - 23s 115ms/step - loss: 0.2872 - categorical_accuracy: 0.8774 - val_loss: 0.3627 - val_categorical_accuracy: 0.8492\n",
      "Epoch 22/100\n",
      "204/204 [==============================] - 23s 115ms/step - loss: 0.2833 - categorical_accuracy: 0.8791 - val_loss: 0.3659 - val_categorical_accuracy: 0.8479\n",
      "Epoch 23/100\n",
      "204/204 [==============================] - 23s 115ms/step - loss: 0.2782 - categorical_accuracy: 0.8813 - val_loss: 0.3624 - val_categorical_accuracy: 0.8487\n",
      "Epoch 24/100\n",
      "204/204 [==============================] - 23s 114ms/step - loss: 0.2754 - categorical_accuracy: 0.8827 - val_loss: 0.3735 - val_categorical_accuracy: 0.8482\n",
      "Epoch 25/100\n",
      "204/204 [==============================] - 23s 115ms/step - loss: 0.2691 - categorical_accuracy: 0.8855 - val_loss: 0.3725 - val_categorical_accuracy: 0.8482\n",
      "Epoch 26/100\n",
      "204/204 [==============================] - 23s 114ms/step - loss: 0.2653 - categorical_accuracy: 0.8874 - val_loss: 0.3780 - val_categorical_accuracy: 0.8468\n",
      "Epoch 27/100\n",
      "204/204 [==============================] - 23s 115ms/step - loss: 0.2613 - categorical_accuracy: 0.8892 - val_loss: 0.3851 - val_categorical_accuracy: 0.8454\n",
      "Epoch 28/100\n",
      "204/204 [==============================] - 23s 115ms/step - loss: 0.2569 - categorical_accuracy: 0.8911 - val_loss: 0.3866 - val_categorical_accuracy: 0.8462\n",
      "64/64 [==============================] - 4s 56ms/step - loss: 0.3580 - categorical_accuracy: 0.8485\n"
     ]
    }
   ],
   "source": [
    "# 2x BiLSTM + protvec embeddings\n",
    "model6 = Sequential()\n",
    "model6.add(Embedding(input_dim = len(seq_index) + 1,\n",
    "                     output_dim = protvec_shape[1],\n",
    "                     weights=[embedding_matrix],\n",
    "                     input_length=maxlen,\n",
    "                     trainable=False))\n",
    "model6.add(Bidirectional(LSTM(units=128,\n",
    "                activation='tanh', \n",
    "                recurrent_activation='sigmoid', \n",
    "                return_sequences=True)))\n",
    "model6.add(Bidirectional(LSTM(units=64,\n",
    "                activation='tanh', \n",
    "                recurrent_activation='sigmoid', \n",
    "                return_sequences=True)))\n",
    "model6.add(TimeDistributed(Dense(n_tags, \n",
    "                                 activation=\"softmax\")))\n",
    "model6.summary()\n",
    "model6.compile(loss=\"categorical_crossentropy\",\n",
    "              optimizer=\"adam\",\n",
    "              metrics=[\"categorical_accuracy\"])\n",
    "model6_history = model6.fit(X_train,\n",
    "                            y_train_q3,\n",
    "                            validation_split=0.2,\n",
    "                            callbacks=[early_stopping], \n",
    "                            epochs=100)\n",
    "model6.save('../models/model6_bilstm_x2_protvec_embeddings.h5')\n",
    "model6.evaluate(X_test, y_test_q3)\n",
    "model6_hist_df = pd.DataFrame(model6_history.history)\n",
    "with open('../models/model6_bilstm_x2_protvec_embeddings_history.csv', 'w') as out:\n",
    "  model6_hist_df.to_csv(out)"
   ]
  },
  {
   "cell_type": "code",
   "execution_count": 112,
   "id": "-6-5nb1ESFrw",
   "metadata": {
    "colab": {
     "base_uri": "https://localhost:8080/"
    },
    "executionInfo": {
     "elapsed": 692249,
     "status": "ok",
     "timestamp": 1628805060684,
     "user": {
      "displayName": "Bartłomiej Surpeta",
      "photoUrl": "https://lh3.googleusercontent.com/a-/AOh14Gims9u11iysaT9tr9s4-NxqqgNXlkXzvsKKeEKGdQ=s64",
      "userId": "08700191692100803480"
     },
     "user_tz": -120
    },
    "id": "-6-5nb1ESFrw",
    "outputId": "bc6c760c-7e83-4883-ced4-237486d8464a"
   },
   "outputs": [
    {
     "name": "stdout",
     "output_type": "stream",
     "text": [
      "Model: \"sequential_6\"\n",
      "_________________________________________________________________\n",
      "Layer (type)                 Output Shape              Param #   \n",
      "=================================================================\n",
      "embedding_6 (Embedding)      (None, 500, 1000)         8586000   \n",
      "_________________________________________________________________\n",
      "bidirectional_3 (Bidirection (None, 500, 256)          1156096   \n",
      "_________________________________________________________________\n",
      "bidirectional_4 (Bidirection (None, 500, 128)          164352    \n",
      "_________________________________________________________________\n",
      "dense_8 (Dense)              (None, 500, 64)           8256      \n",
      "_________________________________________________________________\n",
      "dense_9 (Dense)              (None, 500, 32)           2080      \n",
      "_________________________________________________________________\n",
      "time_distributed_6 (TimeDist (None, 500, 4)            132       \n",
      "=================================================================\n",
      "Total params: 9,916,916\n",
      "Trainable params: 1,330,916\n",
      "Non-trainable params: 8,586,000\n",
      "_________________________________________________________________\n",
      "Epoch 1/100\n",
      "204/204 [==============================] - 31s 126ms/step - loss: 0.4972 - categorical_accuracy: 0.7785 - val_loss: 0.4084 - val_categorical_accuracy: 0.8158\n",
      "Epoch 2/100\n",
      "204/204 [==============================] - 24s 117ms/step - loss: 0.3993 - categorical_accuracy: 0.8222 - val_loss: 0.3854 - val_categorical_accuracy: 0.8296\n",
      "Epoch 3/100\n",
      "204/204 [==============================] - 24s 116ms/step - loss: 0.3829 - categorical_accuracy: 0.8311 - val_loss: 0.3855 - val_categorical_accuracy: 0.8285\n",
      "Epoch 4/100\n",
      "204/204 [==============================] - 24s 116ms/step - loss: 0.3737 - categorical_accuracy: 0.8359 - val_loss: 0.3668 - val_categorical_accuracy: 0.8394\n",
      "Epoch 5/100\n",
      "204/204 [==============================] - 24s 116ms/step - loss: 0.3643 - categorical_accuracy: 0.8406 - val_loss: 0.3580 - val_categorical_accuracy: 0.8433\n",
      "Epoch 6/100\n",
      "204/204 [==============================] - 24s 117ms/step - loss: 0.3600 - categorical_accuracy: 0.8430 - val_loss: 0.3589 - val_categorical_accuracy: 0.8418\n",
      "Epoch 7/100\n",
      "204/204 [==============================] - 24s 116ms/step - loss: 0.3540 - categorical_accuracy: 0.8459 - val_loss: 0.3525 - val_categorical_accuracy: 0.8458\n",
      "Epoch 8/100\n",
      "204/204 [==============================] - 24s 116ms/step - loss: 0.3498 - categorical_accuracy: 0.8480 - val_loss: 0.3515 - val_categorical_accuracy: 0.8463\n",
      "Epoch 9/100\n",
      "204/204 [==============================] - 24s 117ms/step - loss: 0.3441 - categorical_accuracy: 0.8506 - val_loss: 0.3655 - val_categorical_accuracy: 0.8426\n",
      "Epoch 10/100\n",
      "204/204 [==============================] - 24s 116ms/step - loss: 0.3430 - categorical_accuracy: 0.8512 - val_loss: 0.3489 - val_categorical_accuracy: 0.8476\n",
      "Epoch 11/100\n",
      "204/204 [==============================] - 24s 117ms/step - loss: 0.3358 - categorical_accuracy: 0.8548 - val_loss: 0.3468 - val_categorical_accuracy: 0.8487\n",
      "Epoch 12/100\n",
      "204/204 [==============================] - 24s 117ms/step - loss: 0.3334 - categorical_accuracy: 0.8559 - val_loss: 0.3469 - val_categorical_accuracy: 0.8496\n",
      "Epoch 13/100\n",
      "204/204 [==============================] - 24s 116ms/step - loss: 0.3281 - categorical_accuracy: 0.8582 - val_loss: 0.3496 - val_categorical_accuracy: 0.8485\n",
      "Epoch 14/100\n",
      "204/204 [==============================] - 24s 117ms/step - loss: 0.3245 - categorical_accuracy: 0.8601 - val_loss: 0.3454 - val_categorical_accuracy: 0.8504\n",
      "Epoch 15/100\n",
      "204/204 [==============================] - 24s 116ms/step - loss: 0.3188 - categorical_accuracy: 0.8627 - val_loss: 0.3460 - val_categorical_accuracy: 0.8491\n",
      "Epoch 16/100\n",
      "204/204 [==============================] - 24s 117ms/step - loss: 0.3157 - categorical_accuracy: 0.8641 - val_loss: 0.3531 - val_categorical_accuracy: 0.8491\n",
      "Epoch 17/100\n",
      "204/204 [==============================] - 24s 117ms/step - loss: 0.3097 - categorical_accuracy: 0.8669 - val_loss: 0.3464 - val_categorical_accuracy: 0.8511\n",
      "Epoch 18/100\n",
      "204/204 [==============================] - 24s 116ms/step - loss: 0.3055 - categorical_accuracy: 0.8690 - val_loss: 0.3511 - val_categorical_accuracy: 0.8490\n",
      "Epoch 19/100\n",
      "204/204 [==============================] - 24s 117ms/step - loss: 0.3019 - categorical_accuracy: 0.8705 - val_loss: 0.3511 - val_categorical_accuracy: 0.8505\n",
      "Epoch 20/100\n",
      "204/204 [==============================] - 24s 116ms/step - loss: 0.2959 - categorical_accuracy: 0.8733 - val_loss: 0.3544 - val_categorical_accuracy: 0.8495\n",
      "Epoch 21/100\n",
      "204/204 [==============================] - 24s 117ms/step - loss: 0.2935 - categorical_accuracy: 0.8743 - val_loss: 0.3601 - val_categorical_accuracy: 0.8487\n",
      "Epoch 22/100\n",
      "204/204 [==============================] - 24s 116ms/step - loss: 0.2889 - categorical_accuracy: 0.8764 - val_loss: 0.3569 - val_categorical_accuracy: 0.8496\n",
      "Epoch 23/100\n",
      "204/204 [==============================] - 24s 116ms/step - loss: 0.2834 - categorical_accuracy: 0.8789 - val_loss: 0.3625 - val_categorical_accuracy: 0.8488\n",
      "Epoch 24/100\n",
      "204/204 [==============================] - 24s 117ms/step - loss: 0.2793 - categorical_accuracy: 0.8806 - val_loss: 0.3688 - val_categorical_accuracy: 0.8481\n",
      "Epoch 25/100\n",
      "204/204 [==============================] - 24s 116ms/step - loss: 0.2753 - categorical_accuracy: 0.8824 - val_loss: 0.3772 - val_categorical_accuracy: 0.8475\n",
      "Epoch 26/100\n",
      "204/204 [==============================] - 24s 116ms/step - loss: 0.2685 - categorical_accuracy: 0.8856 - val_loss: 0.3727 - val_categorical_accuracy: 0.8477\n",
      "Epoch 27/100\n",
      "204/204 [==============================] - 24s 116ms/step - loss: 0.2667 - categorical_accuracy: 0.8865 - val_loss: 0.3741 - val_categorical_accuracy: 0.8473\n",
      "64/64 [==============================] - 4s 59ms/step - loss: 0.3519 - categorical_accuracy: 0.8492\n"
     ]
    }
   ],
   "source": [
    "# 2x BiLSTM + 2x Dense + protvec embeddings\n",
    "model7 = Sequential()\n",
    "model7.add(Embedding(input_dim = len(seq_index) + 1,\n",
    "                     output_dim = protvec_shape[1],\n",
    "                     weights=[embedding_matrix],\n",
    "                     input_length=maxlen,\n",
    "                     trainable=False))\n",
    "model7.add(Bidirectional(LSTM(units=128,\n",
    "                activation='tanh', \n",
    "                recurrent_activation='sigmoid', \n",
    "                return_sequences=True)))\n",
    "model7.add(Bidirectional(LSTM(units=64,\n",
    "                activation='tanh', \n",
    "                recurrent_activation='sigmoid', \n",
    "                return_sequences=True)))\n",
    "model7.add(Dense(64, activation='relu'))\n",
    "model7.add(Dense(32, activation='relu'))\n",
    "model7.add(TimeDistributed(Dense(n_tags, \n",
    "                                 activation=\"softmax\")))\n",
    "model7.summary()\n",
    "model7.compile(loss=\"categorical_crossentropy\",\n",
    "              optimizer=\"adam\",\n",
    "              metrics=[\"categorical_accuracy\"])\n",
    "model7_history = model7.fit(X_train,\n",
    "                            y_train_q3,\n",
    "                            validation_split=0.2,\n",
    "                            callbacks=[early_stopping], \n",
    "                            epochs=100)\n",
    "model7.save('../models/model7_bilstm_x2_dense_x2_protvec_embeddings.h5')\n",
    "model7.evaluate(X_test, y_test_q3)\n",
    "model7_hist_df = pd.DataFrame(model7_history.history)\n",
    "with open('../models/model7_bilstm_x2_dense_x2_protvec_embeddings_history.csv', 'w') as out:\n",
    "  model7_hist_df.to_csv(out)"
   ]
  },
  {
   "cell_type": "code",
   "execution_count": 113,
   "id": "Qt-3qsF3gmFa",
   "metadata": {
    "colab": {
     "base_uri": "https://localhost:8080/"
    },
    "executionInfo": {
     "elapsed": 631864,
     "status": "ok",
     "timestamp": 1628805717091,
     "user": {
      "displayName": "Bartłomiej Surpeta",
      "photoUrl": "https://lh3.googleusercontent.com/a-/AOh14Gims9u11iysaT9tr9s4-NxqqgNXlkXzvsKKeEKGdQ=s64",
      "userId": "08700191692100803480"
     },
     "user_tz": -120
    },
    "id": "Qt-3qsF3gmFa",
    "outputId": "ae7614e0-845d-49c7-8101-36cb898893ea"
   },
   "outputs": [
    {
     "name": "stdout",
     "output_type": "stream",
     "text": [
      "Model: \"sequential_7\"\n",
      "_________________________________________________________________\n",
      "Layer (type)                 Output Shape              Param #   \n",
      "=================================================================\n",
      "embedding_7 (Embedding)      (None, 500, 1000)         8586000   \n",
      "_________________________________________________________________\n",
      "conv1d (Conv1D)              (None, 500, 256)          768256    \n",
      "_________________________________________________________________\n",
      "bidirectional_5 (Bidirection (None, 500, 256)          394240    \n",
      "_________________________________________________________________\n",
      "bidirectional_6 (Bidirection (None, 500, 128)          164352    \n",
      "_________________________________________________________________\n",
      "dense_11 (Dense)             (None, 500, 64)           8256      \n",
      "_________________________________________________________________\n",
      "dense_12 (Dense)             (None, 500, 32)           2080      \n",
      "_________________________________________________________________\n",
      "time_distributed_7 (TimeDist (None, 500, 4)            132       \n",
      "=================================================================\n",
      "Total params: 9,923,316\n",
      "Trainable params: 1,337,316\n",
      "Non-trainable params: 8,586,000\n",
      "_________________________________________________________________\n",
      "Epoch 1/100\n",
      "204/204 [==============================] - 33s 127ms/step - loss: 0.5008 - categorical_accuracy: 0.7763 - val_loss: 0.4039 - val_categorical_accuracy: 0.8200\n",
      "Epoch 2/100\n",
      "204/204 [==============================] - 24s 116ms/step - loss: 0.4006 - categorical_accuracy: 0.8218 - val_loss: 0.3874 - val_categorical_accuracy: 0.8285\n",
      "Epoch 3/100\n",
      "204/204 [==============================] - 24s 117ms/step - loss: 0.3830 - categorical_accuracy: 0.8313 - val_loss: 0.3762 - val_categorical_accuracy: 0.8333\n",
      "Epoch 4/100\n",
      "204/204 [==============================] - 24s 116ms/step - loss: 0.3715 - categorical_accuracy: 0.8373 - val_loss: 0.3612 - val_categorical_accuracy: 0.8417\n",
      "Epoch 5/100\n",
      "204/204 [==============================] - 23s 115ms/step - loss: 0.3644 - categorical_accuracy: 0.8407 - val_loss: 0.3631 - val_categorical_accuracy: 0.8403\n",
      "Epoch 6/100\n",
      "204/204 [==============================] - 24s 117ms/step - loss: 0.3574 - categorical_accuracy: 0.8440 - val_loss: 0.3520 - val_categorical_accuracy: 0.8458\n",
      "Epoch 7/100\n",
      "204/204 [==============================] - 24s 116ms/step - loss: 0.3522 - categorical_accuracy: 0.8469 - val_loss: 0.3512 - val_categorical_accuracy: 0.8467\n",
      "Epoch 8/100\n",
      "204/204 [==============================] - 24s 115ms/step - loss: 0.3470 - categorical_accuracy: 0.8491 - val_loss: 0.3478 - val_categorical_accuracy: 0.8477\n",
      "Epoch 9/100\n",
      "204/204 [==============================] - 24s 118ms/step - loss: 0.3412 - categorical_accuracy: 0.8520 - val_loss: 0.3527 - val_categorical_accuracy: 0.8449\n",
      "Epoch 10/100\n",
      "204/204 [==============================] - 24s 115ms/step - loss: 0.3384 - categorical_accuracy: 0.8533 - val_loss: 0.3501 - val_categorical_accuracy: 0.8467\n",
      "Epoch 11/100\n",
      "204/204 [==============================] - 24s 116ms/step - loss: 0.3310 - categorical_accuracy: 0.8570 - val_loss: 0.3440 - val_categorical_accuracy: 0.8513\n",
      "Epoch 12/100\n",
      "204/204 [==============================] - 24s 117ms/step - loss: 0.3257 - categorical_accuracy: 0.8595 - val_loss: 0.3474 - val_categorical_accuracy: 0.8500\n",
      "Epoch 13/100\n",
      "204/204 [==============================] - 24s 117ms/step - loss: 0.3231 - categorical_accuracy: 0.8607 - val_loss: 0.3531 - val_categorical_accuracy: 0.8467\n",
      "Epoch 14/100\n",
      "204/204 [==============================] - 24s 116ms/step - loss: 0.3234 - categorical_accuracy: 0.8604 - val_loss: 0.3462 - val_categorical_accuracy: 0.8492\n",
      "Epoch 15/100\n",
      "204/204 [==============================] - 24s 115ms/step - loss: 0.3135 - categorical_accuracy: 0.8650 - val_loss: 0.3420 - val_categorical_accuracy: 0.8531\n",
      "Epoch 16/100\n",
      "204/204 [==============================] - 24s 118ms/step - loss: 0.3079 - categorical_accuracy: 0.8677 - val_loss: 0.3442 - val_categorical_accuracy: 0.8518\n",
      "Epoch 17/100\n",
      "204/204 [==============================] - 24s 116ms/step - loss: 0.3085 - categorical_accuracy: 0.8674 - val_loss: 0.3508 - val_categorical_accuracy: 0.8514\n",
      "Epoch 18/100\n",
      "204/204 [==============================] - 24s 119ms/step - loss: 0.3003 - categorical_accuracy: 0.8712 - val_loss: 0.3495 - val_categorical_accuracy: 0.8512\n",
      "Epoch 19/100\n",
      "204/204 [==============================] - 25s 122ms/step - loss: 0.2968 - categorical_accuracy: 0.8728 - val_loss: 0.3516 - val_categorical_accuracy: 0.8518\n",
      "Epoch 20/100\n",
      "204/204 [==============================] - 24s 117ms/step - loss: 0.2907 - categorical_accuracy: 0.8757 - val_loss: 0.3496 - val_categorical_accuracy: 0.8498\n",
      "Epoch 21/100\n",
      "204/204 [==============================] - 24s 117ms/step - loss: 0.2866 - categorical_accuracy: 0.8775 - val_loss: 0.3533 - val_categorical_accuracy: 0.8514\n",
      "Epoch 22/100\n",
      "204/204 [==============================] - 24s 117ms/step - loss: 0.2817 - categorical_accuracy: 0.8797 - val_loss: 0.3598 - val_categorical_accuracy: 0.8499\n",
      "Epoch 23/100\n",
      "204/204 [==============================] - 24s 116ms/step - loss: 0.2778 - categorical_accuracy: 0.8812 - val_loss: 0.3566 - val_categorical_accuracy: 0.8511\n",
      "Epoch 24/100\n",
      "204/204 [==============================] - 24s 119ms/step - loss: 0.2737 - categorical_accuracy: 0.8832 - val_loss: 0.3720 - val_categorical_accuracy: 0.8491\n",
      "Epoch 25/100\n",
      "204/204 [==============================] - 24s 119ms/step - loss: 0.2687 - categorical_accuracy: 0.8855 - val_loss: 0.3618 - val_categorical_accuracy: 0.8498\n",
      "64/64 [==============================] - 4s 58ms/step - loss: 0.3476 - categorical_accuracy: 0.8509\n"
     ]
    }
   ],
   "source": [
    "# Conv1d + 2x BiLSTM + 2x Dense + protvec embeddings\n",
    "model8 = Sequential()\n",
    "model8.add(Embedding(input_dim = len(seq_index) + 1,\n",
    "                     output_dim = protvec_shape[1],\n",
    "                     weights=[embedding_matrix],\n",
    "                     input_length=maxlen,\n",
    "                     trainable=False))\n",
    "model8.add(Conv1D(256, 3, activation='relu', \n",
    "                  padding='same',\n",
    "                  input_shape=(len(seq_index) + 1,protvec_shape[1])))\n",
    "model8.add(Bidirectional(LSTM(units=128,\n",
    "                activation='tanh', \n",
    "                recurrent_activation='sigmoid', \n",
    "                return_sequences=True)))\n",
    "model8.add(Bidirectional(LSTM(units=64,\n",
    "                activation='tanh', \n",
    "                recurrent_activation='sigmoid', \n",
    "                return_sequences=True)))\n",
    "model8.add(Dense(64, activation='relu'))\n",
    "model8.add(Dense(32, activation='relu'))\n",
    "model8.add(TimeDistributed(Dense(n_tags, \n",
    "                                 activation=\"softmax\")))\n",
    "model8.summary()\n",
    "model8.compile(loss=\"categorical_crossentropy\",\n",
    "              optimizer=\"adam\",\n",
    "              metrics=[\"categorical_accuracy\"])\n",
    "model8_history = model8.fit(X_train,\n",
    "                            y_train_q3,\n",
    "                            validation_split=0.2,\n",
    "                            callbacks=[early_stopping], \n",
    "                            epochs=100)\n",
    "model8.save('../models/model8_conv1d_bilstm_x2_dense_x2_protvec_embeddings.h5')\n",
    "model8.evaluate(X_test, y_test_q3)\n",
    "model8_hist_df = pd.DataFrame(model8_history.history)\n",
    "with open('../models/model8_conv1d_bilstm_x2_dense_x2_protvec_embeddings_history.csv', 'w') as out:\n",
    "  model8_hist_df.to_csv(out)"
   ]
  },
  {
   "cell_type": "markdown",
   "id": "_gpjk5Qaz49h",
   "metadata": {
    "id": "_gpjk5Qaz49h"
   },
   "source": [
    "#### Using the best settings obtained so far (model8), another model was trained towards more difficult task which is the Q8 secondary structure predition. For this purpose train and test sets with Q8 target were prepared:"
   ]
  },
  {
   "cell_type": "code",
   "execution_count": 44,
   "id": "6ggyW7IBy4Oa",
   "metadata": {
    "colab": {
     "base_uri": "https://localhost:8080/"
    },
    "executionInfo": {
     "elapsed": 337,
     "status": "ok",
     "timestamp": 1628805933137,
     "user": {
      "displayName": "Bartłomiej Surpeta",
      "photoUrl": "https://lh3.googleusercontent.com/a-/AOh14Gims9u11iysaT9tr9s4-NxqqgNXlkXzvsKKeEKGdQ=s64",
      "userId": "08700191692100803480"
     },
     "user_tz": -120
    },
    "id": "6ggyW7IBy4Oa",
    "outputId": "61a74562-d14f-4189-c6d3-7e2b3f66c849"
   },
   "outputs": [
    {
     "data": {
      "text/plain": [
       "((8147, 500), (2037, 500), (8147, 500, 9), (2037, 500, 9))"
      ]
     },
     "execution_count": 44,
     "metadata": {},
     "output_type": "execute_result"
    }
   ],
   "source": [
    "X_train, X_test, y_train_q8, y_test_q8 = train_test_split(X_seq, y_sst8, test_size=0.2, random_state=42)\n",
    "X_train.shape, X_test.shape, y_train_q8.shape, y_test_q8.shape"
   ]
  },
  {
   "cell_type": "code",
   "execution_count": 45,
   "id": "Afb_4N0i0T5Q",
   "metadata": {
    "colab": {
     "base_uri": "https://localhost:8080/"
    },
    "executionInfo": {
     "elapsed": 323,
     "status": "ok",
     "timestamp": 1628805935270,
     "user": {
      "displayName": "Bartłomiej Surpeta",
      "photoUrl": "https://lh3.googleusercontent.com/a-/AOh14Gims9u11iysaT9tr9s4-NxqqgNXlkXzvsKKeEKGdQ=s64",
      "userId": "08700191692100803480"
     },
     "user_tz": -120
    },
    "id": "Afb_4N0i0T5Q",
    "outputId": "5ace0700-7300-4652-c2eb-ad706cbc6b23"
   },
   "outputs": [
    {
     "name": "stdout",
     "output_type": "stream",
     "text": [
      "8586 9\n"
     ]
    }
   ],
   "source": [
    "n_words = len(seq_index) + 1  # including the padding\n",
    "n_tags = len(sst8_index) + 1  # including the padding\n",
    "print(n_words, n_tags)"
   ]
  },
  {
   "cell_type": "code",
   "execution_count": 116,
   "id": "8XA-F_Om0ZTn",
   "metadata": {
    "colab": {
     "base_uri": "https://localhost:8080/"
    },
    "executionInfo": {
     "elapsed": 571868,
     "status": "ok",
     "timestamp": 1628806508825,
     "user": {
      "displayName": "Bartłomiej Surpeta",
      "photoUrl": "https://lh3.googleusercontent.com/a-/AOh14Gims9u11iysaT9tr9s4-NxqqgNXlkXzvsKKeEKGdQ=s64",
      "userId": "08700191692100803480"
     },
     "user_tz": -120
    },
    "id": "8XA-F_Om0ZTn",
    "outputId": "38491383-80d8-4687-f515-a3ccfd34f26a"
   },
   "outputs": [
    {
     "name": "stdout",
     "output_type": "stream",
     "text": [
      "Model: \"sequential_8\"\n",
      "_________________________________________________________________\n",
      "Layer (type)                 Output Shape              Param #   \n",
      "=================================================================\n",
      "embedding_8 (Embedding)      (None, 500, 1000)         8586000   \n",
      "_________________________________________________________________\n",
      "conv1d_1 (Conv1D)            (None, 500, 256)          768256    \n",
      "_________________________________________________________________\n",
      "bidirectional_7 (Bidirection (None, 500, 256)          394240    \n",
      "_________________________________________________________________\n",
      "bidirectional_8 (Bidirection (None, 500, 128)          164352    \n",
      "_________________________________________________________________\n",
      "dense_14 (Dense)             (None, 500, 64)           8256      \n",
      "_________________________________________________________________\n",
      "dense_15 (Dense)             (None, 500, 32)           2080      \n",
      "_________________________________________________________________\n",
      "time_distributed_8 (TimeDist (None, 500, 9)            297       \n",
      "=================================================================\n",
      "Total params: 9,923,481\n",
      "Trainable params: 1,337,481\n",
      "Non-trainable params: 8,586,000\n",
      "_________________________________________________________________\n",
      "Epoch 1/100\n",
      "204/204 [==============================] - 30s 126ms/step - loss: 0.8463 - categorical_accuracy: 0.6945 - val_loss: 0.6754 - val_categorical_accuracy: 0.7505\n",
      "Epoch 2/100\n",
      "204/204 [==============================] - 24s 117ms/step - loss: 0.6631 - categorical_accuracy: 0.7558 - val_loss: 0.6380 - val_categorical_accuracy: 0.7655\n",
      "Epoch 3/100\n",
      "204/204 [==============================] - 24s 116ms/step - loss: 0.6369 - categorical_accuracy: 0.7670 - val_loss: 0.6178 - val_categorical_accuracy: 0.7739\n",
      "Epoch 4/100\n",
      "204/204 [==============================] - 24s 120ms/step - loss: 0.6180 - categorical_accuracy: 0.7749 - val_loss: 0.6043 - val_categorical_accuracy: 0.7798\n",
      "Epoch 5/100\n",
      "204/204 [==============================] - 24s 120ms/step - loss: 0.6061 - categorical_accuracy: 0.7793 - val_loss: 0.5923 - val_categorical_accuracy: 0.7843\n",
      "Epoch 6/100\n",
      "204/204 [==============================] - 24s 118ms/step - loss: 0.5993 - categorical_accuracy: 0.7822 - val_loss: 0.5934 - val_categorical_accuracy: 0.7839\n",
      "Epoch 7/100\n",
      "204/204 [==============================] - 24s 117ms/step - loss: 0.5888 - categorical_accuracy: 0.7862 - val_loss: 0.5873 - val_categorical_accuracy: 0.7862\n",
      "Epoch 8/100\n",
      "204/204 [==============================] - 25s 120ms/step - loss: 0.5813 - categorical_accuracy: 0.7893 - val_loss: 0.6104 - val_categorical_accuracy: 0.7773\n",
      "Epoch 9/100\n",
      "204/204 [==============================] - 24s 117ms/step - loss: 0.5750 - categorical_accuracy: 0.7917 - val_loss: 0.5810 - val_categorical_accuracy: 0.7897\n",
      "Epoch 10/100\n",
      "204/204 [==============================] - 24s 119ms/step - loss: 0.5681 - categorical_accuracy: 0.7946 - val_loss: 0.5773 - val_categorical_accuracy: 0.7904\n",
      "Epoch 11/100\n",
      "204/204 [==============================] - 24s 119ms/step - loss: 0.5600 - categorical_accuracy: 0.7976 - val_loss: 0.5785 - val_categorical_accuracy: 0.7912\n",
      "Epoch 12/100\n",
      "204/204 [==============================] - 24s 117ms/step - loss: 0.5537 - categorical_accuracy: 0.7998 - val_loss: 0.5727 - val_categorical_accuracy: 0.7922\n",
      "Epoch 13/100\n",
      "204/204 [==============================] - 24s 119ms/step - loss: 0.5505 - categorical_accuracy: 0.8012 - val_loss: 0.5716 - val_categorical_accuracy: 0.7936\n",
      "Epoch 14/100\n",
      "204/204 [==============================] - 24s 118ms/step - loss: 0.5440 - categorical_accuracy: 0.8036 - val_loss: 0.5746 - val_categorical_accuracy: 0.7920\n",
      "Epoch 15/100\n",
      "204/204 [==============================] - 24s 117ms/step - loss: 0.5343 - categorical_accuracy: 0.8074 - val_loss: 0.5891 - val_categorical_accuracy: 0.7877\n",
      "Epoch 16/100\n",
      "204/204 [==============================] - 24s 120ms/step - loss: 0.5294 - categorical_accuracy: 0.8091 - val_loss: 0.5826 - val_categorical_accuracy: 0.7905\n",
      "Epoch 17/100\n",
      "204/204 [==============================] - 24s 120ms/step - loss: 0.5238 - categorical_accuracy: 0.8112 - val_loss: 0.5867 - val_categorical_accuracy: 0.7904\n",
      "Epoch 18/100\n",
      "204/204 [==============================] - 24s 119ms/step - loss: 0.5152 - categorical_accuracy: 0.8142 - val_loss: 0.5843 - val_categorical_accuracy: 0.7921\n",
      "Epoch 19/100\n",
      "204/204 [==============================] - 24s 117ms/step - loss: 0.5094 - categorical_accuracy: 0.8162 - val_loss: 0.5971 - val_categorical_accuracy: 0.7894\n",
      "Epoch 20/100\n",
      "204/204 [==============================] - 24s 119ms/step - loss: 0.5029 - categorical_accuracy: 0.8183 - val_loss: 0.5923 - val_categorical_accuracy: 0.7919\n",
      "Epoch 21/100\n",
      "204/204 [==============================] - 24s 118ms/step - loss: 0.4967 - categorical_accuracy: 0.8206 - val_loss: 0.6046 - val_categorical_accuracy: 0.7913\n",
      "Epoch 22/100\n",
      "204/204 [==============================] - 24s 117ms/step - loss: 0.4905 - categorical_accuracy: 0.8229 - val_loss: 0.6374 - val_categorical_accuracy: 0.7829\n",
      "Epoch 23/100\n",
      "204/204 [==============================] - 25s 122ms/step - loss: 0.4884 - categorical_accuracy: 0.8235 - val_loss: 0.6045 - val_categorical_accuracy: 0.7908\n",
      "64/64 [==============================] - 4s 59ms/step - loss: 0.5828 - categorical_accuracy: 0.7893\n"
     ]
    }
   ],
   "source": [
    "# Conv1d + 2x BiLSTM + 2x Dense + protvec embeddings for Q8 structure prediction\n",
    "model9 = Sequential()\n",
    "model9.add(Embedding(input_dim = len(seq_index) + 1,\n",
    "                     output_dim = protvec_shape[1],\n",
    "                     weights=[embedding_matrix],\n",
    "                     input_length=maxlen,\n",
    "                     trainable=False))\n",
    "model9.add(Conv1D(256, 3, activation='relu', \n",
    "                  padding='same',\n",
    "                  input_shape=(len(seq_index) + 1,protvec_shape[1])))\n",
    "model9.add(Bidirectional(LSTM(units=128,\n",
    "                activation='tanh', \n",
    "                recurrent_activation='sigmoid', \n",
    "                return_sequences=True)))\n",
    "model9.add(Bidirectional(LSTM(units=64,\n",
    "                activation='tanh', \n",
    "                recurrent_activation='sigmoid', \n",
    "                return_sequences=True)))\n",
    "model9.add(Dense(64, activation='relu'))\n",
    "model9.add(Dense(32, activation='relu'))\n",
    "model9.add(TimeDistributed(Dense(n_tags, \n",
    "                                 activation=\"softmax\")))\n",
    "model9.summary()\n",
    "model9.compile(loss=\"categorical_crossentropy\",\n",
    "              optimizer=\"adam\",\n",
    "              metrics=[\"categorical_accuracy\"])\n",
    "model9_history = model9.fit(X_train,\n",
    "                            y_train_q8,\n",
    "                            validation_split=0.2,\n",
    "                            callbacks=[early_stopping], \n",
    "                            epochs=100)\n",
    "model9.save('../models/model9_conv1d_bilstm_x2_dense_x2_protvec_embeddings_q8.h5')\n",
    "model9.evaluate(X_test, y_test_q8)\n",
    "model9_hist_df = pd.DataFrame(model9_history.history)\n",
    "with open('../models/model9_conv1d_bilstm_x2_dense_x2_protvec_embeddings_q8_history.csv', 'w') as out:\n",
    "  model9_hist_df.to_csv(out)"
   ]
  },
  {
   "cell_type": "markdown",
   "id": "cfGq_REC49Hx",
   "metadata": {
    "id": "cfGq_REC49Hx"
   },
   "source": [
    "## __9. Where is the model making errors?__"
   ]
  },
  {
   "cell_type": "markdown",
   "id": "fee0ce03-afaa-46b0-af10-c3832ad9275d",
   "metadata": {},
   "source": [
    "#### __Evaluation of Q3 secondary structure prediction__"
   ]
  },
  {
   "cell_type": "code",
   "execution_count": 46,
   "id": "li2fQbTSSPUx",
   "metadata": {
    "executionInfo": {
     "elapsed": 3231,
     "status": "ok",
     "timestamp": 1628806530330,
     "user": {
      "displayName": "Bartłomiej Surpeta",
      "photoUrl": "https://lh3.googleusercontent.com/a-/AOh14Gims9u11iysaT9tr9s4-NxqqgNXlkXzvsKKeEKGdQ=s64",
      "userId": "08700191692100803480"
     },
     "user_tz": -120
    },
    "id": "li2fQbTSSPUx"
   },
   "outputs": [],
   "source": [
    "loaded_model8 = load_model('../models/model8_conv1d_bilstm_x2_dense_x2_protvec_embeddings.h5')"
   ]
  },
  {
   "cell_type": "code",
   "execution_count": 47,
   "id": "eORLv-EIZcDk",
   "metadata": {
    "colab": {
     "base_uri": "https://localhost:8080/"
    },
    "executionInfo": {
     "elapsed": 6039,
     "status": "ok",
     "timestamp": 1628806536364,
     "user": {
      "displayName": "Bartłomiej Surpeta",
      "photoUrl": "https://lh3.googleusercontent.com/a-/AOh14Gims9u11iysaT9tr9s4-NxqqgNXlkXzvsKKeEKGdQ=s64",
      "userId": "08700191692100803480"
     },
     "user_tz": -120
    },
    "id": "eORLv-EIZcDk",
    "outputId": "097b8444-cc78-4eb3-ab95-bb446938483b"
   },
   "outputs": [
    {
     "name": "stdout",
     "output_type": "stream",
     "text": [
      "64/64 [==============================] - 49s 741ms/step - loss: 0.3476 - categorical_accuracy: 0.8509\n"
     ]
    },
    {
     "data": {
      "text/plain": [
       "[0.3475867509841919, 0.8509101867675781]"
      ]
     },
     "execution_count": 47,
     "metadata": {},
     "output_type": "execute_result"
    }
   ],
   "source": [
    "loaded_model8.evaluate(X_test, y_test_q3)"
   ]
  },
  {
   "cell_type": "markdown",
   "id": "185b0e30-8629-40df-9de6-5c8004f6c641",
   "metadata": {},
   "source": [
    "#### Model reached 0.85 categorical accuracy and 0.35 loss on the test dataset for Q3 prediction"
   ]
  },
  {
   "cell_type": "code",
   "execution_count": 47,
   "id": "0_IsoKY6Uthg",
   "metadata": {
    "executionInfo": {
     "elapsed": 10526,
     "status": "ok",
     "timestamp": 1628810095678,
     "user": {
      "displayName": "Bartłomiej Surpeta",
      "photoUrl": "https://lh3.googleusercontent.com/a-/AOh14Gims9u11iysaT9tr9s4-NxqqgNXlkXzvsKKeEKGdQ=s64",
      "userId": "08700191692100803480"
     },
     "user_tz": -120
    },
    "id": "0_IsoKY6Uthg"
   },
   "outputs": [],
   "source": [
    "reversed_sst3_index = dict([(value, key) for (key, value) in sst3_index.items()])\n",
    "y_test_pred_q3 = loaded_model8.predict(X_test)\n",
    "sst3_model_eval_df = pd.DataFrame({'original_sst3': [''.join([reversed_sst3_index[np.argmax(x)] for x in y if np.argmax(x) != 0]) for y in y_test_q3],\n",
    "                                   'predicted_sst3_test': [''.join([reversed_sst3_index[np.argmax(x)] for x in y if np.argmax(x) != 0]) for y in y_test_pred_q3]})\n",
    "sst3_model_eval_df['correctly_assigned'] = analizer.compare_original_predicted(sst3_model_eval_df.predicted_sst3_test, sst3_model_eval_df.original_sst3)[0]\n",
    "sst3_model_eval_df['mistakes'] = analizer.compare_original_predicted(sst3_model_eval_df.predicted_sst3_test, sst3_model_eval_df.original_sst3)[1]"
   ]
  },
  {
   "cell_type": "code",
   "execution_count": 48,
   "id": "qbDj4cOMts7n",
   "metadata": {
    "colab": {
     "base_uri": "https://localhost:8080/",
     "height": 279
    },
    "executionInfo": {
     "elapsed": 534,
     "status": "ok",
     "timestamp": 1628811291302,
     "user": {
      "displayName": "Bartłomiej Surpeta",
      "photoUrl": "https://lh3.googleusercontent.com/a-/AOh14Gims9u11iysaT9tr9s4-NxqqgNXlkXzvsKKeEKGdQ=s64",
      "userId": "08700191692100803480"
     },
     "user_tz": -120
    },
    "id": "qbDj4cOMts7n",
    "outputId": "47b7841f-6b1b-4f8b-a54a-e06560a4116b"
   },
   "outputs": [
    {
     "data": {
      "image/png": "[encoded data removed]",
      "text/plain": [
       "<Figure size 432x288 with 1 Axes>"
      ]
     },
     "metadata": {
      "needs_background": "light"
     },
     "output_type": "display_data"
    },
    {
     "data": {
      "image/png": "[encoded data removed]",
      "text/plain": [
       "<Figure size 432x288 with 1 Axes>"
      ]
     },
     "metadata": {
      "needs_background": "light"
     },
     "output_type": "display_data"
    }
   ],
   "source": [
    "visualizer.visualize_occurrence(feature_series=sst3_model_eval_df.original_sst3, xlabel='original sst3').show()\n",
    "visualizer.visualize_occurrence(feature_series=sst3_model_eval_df.predicted_sst3_test, xlabel='predicted sst3').show()"
   ]
  },
  {
   "cell_type": "markdown",
   "id": "ef764350-da16-4bbb-93fc-fd2780d6b73e",
   "metadata": {},
   "source": [
    "#### Comparison on the distribution of particular secondary structure elements indicates, that the overall trend of the prediction is maintained - highest occurance of the coils (C), followed by the helices (H) and finally extended conformations (E), which corresponds nicely with the initial exploration of the original data. Nevertheless, one can observe decreased occurance of the extended conformations in the predicted sequences (lower plot) compared to original set (upper plot), which indicates imperfections in the model."
   ]
  },
  {
   "cell_type": "code",
   "execution_count": 49,
   "id": "UTv83BG5rtPu",
   "metadata": {
    "colab": {
     "base_uri": "https://localhost:8080/"
    },
    "executionInfo": {
     "elapsed": 315,
     "status": "ok",
     "timestamp": 1628810714986,
     "user": {
      "displayName": "Bartłomiej Surpeta",
      "photoUrl": "https://lh3.googleusercontent.com/a-/AOh14Gims9u11iysaT9tr9s4-NxqqgNXlkXzvsKKeEKGdQ=s64",
      "userId": "08700191692100803480"
     },
     "user_tz": -120
    },
    "id": "UTv83BG5rtPu",
    "outputId": "4facae97-8555-4c0b-a961-fbaee16d2358"
   },
   "outputs": [
    {
     "data": {
      "text/plain": [
       "0.71"
      ]
     },
     "execution_count": 49,
     "metadata": {},
     "output_type": "execute_result"
    }
   ],
   "source": [
    "sst3_model_eval_df.correctly_assigned.mean().round(2)"
   ]
  },
  {
   "cell_type": "markdown",
   "id": "e02cdb25-ef30-47f8-9c00-3bdaad16e924",
   "metadata": {},
   "source": [
    "#### Investigaton of the corresponding original and predicted secondary structure elements in terms proper classification indicates that on average __71%__ of the positions was predicted correctly in the test set "
   ]
  },
  {
   "cell_type": "code",
   "execution_count": 51,
   "id": "k2bt6wrZsC1m",
   "metadata": {
    "colab": {
     "base_uri": "https://localhost:8080/",
     "height": 265
    },
    "executionInfo": {
     "elapsed": 328,
     "status": "ok",
     "timestamp": 1628811126955,
     "user": {
      "displayName": "Bartłomiej Surpeta",
      "photoUrl": "https://lh3.googleusercontent.com/a-/AOh14Gims9u11iysaT9tr9s4-NxqqgNXlkXzvsKKeEKGdQ=s64",
      "userId": "08700191692100803480"
     },
     "user_tz": -120
    },
    "id": "k2bt6wrZsC1m",
    "outputId": "1779de90-f34a-4b30-d031-75863c333ecc"
   },
   "outputs": [
    {
     "data": {
      "image/png": "[encoded data removed]",
      "text/plain": [
       "<Figure size 1440x432 with 1 Axes>"
      ]
     },
     "metadata": {
      "needs_background": "light"
     },
     "output_type": "display_data"
    }
   ],
   "source": [
    "sst3_mistakes_summary = dict(Counter(list(itertools.chain.from_iterable(sst3_model_eval_df.mistakes.values.tolist()))))\n",
    "plt.figure(figsize=(20,6))\n",
    "plt.bar(x=np.arange(len(sst3_mistakes_summary)), height=[x/sum(sst3_mistakes_summary.values()) for x in sst3_mistakes_summary.values()]) \n",
    "plt.xticks(ticks=np.arange(len(sst3_mistakes_summary)), labels=sst3_mistakes_summary.keys())\n",
    "plt.show()"
   ]
  },
  {
   "cell_type": "markdown",
   "id": "9712f6e8-eb26-4e20-96d2-6772353c1316",
   "metadata": {},
   "source": [
    "#### Further analysis suggests that three the most frequently occuring errors in the secondary structure predictions are assignment of coil instead of helix (C-H), helix instead of coil (H-C) and coil instead of extended conformation (C-E). This explained decreased occurance of predicted E, as first two approximately balance each other, while the latter results on the gain in coil occurance which decrease the occurance of extended conformation."
   ]
  },
  {
   "cell_type": "markdown",
   "id": "9905690b-2d32-43ef-81fd-440bf0e91413",
   "metadata": {},
   "source": [
    "##### __Q3 best predictions__"
   ]
  },
  {
   "cell_type": "code",
   "execution_count": 63,
   "id": "c0bf226f-b6b7-484f-9d4b-4bb1b559618c",
   "metadata": {},
   "outputs": [
    {
     "data": {
      "text/html": [
       "<div>\n",
       "<style scoped>\n",
       "    .dataframe tbody tr th:only-of-type {\n",
       "        vertical-align: middle;\n",
       "    }\n",
       "\n",
       "    .dataframe tbody tr th {\n",
       "        vertical-align: top;\n",
       "    }\n",
       "\n",
       "    .dataframe thead th {\n",
       "        text-align: right;\n",
       "    }\n",
       "</style>\n",
       "<table border=\"1\" class=\"dataframe\">\n",
       "  <thead>\n",
       "    <tr style=\"text-align: right;\">\n",
       "      <th></th>\n",
       "      <th>original_sst3</th>\n",
       "      <th>predicted_sst3_test</th>\n",
       "      <th>correctly_assigned</th>\n",
       "      <th>mistakes</th>\n",
       "    </tr>\n",
       "  </thead>\n",
       "  <tbody>\n",
       "    <tr>\n",
       "      <th>122</th>\n",
       "      <td>CCCCCCCCCCCCCCCCCCCCCCC</td>\n",
       "      <td>CCCCCCCCCCCCCCCCCCCCCCC</td>\n",
       "      <td>1.0</td>\n",
       "      <td>[]</td>\n",
       "    </tr>\n",
       "    <tr>\n",
       "      <th>379</th>\n",
       "      <td>CCCCCCCCCCCCCCCCCCCCCC</td>\n",
       "      <td>CCCCCCCCCCCCCCCCCCCCCC</td>\n",
       "      <td>1.0</td>\n",
       "      <td>[]</td>\n",
       "    </tr>\n",
       "    <tr>\n",
       "      <th>1615</th>\n",
       "      <td>CCCCCCCC</td>\n",
       "      <td>CCCCCCCC</td>\n",
       "      <td>1.0</td>\n",
       "      <td>[]</td>\n",
       "    </tr>\n",
       "    <tr>\n",
       "      <th>1888</th>\n",
       "      <td>CCCCCCCCCCCCCCCCCCCC</td>\n",
       "      <td>CCCCCCCCCCCCCCCCCCCC</td>\n",
       "      <td>1.0</td>\n",
       "      <td>[]</td>\n",
       "    </tr>\n",
       "  </tbody>\n",
       "</table>\n",
       "</div>"
      ],
      "text/plain": [
       "                original_sst3      predicted_sst3_test  correctly_assigned  \\\n",
       "122   CCCCCCCCCCCCCCCCCCCCCCC  CCCCCCCCCCCCCCCCCCCCCCC                 1.0   \n",
       "379    CCCCCCCCCCCCCCCCCCCCCC   CCCCCCCCCCCCCCCCCCCCCC                 1.0   \n",
       "1615                 CCCCCCCC                 CCCCCCCC                 1.0   \n",
       "1888     CCCCCCCCCCCCCCCCCCCC     CCCCCCCCCCCCCCCCCCCC                 1.0   \n",
       "\n",
       "     mistakes  \n",
       "122        []  \n",
       "379        []  \n",
       "1615       []  \n",
       "1888       []  "
      ]
     },
     "execution_count": 63,
     "metadata": {},
     "output_type": "execute_result"
    }
   ],
   "source": [
    "sst3_model_eval_df[sst3_model_eval_df.correctly_assigned == sst3_model_eval_df.correctly_assigned.max()]"
   ]
  },
  {
   "cell_type": "markdown",
   "id": "8e1565ec-e32a-47ad-8e26-269c99b59021",
   "metadata": {},
   "source": [
    "##### __Q3 worst predictions__"
   ]
  },
  {
   "cell_type": "code",
   "execution_count": 70,
   "id": "b66ca329-63e7-4fcc-8317-77cd390db12d",
   "metadata": {},
   "outputs": [
    {
     "data": {
      "text/plain": [
       "array([['CCCCCCCCCCCCEEEEEECCEEEECCCCEEEEEEEECCCCEEEEEECCCCCCCCCCCHHHHCCCCCCCEEEEECCCEEEECCCCEEEEEEEEEECCEEEEEEEECCCC',\n",
       "        'CCCCCCCCCCCHHHHHHHCCCCHHHHHHHHHHHHHHHCHHHHHHHHHCCCCCCCCCCCHHHHHHHHHHHHHHCHHHHHCCCHHHHHHHHHHHHHHHHHHHHHHHCCCC',\n",
       "        0.2962962962962963,\n",
       "        list(['H-C', 'H-E', 'H-E', 'H-E', 'H-E', 'H-E', 'H-E', 'C-E', 'C-E', 'H-E', 'H-E', 'H-C', 'H-C', 'H-C', 'H-C', 'H-E', 'H-E', 'H-E', 'H-E', 'H-E', 'H-E', 'H-E', 'H-E', 'H-C', 'H-C', 'H-C', 'H-E', 'H-E', 'H-E', 'H-E', 'H-E', 'H-E', 'H-C', 'C-H', 'H-C', 'H-C', 'H-C', 'H-C', 'H-C', 'H-C', 'H-C', 'H-E', 'H-E', 'H-E', 'H-E', 'C-E', 'H-C', 'H-C', 'H-C', 'H-E', 'H-E', 'C-E', 'C-E', 'H-C', 'H-C', 'H-C', 'H-E', 'H-E', 'H-E', 'H-E', 'H-E', 'H-E', 'H-E', 'H-E', 'H-E', 'H-E', 'H-C', 'H-C', 'H-E', 'H-E', 'H-E', 'H-E', 'H-E', 'H-E', 'H-E', 'H-E'])]],\n",
       "      dtype=object)"
      ]
     },
     "execution_count": 70,
     "metadata": {},
     "output_type": "execute_result"
    }
   ],
   "source": [
    "sst3_model_eval_df[sst3_model_eval_df.correctly_assigned == sst3_model_eval_df.correctly_assigned.min()].values"
   ]
  },
  {
   "cell_type": "markdown",
   "id": "d6477425-c7bb-4e4e-a6b5-caa4e0c3b096",
   "metadata": {},
   "source": [
    "#### __Evaluation of Q8 secondary structure prediction__"
   ]
  },
  {
   "cell_type": "code",
   "execution_count": 52,
   "id": "EFmeVXElEkjn",
   "metadata": {
    "executionInfo": {
     "elapsed": 3480,
     "status": "ok",
     "timestamp": 1628806520481,
     "user": {
      "displayName": "Bartłomiej Surpeta",
      "photoUrl": "https://lh3.googleusercontent.com/a-/AOh14Gims9u11iysaT9tr9s4-NxqqgNXlkXzvsKKeEKGdQ=s64",
      "userId": "08700191692100803480"
     },
     "user_tz": -120
    },
    "id": "EFmeVXElEkjn"
   },
   "outputs": [],
   "source": [
    "loaded_model9 = load_model('../models/model9_conv1d_bilstm_x2_dense_x2_protvec_embeddings_q8.h5')"
   ]
  },
  {
   "cell_type": "code",
   "execution_count": 57,
   "id": "dl6v70lPE-iM",
   "metadata": {
    "colab": {
     "base_uri": "https://localhost:8080/"
    },
    "executionInfo": {
     "elapsed": 5312,
     "status": "ok",
     "timestamp": 1628806527103,
     "user": {
      "displayName": "Bartłomiej Surpeta",
      "photoUrl": "https://lh3.googleusercontent.com/a-/AOh14Gims9u11iysaT9tr9s4-NxqqgNXlkXzvsKKeEKGdQ=s64",
      "userId": "08700191692100803480"
     },
     "user_tz": -120
    },
    "id": "dl6v70lPE-iM",
    "outputId": "3e096a82-f06f-472a-b493-8671174cdcce"
   },
   "outputs": [
    {
     "name": "stdout",
     "output_type": "stream",
     "text": [
      "64/64 [==============================] - 52s 785ms/step - loss: 0.5828 - categorical_accuracy: 0.7893\n"
     ]
    },
    {
     "data": {
      "text/plain": [
       "[0.5827717185020447, 0.7893205881118774]"
      ]
     },
     "execution_count": 57,
     "metadata": {},
     "output_type": "execute_result"
    }
   ],
   "source": [
    "loaded_model9.evaluate(X_test, y_test_q8)"
   ]
  },
  {
   "cell_type": "markdown",
   "id": "3402c1b6-a52a-492c-bb05-1fd2a726227e",
   "metadata": {},
   "source": [
    "#### Model reached 0.79 categorical accuracy and 0.58 loss on the test dataset for Q8 prediction"
   ]
  },
  {
   "cell_type": "code",
   "execution_count": 53,
   "id": "DZMF0qPff_f2",
   "metadata": {
    "executionInfo": {
     "elapsed": 10177,
     "status": "ok",
     "timestamp": 1628810105835,
     "user": {
      "displayName": "Bartłomiej Surpeta",
      "photoUrl": "https://lh3.googleusercontent.com/a-/AOh14Gims9u11iysaT9tr9s4-NxqqgNXlkXzvsKKeEKGdQ=s64",
      "userId": "08700191692100803480"
     },
     "user_tz": -120
    },
    "id": "DZMF0qPff_f2"
   },
   "outputs": [],
   "source": [
    "reversed_sst8_index = dict([(value, key) for (key, value) in sst8_index.items()])\n",
    "y_test_pred_q8 = loaded_model9.predict(X_test)\n",
    "sst8_model_eval_df = pd.DataFrame({'original_sst8': [''.join([reversed_sst8_index[np.argmax(x)] for x in y if np.argmax(x) != 0]) for y in y_test_q8],\n",
    "                                   'predicted_sst8_test': [''.join([reversed_sst8_index[np.argmax(x)] for x in y if np.argmax(x) != 0]) for y in y_test_pred_q8]})\n",
    "sst8_model_eval_df['correctly_assigned'] = analizer.compare_original_predicted(sst8_model_eval_df.predicted_sst8_test, sst8_model_eval_df.original_sst8)[0]\n",
    "sst8_model_eval_df['mistakes'] = analizer.compare_original_predicted(sst8_model_eval_df.predicted_sst8_test, sst8_model_eval_df.original_sst8)[1]"
   ]
  },
  {
   "cell_type": "code",
   "execution_count": 54,
   "id": "JGg1fq2Wuq6C",
   "metadata": {
    "colab": {
     "base_uri": "https://localhost:8080/",
     "height": 279
    },
    "executionInfo": {
     "elapsed": 326,
     "status": "ok",
     "timestamp": 1628811631682,
     "user": {
      "displayName": "Bartłomiej Surpeta",
      "photoUrl": "https://lh3.googleusercontent.com/a-/AOh14Gims9u11iysaT9tr9s4-NxqqgNXlkXzvsKKeEKGdQ=s64",
      "userId": "08700191692100803480"
     },
     "user_tz": -120
    },
    "id": "JGg1fq2Wuq6C",
    "outputId": "3e7d4f36-ef60-43c1-bb49-b9640f3ce951"
   },
   "outputs": [
    {
     "data": {
      "image/png": "[encoded data removed]",
      "text/plain": [
       "<Figure size 432x288 with 1 Axes>"
      ]
     },
     "metadata": {
      "needs_background": "light"
     },
     "output_type": "display_data"
    },
    {
     "data": {
      "image/png": "[encoded data removed]",
      "text/plain": [
       "<Figure size 432x288 with 1 Axes>"
      ]
     },
     "metadata": {
      "needs_background": "light"
     },
     "output_type": "display_data"
    }
   ],
   "source": [
    "visualizer.visualize_occurrence(feature_series=sst8_model_eval_df.original_sst8, xlabel='original sst8').show()\n",
    "visualizer.visualize_occurrence(feature_series=sst8_model_eval_df.predicted_sst8_test, xlabel='predicted sst8').show()"
   ]
  },
  {
   "cell_type": "markdown",
   "id": "b9782824-5bd1-4736-81f6-bdb5d51cbbca",
   "metadata": {},
   "source": [
    "#### Comparison of the distribution of particular secondary structure elements indicates, that the overall trend of the prediction is maintained for six most frequent secondary structure types. Nevertheless, one can observe lack of the assignment of B and I stucture and relatively underestimated assignment of S and G, while H, C and E were relatively more frequently occuring in predicted structures (lower plot) compared to original structures (upper plot)"
   ]
  },
  {
   "cell_type": "code",
   "execution_count": 116,
   "id": "-dYy0alSu9bN",
   "metadata": {
    "colab": {
     "base_uri": "https://localhost:8080/"
    },
    "executionInfo": {
     "elapsed": 252,
     "status": "ok",
     "timestamp": 1628811647273,
     "user": {
      "displayName": "Bartłomiej Surpeta",
      "photoUrl": "https://lh3.googleusercontent.com/a-/AOh14Gims9u11iysaT9tr9s4-NxqqgNXlkXzvsKKeEKGdQ=s64",
      "userId": "08700191692100803480"
     },
     "user_tz": -120
    },
    "id": "-dYy0alSu9bN",
    "outputId": "24733a96-1ed5-4544-eb41-5883ac047317"
   },
   "outputs": [
    {
     "data": {
      "text/plain": [
       "0.59"
      ]
     },
     "execution_count": 116,
     "metadata": {},
     "output_type": "execute_result"
    }
   ],
   "source": [
    "sst8_model_eval_df.correctly_assigned.mean().round(2)"
   ]
  },
  {
   "cell_type": "markdown",
   "id": "fa59a8c7-84ff-4abb-9728-0ea006f5785f",
   "metadata": {},
   "source": [
    "#### Investigaton of the corresponding original and predicted secondary structure elements in terms proper classification indicates that on average __59%__ of the positions was predicted correctly in the test set, reaching lower success compared to Q3 prediction as expected (due to higher complexity)"
   ]
  },
  {
   "cell_type": "code",
   "execution_count": 121,
   "id": "Vo8Ipivxv2JO",
   "metadata": {
    "colab": {
     "base_uri": "https://localhost:8080/",
     "height": 374
    },
    "executionInfo": {
     "elapsed": 803,
     "status": "ok",
     "timestamp": 1628811840442,
     "user": {
      "displayName": "Bartłomiej Surpeta",
      "photoUrl": "https://lh3.googleusercontent.com/a-/AOh14Gims9u11iysaT9tr9s4-NxqqgNXlkXzvsKKeEKGdQ=s64",
      "userId": "08700191692100803480"
     },
     "user_tz": -120
    },
    "id": "Vo8Ipivxv2JO",
    "outputId": "2a9341e9-2f6a-4b50-faef-23dc61d9286e"
   },
   "outputs": [
    {
     "data": {
      "image/png": "[encoded data removed]",
      "text/plain": [
       "<Figure size 1440x432 with 1 Axes>"
      ]
     },
     "metadata": {
      "needs_background": "light"
     },
     "output_type": "display_data"
    }
   ],
   "source": [
    "sst8_mistakes_summary = dict(Counter(list(itertools.chain.from_iterable(sst8_model_eval_df.mistakes.values.tolist()))))\n",
    "plt.figure(figsize=(20,6))\n",
    "plt.bar(x=np.arange(len(sst8_mistakes_summary)), height=[x/sum(sst8_mistakes_summary.values()) for x in sst8_mistakes_summary.values()]) \n",
    "plt.xticks(ticks=np.arange(len(sst8_mistakes_summary)), labels=sst8_mistakes_summary.keys())\n",
    "plt.show()"
   ]
  },
  {
   "cell_type": "markdown",
   "id": "0087f333-6ed7-4c91-859d-f34a98b92f79",
   "metadata": {},
   "source": [
    "#### Further analysis suggests that three the most frequently occuring errors in the Q8 secondary structure predictions are assignment of helix instead of coil (H-C), extended conformation instead of coil (E-C) and coil instead of S, which is type of coil structure (C-S)."
   ]
  },
  {
   "cell_type": "markdown",
   "id": "90e328ac-26bc-46ec-9705-e2e576253d79",
   "metadata": {},
   "source": [
    "##### __Q8 best predictions__"
   ]
  },
  {
   "cell_type": "code",
   "execution_count": 66,
   "id": "5dab2a44-75a2-4836-84bb-a928b4c30a40",
   "metadata": {},
   "outputs": [
    {
     "data": {
      "text/html": [
       "<div>\n",
       "<style scoped>\n",
       "    .dataframe tbody tr th:only-of-type {\n",
       "        vertical-align: middle;\n",
       "    }\n",
       "\n",
       "    .dataframe tbody tr th {\n",
       "        vertical-align: top;\n",
       "    }\n",
       "\n",
       "    .dataframe thead th {\n",
       "        text-align: right;\n",
       "    }\n",
       "</style>\n",
       "<table border=\"1\" class=\"dataframe\">\n",
       "  <thead>\n",
       "    <tr style=\"text-align: right;\">\n",
       "      <th></th>\n",
       "      <th>original_sst8</th>\n",
       "      <th>predicted_sst8_test</th>\n",
       "      <th>correctly_assigned</th>\n",
       "      <th>mistakes</th>\n",
       "    </tr>\n",
       "  </thead>\n",
       "  <tbody>\n",
       "    <tr>\n",
       "      <th>1662</th>\n",
       "      <td>CCHHHHHHHHHHHHHHHHHHHHHHHHHHHHHHHHCC</td>\n",
       "      <td>CCHHHHHHHHHHHHHHHHHHHHHHHHHHHHHHHCCC</td>\n",
       "      <td>0.972222</td>\n",
       "      <td>[C-H]</td>\n",
       "    </tr>\n",
       "  </tbody>\n",
       "</table>\n",
       "</div>"
      ],
      "text/plain": [
       "                             original_sst8  \\\n",
       "1662  CCHHHHHHHHHHHHHHHHHHHHHHHHHHHHHHHHCC   \n",
       "\n",
       "                       predicted_sst8_test  correctly_assigned mistakes  \n",
       "1662  CCHHHHHHHHHHHHHHHHHHHHHHHHHHHHHHHCCC            0.972222    [C-H]  "
      ]
     },
     "execution_count": 66,
     "metadata": {},
     "output_type": "execute_result"
    }
   ],
   "source": [
    "sst8_model_eval_df[sst8_model_eval_df.correctly_assigned == sst8_model_eval_df.correctly_assigned.max()]"
   ]
  },
  {
   "cell_type": "markdown",
   "id": "619d71cc-c6e8-487e-a0fe-a50e6d0c26c6",
   "metadata": {},
   "source": [
    "##### __Q8 worst predictions__"
   ]
  },
  {
   "cell_type": "code",
   "execution_count": 69,
   "id": "705c640f-352c-4e9c-a892-afdca7c8b082",
   "metadata": {},
   "outputs": [
    {
     "data": {
      "text/plain": [
       "array([['CCEEEEEECTTTSSECSEEEC', 'CCCCCCCCCCCCCCCEEECCC',\n",
       "        0.23809523809523808,\n",
       "        list(['C-E', 'C-E', 'C-E', 'C-E', 'C-E', 'C-E', 'C-T', 'C-T', 'C-T', 'C-S', 'C-S', 'C-E', 'E-C', 'E-S', 'C-E', 'C-E'])]],\n",
       "      dtype=object)"
      ]
     },
     "execution_count": 69,
     "metadata": {},
     "output_type": "execute_result"
    }
   ],
   "source": [
    "sst8_model_eval_df[sst8_model_eval_df.correctly_assigned == sst8_model_eval_df.correctly_assigned.min()].values"
   ]
  },
  {
   "cell_type": "markdown",
   "id": "An01rrLw5jQW",
   "metadata": {
    "id": "An01rrLw5jQW"
   },
   "source": [
    "## __10. Summary__"
   ]
  },
  {
   "cell_type": "markdown",
   "id": "3088c549-26ad-451b-b387-a581b5f8eba9",
   "metadata": {},
   "source": [
    "#### While building a model, with increasing complexity of the network I was gradually gaining improved categorical accuracy for the Q3 protein secondary structure prediction with the lowest score for the model1 (LSTM with self-defined embedding) and the best score for the model8 (Conv1d + 2x BiLSTM + 2x Dense + protvec embeddings). I hypothesize, that increasing the complexity of the networks may still improve the predictions, as indicated in the literature (2) but due to the time constraints on the project preparation and limited computational resources I have limited the complexity of the models up to model8-level complexity. The Q8 secondary structure prediciton using model9 being analogous variant of model8 reached lower categorical accuaracy due to significantly more complex and difficult task as compared to Q3 prediction (8). \n",
    "\n",
    "#### Furthermore, model8 (Q3 prediction) on average predicted around 71% positions correctly, while model9 (Q9) exhibited 59% of correctly assigned secondary structure types, which indicates need for further improvements of the model to gain more reliable predicitions. One of the solutions could be to continue expanding the complexity of the model as mentioned above. On the other hand, as implemented by psnjiki in (9), another custom metric could be used while building a model which could result in improved final performance of the model and better ratio of correctly assigned secondary structure types either in Q3 or Q8 predictions.\n",
    "\n",
    "#### Overall, although the model is not perfect, it is worth noting that it is build on the real and up-to-date PDB and PISCES dataset and aims at generally non-trivial task, hence the initial results obtained in this project are interesting and constitute promising start for potential in-dept investigation and optimization."
   ]
  },
  {
   "cell_type": "markdown",
   "id": "1a60oi9h5mVm",
   "metadata": {
    "id": "1a60oi9h5mVm"
   },
   "source": [
    "## __11. References__"
   ]
  },
  {
   "cell_type": "markdown",
   "id": "81c9fac1-a665-452f-bc33-60d3af5ab5ae",
   "metadata": {
    "id": "IbtqwAMy5gJ_"
   },
   "source": [
    "1. https://www.dnastar.com/blog/structural-biology/why-structure-prediction-matters/\n",
    "\n",
    "2. Yang Y, Gao J, Wang J, Heffernan R, Hanson J, Paliwal K, Zhou Y. Sixty-five years of the long march in protein secondary structure prediction: the final stretch? Brief Bioinform. 2018 May 1;19(3):482-494. doi: 10.1093/bib/bbw129. PMID: 28040746; PMCID: PMC5952956. https://pubmed.ncbi.nlm.nih.gov/28040746/\n",
    "\n",
    "3. Asgari E, Mofrad MRK (2015) Continuous Distributed Representation of Biological Sequences for Deep Proteomics and Genomics. PLOS ONE 10(11): e0141287. https://doi.org/10.1371/journal.pone.0141287\n",
    "\n",
    "4. https://www.kaggle.com/alfrandom/protein-secondary-structure\n",
    "\n",
    "5. https://github.com/zyxue/pdb-secondary-structure\n",
    "\n",
    "6. http://dunbrack.fccc.edu/Guoli/pisces_download.php\n",
    "\n",
    "7. J. Chem. Inf. Model. 2020, 60, 6, 2773–2790 https://doi.org/10.1021/acs.jcim.0c00073\n",
    "\n",
    "8. Zhang, B., Li, J. & Lü, Q. Prediction of 8-state protein secondary structures by a novel deep learning architecture. BMC Bioinformatics 19, 293 (2018). https://doi.org/10.1186/s12859-018-2280-5\n",
    "\n",
    "9. https://gist.github.com/psnjiki/9b668e185a2d27aeb9602e92653e9741\n"
   ]
  }
 ],
 "metadata": {
  "accelerator": "GPU",
  "colab": {
   "collapsed_sections": [],
   "name": "protein_structure_prediction.ipynb",
   "provenance": []
  },
  "kernelspec": {
   "display_name": "Python 3",
   "language": "python",
   "name": "python3"
  },
  "language_info": {
   "codemirror_mode": {
    "name": "ipython",
    "version": 3
   },
   "file_extension": ".py",
   "mimetype": "text/x-python",
   "name": "python",
   "nbconvert_exporter": "python",
   "pygments_lexer": "ipython3",
   "version": "3.8.8"
  }
 },
 "nbformat": 4,
 "nbformat_minor": 5
}
